{
 "cells": [
  {
   "cell_type": "markdown",
   "id": "3b50446a",
   "metadata": {},
   "source": [
    "1. 데이터를 로드/간단한 전처리\n",
    "2. 로지스틱 회귀모델을 사용하여 예측\n",
    "3. ROC Curve를 통해 모델의 성능확인"
   ]
  },
  {
   "cell_type": "code",
   "execution_count": 2,
   "id": "da5125af",
   "metadata": {},
   "outputs": [],
   "source": [
    "import numpy as np\n",
    "import pandas as pd\n",
    "from sklearn.linear_model import LogisticRegression\n",
    "from sklearn.model_selection import train_test_split\n",
    "from sklearn.metrics import confusion_matrix\n",
    "from sklearn.metrics import accuracy_score, roc_auc_score, roc_curve\n",
    "from sklearn import metrics\n",
    "import statsmodels.api as sm\n",
    "import matplotlib.pyplot as plt\n",
    "import time"
   ]
  },
  {
   "cell_type": "code",
   "execution_count": 5,
   "id": "1b4250ec",
   "metadata": {},
   "outputs": [
    {
     "data": {
      "text/html": [
       "<div>\n",
       "<style scoped>\n",
       "    .dataframe tbody tr th:only-of-type {\n",
       "        vertical-align: middle;\n",
       "    }\n",
       "\n",
       "    .dataframe tbody tr th {\n",
       "        vertical-align: top;\n",
       "    }\n",
       "\n",
       "    .dataframe thead th {\n",
       "        text-align: right;\n",
       "    }\n",
       "</style>\n",
       "<table border=\"1\" class=\"dataframe\">\n",
       "  <thead>\n",
       "    <tr style=\"text-align: right;\">\n",
       "      <th></th>\n",
       "      <th>ID</th>\n",
       "      <th>Age</th>\n",
       "      <th>Experience</th>\n",
       "      <th>Income</th>\n",
       "      <th>ZIP Code</th>\n",
       "      <th>Family</th>\n",
       "      <th>CCAvg</th>\n",
       "      <th>Education</th>\n",
       "      <th>Mortgage</th>\n",
       "      <th>Personal Loan</th>\n",
       "      <th>Securities Account</th>\n",
       "      <th>CD Account</th>\n",
       "      <th>Online</th>\n",
       "      <th>CreditCard</th>\n",
       "    </tr>\n",
       "  </thead>\n",
       "  <tbody>\n",
       "    <tr>\n",
       "      <th>0</th>\n",
       "      <td>1</td>\n",
       "      <td>25</td>\n",
       "      <td>1</td>\n",
       "      <td>49</td>\n",
       "      <td>91107</td>\n",
       "      <td>4</td>\n",
       "      <td>1.6</td>\n",
       "      <td>1</td>\n",
       "      <td>0</td>\n",
       "      <td>0</td>\n",
       "      <td>1</td>\n",
       "      <td>0</td>\n",
       "      <td>0</td>\n",
       "      <td>0</td>\n",
       "    </tr>\n",
       "    <tr>\n",
       "      <th>1</th>\n",
       "      <td>2</td>\n",
       "      <td>45</td>\n",
       "      <td>19</td>\n",
       "      <td>34</td>\n",
       "      <td>90089</td>\n",
       "      <td>3</td>\n",
       "      <td>1.5</td>\n",
       "      <td>1</td>\n",
       "      <td>0</td>\n",
       "      <td>0</td>\n",
       "      <td>1</td>\n",
       "      <td>0</td>\n",
       "      <td>0</td>\n",
       "      <td>0</td>\n",
       "    </tr>\n",
       "    <tr>\n",
       "      <th>2</th>\n",
       "      <td>3</td>\n",
       "      <td>39</td>\n",
       "      <td>15</td>\n",
       "      <td>11</td>\n",
       "      <td>94720</td>\n",
       "      <td>1</td>\n",
       "      <td>1.0</td>\n",
       "      <td>1</td>\n",
       "      <td>0</td>\n",
       "      <td>0</td>\n",
       "      <td>0</td>\n",
       "      <td>0</td>\n",
       "      <td>0</td>\n",
       "      <td>0</td>\n",
       "    </tr>\n",
       "    <tr>\n",
       "      <th>3</th>\n",
       "      <td>4</td>\n",
       "      <td>35</td>\n",
       "      <td>9</td>\n",
       "      <td>100</td>\n",
       "      <td>94112</td>\n",
       "      <td>1</td>\n",
       "      <td>2.7</td>\n",
       "      <td>2</td>\n",
       "      <td>0</td>\n",
       "      <td>0</td>\n",
       "      <td>0</td>\n",
       "      <td>0</td>\n",
       "      <td>0</td>\n",
       "      <td>0</td>\n",
       "    </tr>\n",
       "    <tr>\n",
       "      <th>4</th>\n",
       "      <td>5</td>\n",
       "      <td>35</td>\n",
       "      <td>8</td>\n",
       "      <td>45</td>\n",
       "      <td>91330</td>\n",
       "      <td>4</td>\n",
       "      <td>1.0</td>\n",
       "      <td>2</td>\n",
       "      <td>0</td>\n",
       "      <td>0</td>\n",
       "      <td>0</td>\n",
       "      <td>0</td>\n",
       "      <td>0</td>\n",
       "      <td>1</td>\n",
       "    </tr>\n",
       "  </tbody>\n",
       "</table>\n",
       "</div>"
      ],
      "text/plain": [
       "   ID  Age  Experience  Income  ZIP Code  Family  CCAvg  Education  Mortgage  \\\n",
       "0   1   25           1      49     91107       4    1.6          1         0   \n",
       "1   2   45          19      34     90089       3    1.5          1         0   \n",
       "2   3   39          15      11     94720       1    1.0          1         0   \n",
       "3   4   35           9     100     94112       1    2.7          2         0   \n",
       "4   5   35           8      45     91330       4    1.0          2         0   \n",
       "\n",
       "   Personal Loan  Securities Account  CD Account  Online  CreditCard  \n",
       "0              0                   1           0       0           0  \n",
       "1              0                   1           0       0           0  \n",
       "2              0                   0           0       0           0  \n",
       "3              0                   0           0       0           0  \n",
       "4              0                   0           0       0           1  "
      ]
     },
     "execution_count": 5,
     "metadata": {},
     "output_type": "execute_result"
    }
   ],
   "source": [
    "ploan = pd.read_csv('datasets/Personal Loan.csv')\n",
    "ploan.head()"
   ]
  },
  {
   "cell_type": "code",
   "execution_count": 7,
   "id": "3d7ce94a",
   "metadata": {},
   "outputs": [],
   "source": [
    "#사용하지 않는 변수 제거\n",
    "ploan_processed=ploan.drop(['ID','ZIP Code'], axis=1, inplace=False)"
   ]
  },
  {
   "cell_type": "code",
   "execution_count": 8,
   "id": "284d83bb",
   "metadata": {},
   "outputs": [],
   "source": [
    "# 회귀모델에서 b0를 위한 상수항 추가\n",
    "ploan_processed['const']=1.0"
   ]
  },
  {
   "cell_type": "code",
   "execution_count": 9,
   "id": "aae55f30",
   "metadata": {},
   "outputs": [],
   "source": [
    "#대출여부가 1 또는 0으로 결정되므로 로지스틱 회귀모형이 적합하다.\n",
    "feature_columns = ploan_processed.columns.difference([\"Personal Loan\"])\n",
    "X = ploan_processed[feature_columns]\n",
    "y = ploan_processed[\"Personal Loan\"]"
   ]
  },
  {
   "cell_type": "code",
   "execution_count": 10,
   "id": "8e5f48c5",
   "metadata": {},
   "outputs": [
    {
     "name": "stdout",
     "output_type": "stream",
     "text": [
      "(1750, 12) (750, 12) (1750,) (750,)\n"
     ]
    }
   ],
   "source": [
    "#학습데이터/평가데이터 분리\n",
    "train_x, test_x, train_y, test_y = train_test_split(X, y, stratify=y, test_size=0.3, train_size=0.7, random_state=1)\n",
    "print(train_x.shape, test_x.shape, train_y.shape, test_y.shape)"
   ]
  },
  {
   "cell_type": "code",
   "execution_count": 11,
   "id": "0e13770d",
   "metadata": {},
   "outputs": [
    {
     "name": "stdout",
     "output_type": "stream",
     "text": [
      "Optimization terminated successfully.\n",
      "         Current function value: 0.135959\n",
      "         Iterations 9\n"
     ]
    },
    {
     "data": {
      "text/html": [
       "<table class=\"simpletable\">\n",
       "<caption>Logit Regression Results</caption>\n",
       "<tr>\n",
       "  <th>Dep. Variable:</th>     <td>Personal Loan</td>  <th>  No. Observations:  </th>   <td>  1750</td>  \n",
       "</tr>\n",
       "<tr>\n",
       "  <th>Model:</th>                 <td>Logit</td>      <th>  Df Residuals:      </th>   <td>  1738</td>  \n",
       "</tr>\n",
       "<tr>\n",
       "  <th>Method:</th>                 <td>MLE</td>       <th>  Df Model:          </th>   <td>    11</td>  \n",
       "</tr>\n",
       "<tr>\n",
       "  <th>Date:</th>            <td>Thu, 20 Jan 2022</td> <th>  Pseudo R-squ.:     </th>   <td>0.5881</td>  \n",
       "</tr>\n",
       "<tr>\n",
       "  <th>Time:</th>                <td>14:49:45</td>     <th>  Log-Likelihood:    </th>  <td> -237.93</td> \n",
       "</tr>\n",
       "<tr>\n",
       "  <th>converged:</th>             <td>True</td>       <th>  LL-Null:           </th>  <td> -577.63</td> \n",
       "</tr>\n",
       "<tr>\n",
       "  <th>Covariance Type:</th>     <td>nonrobust</td>    <th>  LLR p-value:       </th> <td>1.397e-138</td>\n",
       "</tr>\n",
       "</table>\n",
       "<table class=\"simpletable\">\n",
       "<tr>\n",
       "           <td></td>             <th>coef</th>     <th>std err</th>      <th>z</th>      <th>P>|z|</th>  <th>[0.025</th>    <th>0.975]</th>  \n",
       "</tr>\n",
       "<tr>\n",
       "  <th>Age</th>                <td>   -0.0016</td> <td>    0.101</td> <td>   -0.016</td> <td> 0.987</td> <td>   -0.200</td> <td>    0.196</td>\n",
       "</tr>\n",
       "<tr>\n",
       "  <th>CCAvg</th>              <td>    0.0954</td> <td>    0.063</td> <td>    1.526</td> <td> 0.127</td> <td>   -0.027</td> <td>    0.218</td>\n",
       "</tr>\n",
       "<tr>\n",
       "  <th>CD Account</th>         <td>    4.3674</td> <td>    0.531</td> <td>    8.226</td> <td> 0.000</td> <td>    3.327</td> <td>    5.408</td>\n",
       "</tr>\n",
       "<tr>\n",
       "  <th>CreditCard</th>         <td>   -1.3552</td> <td>    0.349</td> <td>   -3.881</td> <td> 0.000</td> <td>   -2.040</td> <td>   -0.671</td>\n",
       "</tr>\n",
       "<tr>\n",
       "  <th>Education</th>          <td>    1.4684</td> <td>    0.180</td> <td>    8.162</td> <td> 0.000</td> <td>    1.116</td> <td>    1.821</td>\n",
       "</tr>\n",
       "<tr>\n",
       "  <th>Experience</th>         <td>    0.0165</td> <td>    0.101</td> <td>    0.163</td> <td> 0.870</td> <td>   -0.181</td> <td>    0.214</td>\n",
       "</tr>\n",
       "<tr>\n",
       "  <th>Family</th>             <td>    0.7160</td> <td>    0.125</td> <td>    5.734</td> <td> 0.000</td> <td>    0.471</td> <td>    0.961</td>\n",
       "</tr>\n",
       "<tr>\n",
       "  <th>Income</th>             <td>    0.0499</td> <td>    0.004</td> <td>   12.500</td> <td> 0.000</td> <td>    0.042</td> <td>    0.058</td>\n",
       "</tr>\n",
       "<tr>\n",
       "  <th>Mortgage</th>           <td>    0.0006</td> <td>    0.001</td> <td>    0.634</td> <td> 0.526</td> <td>   -0.001</td> <td>    0.002</td>\n",
       "</tr>\n",
       "<tr>\n",
       "  <th>Online</th>             <td>   -0.4918</td> <td>    0.262</td> <td>   -1.880</td> <td> 0.060</td> <td>   -1.005</td> <td>    0.021</td>\n",
       "</tr>\n",
       "<tr>\n",
       "  <th>Securities Account</th> <td>   -1.4553</td> <td>    0.484</td> <td>   -3.007</td> <td> 0.003</td> <td>   -2.404</td> <td>   -0.507</td>\n",
       "</tr>\n",
       "<tr>\n",
       "  <th>const</th>              <td>  -12.5215</td> <td>    2.730</td> <td>   -4.586</td> <td> 0.000</td> <td>  -17.873</td> <td>   -7.170</td>\n",
       "</tr>\n",
       "</table>"
      ],
      "text/plain": [
       "<class 'statsmodels.iolib.summary.Summary'>\n",
       "\"\"\"\n",
       "                           Logit Regression Results                           \n",
       "==============================================================================\n",
       "Dep. Variable:          Personal Loan   No. Observations:                 1750\n",
       "Model:                          Logit   Df Residuals:                     1738\n",
       "Method:                           MLE   Df Model:                           11\n",
       "Date:                Thu, 20 Jan 2022   Pseudo R-squ.:                  0.5881\n",
       "Time:                        14:49:45   Log-Likelihood:                -237.93\n",
       "converged:                       True   LL-Null:                       -577.63\n",
       "Covariance Type:            nonrobust   LLR p-value:                1.397e-138\n",
       "======================================================================================\n",
       "                         coef    std err          z      P>|z|      [0.025      0.975]\n",
       "--------------------------------------------------------------------------------------\n",
       "Age                   -0.0016      0.101     -0.016      0.987      -0.200       0.196\n",
       "CCAvg                  0.0954      0.063      1.526      0.127      -0.027       0.218\n",
       "CD Account             4.3674      0.531      8.226      0.000       3.327       5.408\n",
       "CreditCard            -1.3552      0.349     -3.881      0.000      -2.040      -0.671\n",
       "Education              1.4684      0.180      8.162      0.000       1.116       1.821\n",
       "Experience             0.0165      0.101      0.163      0.870      -0.181       0.214\n",
       "Family                 0.7160      0.125      5.734      0.000       0.471       0.961\n",
       "Income                 0.0499      0.004     12.500      0.000       0.042       0.058\n",
       "Mortgage               0.0006      0.001      0.634      0.526      -0.001       0.002\n",
       "Online                -0.4918      0.262     -1.880      0.060      -1.005       0.021\n",
       "Securities Account    -1.4553      0.484     -3.007      0.003      -2.404      -0.507\n",
       "const                -12.5215      2.730     -4.586      0.000     -17.873      -7.170\n",
       "======================================================================================\n",
       "\"\"\""
      ]
     },
     "execution_count": 11,
     "metadata": {},
     "output_type": "execute_result"
    }
   ],
   "source": [
    "# 다변수함수에 뉴턴방법을 적용한 로지스틱 회귀모형\n",
    "model=sm.Logit(train_y, train_x).fit(method=\"newton\")\n",
    "model.summary()"
   ]
  },
  {
   "cell_type": "markdown",
   "id": "d70376a5",
   "metadata": {},
   "source": [
    "유사결정계수(Pseudo R-squared)는 0.588이다."
   ]
  },
  {
   "cell_type": "code",
   "execution_count": 12,
   "id": "c13c9a2f",
   "metadata": {},
   "outputs": [
    {
     "name": "stdout",
     "output_type": "stream",
     "text": [
      "Age                   -0.001631\n",
      "CCAvg                  0.095392\n",
      "CD Account             4.367360\n",
      "CreditCard            -1.355179\n",
      "Education              1.468420\n",
      "Experience             0.016455\n",
      "Family                 0.715961\n",
      "Income                 0.049919\n",
      "Mortgage               0.000596\n",
      "Online                -0.491809\n",
      "Securities Account    -1.455320\n",
      "const                -12.521527\n",
      "dtype: float64\n",
      "Age                    0.998370\n",
      "CCAvg                  1.100090\n",
      "CD Account            78.835214\n",
      "CreditCard             0.257901\n",
      "Education              4.342370\n",
      "Experience             1.016592\n",
      "Family                 2.046153\n",
      "Income                 1.051186\n",
      "Mortgage               1.000596\n",
      "Online                 0.611519\n",
      "Securities Account     0.233326\n",
      "const                  0.000004\n",
      "dtype: float64\n"
     ]
    }
   ],
   "source": [
    "#모델적합으로 인해 회귀계수가 출력\n",
    "print(model.params)\n",
    "#회귀계수 변환(기존 회귀계수는 log)\n",
    "print(np.exp(model.params))"
   ]
  },
  {
   "cell_type": "markdown",
   "id": "bacafc99",
   "metadata": {},
   "source": [
    "Age의 경우 1살이 많을수록 대출할 확률이 0.998배이다. (확률이 낮아진다)"
   ]
  },
  {
   "cell_type": "code",
   "execution_count": 13,
   "id": "d32ba966",
   "metadata": {},
   "outputs": [
    {
     "data": {
      "text/plain": [
       "1816    0.005733\n",
       "1195    0.102950\n",
       "2085    0.005262\n",
       "406     0.025856\n",
       "303     0.926229\n",
       "          ...   \n",
       "1676    0.184499\n",
       "680     0.000842\n",
       "233     0.005965\n",
       "2373    0.829847\n",
       "2088    0.003645\n",
       "Length: 750, dtype: float64"
      ]
     },
     "execution_count": 13,
     "metadata": {},
     "output_type": "execute_result"
    }
   ],
   "source": [
    "pred_y=model.predict(test_x)\n",
    "pred_y"
   ]
  },
  {
   "cell_type": "code",
   "execution_count": 14,
   "id": "1ee42962",
   "metadata": {},
   "outputs": [
    {
     "data": {
      "text/plain": [
       "1816    0\n",
       "1195    0\n",
       "2085    0\n",
       "406     0\n",
       "303     1\n",
       "       ..\n",
       "1676    0\n",
       "680     0\n",
       "233     0\n",
       "2373    1\n",
       "2088    0\n",
       "Length: 750, dtype: int32"
      ]
     },
     "execution_count": 14,
     "metadata": {},
     "output_type": "execute_result"
    }
   ],
   "source": [
    "def cut_off(y, threshold) :\n",
    "    Y = y.copy()\n",
    "    Y[Y>threshold] = 1\n",
    "    Y[Y<threshold] = 0\n",
    "    return Y.astype(int)\n",
    "\n",
    "pred_Y=cut_off(pred_y,0.5)\n",
    "pred_Y"
   ]
  },
  {
   "cell_type": "code",
   "execution_count": 15,
   "id": "179ca3da",
   "metadata": {},
   "outputs": [
    {
     "name": "stdout",
     "output_type": "stream",
     "text": [
      "[[667   6]\n",
      " [ 29  48]]\n"
     ]
    }
   ],
   "source": [
    "cfmat=confusion_matrix(test_y,pred_Y)\n",
    "print(cfmat)"
   ]
  },
  {
   "cell_type": "code",
   "execution_count": 16,
   "id": "02c0ff26",
   "metadata": {},
   "outputs": [
    {
     "data": {
      "text/plain": [
       "0.9533333333333334"
      ]
     },
     "execution_count": 16,
     "metadata": {},
     "output_type": "execute_result"
    }
   ],
   "source": [
    "#정확도 계산\n",
    "def acc(cfmat):\n",
    "    return (cfmat[0,0] + cfmat[1,1])/(cfmat[0,0] + cfmat[1,1]+cfmat[1,0] + cfmat[0,1])\n",
    "acc(cfmat)"
   ]
  },
  {
   "cell_type": "code",
   "execution_count": 17,
   "id": "ffa54e86",
   "metadata": {},
   "outputs": [
    {
     "data": {
      "text/html": [
       "<div>\n",
       "<style scoped>\n",
       "    .dataframe tbody tr th:only-of-type {\n",
       "        vertical-align: middle;\n",
       "    }\n",
       "\n",
       "    .dataframe tbody tr th {\n",
       "        vertical-align: top;\n",
       "    }\n",
       "\n",
       "    .dataframe thead th {\n",
       "        text-align: right;\n",
       "    }\n",
       "</style>\n",
       "<table border=\"1\" class=\"dataframe\">\n",
       "  <thead>\n",
       "    <tr style=\"text-align: right;\">\n",
       "      <th>performance</th>\n",
       "      <th>ACC</th>\n",
       "    </tr>\n",
       "    <tr>\n",
       "      <th>threshold</th>\n",
       "      <th></th>\n",
       "    </tr>\n",
       "  </thead>\n",
       "  <tbody>\n",
       "    <tr>\n",
       "      <th>0.0</th>\n",
       "      <td>0.102667</td>\n",
       "    </tr>\n",
       "    <tr>\n",
       "      <th>0.1</th>\n",
       "      <td>0.900000</td>\n",
       "    </tr>\n",
       "    <tr>\n",
       "      <th>0.2</th>\n",
       "      <td>0.937333</td>\n",
       "    </tr>\n",
       "    <tr>\n",
       "      <th>0.3</th>\n",
       "      <td>0.946667</td>\n",
       "    </tr>\n",
       "    <tr>\n",
       "      <th>0.4</th>\n",
       "      <td>0.953333</td>\n",
       "    </tr>\n",
       "    <tr>\n",
       "      <th>0.5</th>\n",
       "      <td>0.953333</td>\n",
       "    </tr>\n",
       "    <tr>\n",
       "      <th>0.6</th>\n",
       "      <td>0.950667</td>\n",
       "    </tr>\n",
       "    <tr>\n",
       "      <th>0.7</th>\n",
       "      <td>0.949333</td>\n",
       "    </tr>\n",
       "    <tr>\n",
       "      <th>0.8</th>\n",
       "      <td>0.942667</td>\n",
       "    </tr>\n",
       "    <tr>\n",
       "      <th>0.9</th>\n",
       "      <td>0.933333</td>\n",
       "    </tr>\n",
       "  </tbody>\n",
       "</table>\n",
       "</div>"
      ],
      "text/plain": [
       "performance       ACC\n",
       "threshold            \n",
       "0.0          0.102667\n",
       "0.1          0.900000\n",
       "0.2          0.937333\n",
       "0.3          0.946667\n",
       "0.4          0.953333\n",
       "0.5          0.953333\n",
       "0.6          0.950667\n",
       "0.7          0.949333\n",
       "0.8          0.942667\n",
       "0.9          0.933333"
      ]
     },
     "execution_count": 17,
     "metadata": {},
     "output_type": "execute_result"
    }
   ],
   "source": [
    "#임계값에 따른 정확도 확인\n",
    "threshold=np.arange(0,1,0.1)\n",
    "table=pd.DataFrame(columns=['ACC'])\n",
    "for i in threshold :\n",
    "    pred_Y=cut_off(pred_y, i)\n",
    "    cfmat=confusion_matrix(test_y,pred_Y)\n",
    "    table.loc[i]=acc(cfmat)\n",
    "table.index.name='threshold'\n",
    "table.columns.name='performance'\n",
    "table"
   ]
  },
  {
   "cell_type": "code",
   "execution_count": 18,
   "id": "36442900",
   "metadata": {},
   "outputs": [
    {
     "name": "stdout",
     "output_type": "stream",
     "text": [
      "AUC: 0.9520271704521333\n"
     ]
    },
    {
     "data": {
      "image/png": "[encoded data removed]",
      "text/plain": [
       "<Figure size 432x288 with 1 Axes>"
      ]
     },
     "metadata": {
      "needs_background": "light"
     },
     "output_type": "display_data"
    }
   ],
   "source": [
    "fpr, tpr, thresholds = metrics.roc_curve(test_y,pred_y, pos_label = 1)\n",
    "# ROC curve\n",
    "plt.plot(fpr,tpr)\n",
    "\n",
    "# AUC\n",
    "auc = np.trapz(tpr,fpr)\n",
    "print(\"AUC:\",auc)"
   ]
  },
  {
   "cell_type": "markdown",
   "id": "fdb9cc5b",
   "metadata": {},
   "source": [
    "### 표준화 할 경우"
   ]
  },
  {
   "cell_type": "code",
   "execution_count": 19,
   "id": "b3dedc40",
   "metadata": {},
   "outputs": [],
   "source": [
    "from sklearn.preprocessing import StandardScaler\n",
    "scaler = StandardScaler()\n",
    "train_x = scaler.fit_transform(train_x)\n",
    "test_x = scaler.transform(test_x)"
   ]
  },
  {
   "cell_type": "code",
   "execution_count": 20,
   "id": "3c4d9eec",
   "metadata": {},
   "outputs": [
    {
     "data": {
      "text/plain": [
       "LogisticRegression()"
      ]
     },
     "execution_count": 20,
     "metadata": {},
     "output_type": "execute_result"
    }
   ],
   "source": [
    "from sklearn.linear_model import LogisticRegression\n",
    "model = LogisticRegression()\n",
    "model.fit(train_x, train_y)"
   ]
  },
  {
   "cell_type": "code",
   "execution_count": 21,
   "id": "dc9915d9",
   "metadata": {},
   "outputs": [
    {
     "name": "stdout",
     "output_type": "stream",
     "text": [
      "학습세트 정확성: 0.9554285714285714\n",
      "평가세트 정확성: 0.9546666666666667\n"
     ]
    }
   ],
   "source": [
    "#학습세트 정확성 확인\n",
    "print(\"학습세트 정확성:\",model.score(train_x, train_y))\n",
    "#평가세트 정확성 확인\n",
    "print(\"평가세트 정확성:\",model.score(test_x, test_y))"
   ]
  },
  {
   "cell_type": "code",
   "execution_count": 22,
   "id": "30abd8b1",
   "metadata": {},
   "outputs": [
    {
     "name": "stdout",
     "output_type": "stream",
     "text": [
      "[[ 0.04717369  0.18129703  1.05154419 -0.58003624  1.16740131  0.11020206\n",
      "   0.79306759  2.2328986   0.0621607  -0.22871584 -0.42956106  0.        ]]\n"
     ]
    }
   ],
   "source": [
    "print(model.coef_)"
   ]
  },
  {
   "cell_type": "code",
   "execution_count": 27,
   "id": "1353a6fe",
   "metadata": {},
   "outputs": [
    {
     "data": {
      "text/html": [
       "<div>\n",
       "<style scoped>\n",
       "    .dataframe tbody tr th:only-of-type {\n",
       "        vertical-align: middle;\n",
       "    }\n",
       "\n",
       "    .dataframe tbody tr th {\n",
       "        vertical-align: top;\n",
       "    }\n",
       "\n",
       "    .dataframe thead tr th {\n",
       "        text-align: left;\n",
       "    }\n",
       "\n",
       "    .dataframe thead tr:last-of-type th {\n",
       "        text-align: right;\n",
       "    }\n",
       "</style>\n",
       "<table border=\"1\" class=\"dataframe\">\n",
       "  <thead>\n",
       "    <tr>\n",
       "      <th></th>\n",
       "      <th>Income</th>\n",
       "    </tr>\n",
       "    <tr>\n",
       "      <th></th>\n",
       "      <th>mean</th>\n",
       "    </tr>\n",
       "    <tr>\n",
       "      <th>CD Account</th>\n",
       "      <th></th>\n",
       "    </tr>\n",
       "  </thead>\n",
       "  <tbody>\n",
       "    <tr>\n",
       "      <th>0</th>\n",
       "      <td>72.239761</td>\n",
       "    </tr>\n",
       "    <tr>\n",
       "      <th>1</th>\n",
       "      <td>107.615385</td>\n",
       "    </tr>\n",
       "  </tbody>\n",
       "</table>\n",
       "</div>"
      ],
      "text/plain": [
       "                Income\n",
       "                  mean\n",
       "CD Account            \n",
       "0            72.239761\n",
       "1           107.615385"
      ]
     },
     "execution_count": 27,
     "metadata": {},
     "output_type": "execute_result"
    }
   ],
   "source": [
    "ploan[['CD Account','Income']].groupby('CD Account').agg(['mean'])"
   ]
  }
 ],
 "metadata": {
  "kernelspec": {
   "display_name": "Python 3 (ipykernel)",
   "language": "python",
   "name": "python3"
  },
  "language_info": {
   "codemirror_mode": {
    "name": "ipython",
    "version": 3
   },
   "file_extension": ".py",
   "mimetype": "text/x-python",
   "name": "python",
   "nbconvert_exporter": "python",
   "pygments_lexer": "ipython3",
   "version": "3.9.7"
  }
 },
 "nbformat": 4,
 "nbformat_minor": 5
}
