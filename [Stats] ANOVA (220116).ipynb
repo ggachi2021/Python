{
 "cells": [
  {
   "cell_type": "code",
   "execution_count": 53,
   "id": "c8e93b25",
   "metadata": {},
   "outputs": [],
   "source": [
    "import pandas as pd #데이터 조작 및 분석\n",
    "import numpy as np #행렬 및 수치 계산\n",
    "import scipy as sp #데이터를 조작, 시각화\n",
    "import pingouin as pg #통계분석\n",
    "import scikit_posthocs #사후분석 패키지 pip install scikit-posthocs\n",
    "from scipy import stats #수치해석"
   ]
  },
  {
   "cell_type": "code",
   "execution_count": 11,
   "id": "20c3bd83",
   "metadata": {},
   "outputs": [],
   "source": [
    "df=pd.read_csv('datasets/Ashopping.csv', sep=',', encoding='CP949')\n",
    "df1=df[['구매유형','총_매출액']]\n",
    "pd.options.display.float_format='{:.3f}'.format # 소수점 자리수 3자리"
   ]
  },
  {
   "cell_type": "markdown",
   "id": "9b24ec29",
   "metadata": {},
   "source": [
    "분산분석  \n",
    "독립변수 : 명목형 변수    \n",
    "종속변수 : 수치형 변수"
   ]
  },
  {
   "cell_type": "markdown",
   "id": "4432d787",
   "metadata": {},
   "source": [
    "#### 일원분산분석  \n",
    "독립변수와 종속변수가 각각 하나인 경우의 분산분석  \n",
    "분산분석에서 가설검정을 위해 사용하는 검정통계량 F값은 집단내 분산 대비 집단간 분산이 몇배 더 큰지를 나타내는 값.  \n",
    "따라서 F값이 F의 임계치보다 크다면 집단간의 차이가 충분히 크다는 의미이다.  "
   ]
  },
  {
   "cell_type": "markdown",
   "id": "f30ef960",
   "metadata": {},
   "source": [
    "귀무가설(H0):A쇼핑 고객의 구매유형에 따른 총 매출의 차이는 없다.  \n",
    "대립가설(H1):A쇼핑 고객은 적어도 1개의 구매유형이 다른 구매유형과 총 매출액 차이가 존재한다."
   ]
  },
  {
   "cell_type": "code",
   "execution_count": 29,
   "id": "8d3ed7f3",
   "metadata": {},
   "outputs": [
    {
     "data": {
      "text/plain": [
       "LeveneResult(statistic=61.83834278363635, pvalue=1.1483869977419955e-36)"
      ]
     },
     "execution_count": 29,
     "metadata": {},
     "output_type": "execute_result"
    }
   ],
   "source": [
    "구매유형=[]\n",
    "for i in range(1,5,1) :\n",
    "    구매유형.append(df1[df1.구매유형==i].총_매출액)\n",
    "sp.stats.levene(구매유형[0],구매유형[1],구매유형[2],구매유형[3])"
   ]
  },
  {
   "cell_type": "markdown",
   "id": "69b133c6",
   "metadata": {},
   "source": [
    "분산분석을 하기 전 먼저 등분산검정을 실시한다.  \n",
    "구매유형간의 등분산 검정결과 F값은 61.83, 유의확률은 0.01미만으로 귀무가설이 기각되었다.  \n",
    "즉, 4개 집단의 분산은 동일하지 않은 것으로 나타났다."
   ]
  },
  {
   "cell_type": "code",
   "execution_count": 30,
   "id": "c9b68bb6",
   "metadata": {},
   "outputs": [
    {
     "name": "stdout",
     "output_type": "stream",
     "text": [
      "  Source  ddof1   ddof2      F  p-unc   np2\n",
      "0   구매유형      3 230.936 88.238  0.000 0.193\n"
     ]
    }
   ],
   "source": [
    "# Welch 일원분산분석 : 분산이 동일하지 않은 경우 대부분 사용\n",
    "print(pg.welch_anova(dv='총_매출액',between='구매유형',data=df1))"
   ]
  },
  {
   "cell_type": "markdown",
   "id": "129b4cd0",
   "metadata": {},
   "source": [
    "구매유형1:1회성 구매형, 구매유형2:실용적구매형, 구매유형3:명품구매형, 구매유형4:집중구매형"
   ]
  },
  {
   "cell_type": "code",
   "execution_count": 45,
   "id": "c04393c4",
   "metadata": {},
   "outputs": [
    {
     "name": "stdout",
     "output_type": "stream",
     "text": [
      "      4     2     1     3\n",
      "4 1.000 0.000 0.805 0.000\n",
      "2 0.000 1.000 0.000 0.008\n",
      "1 0.805 0.000 1.000 0.000\n",
      "3 0.000 0.008 0.000 1.000\n",
      "\n",
      " 3403682.3255813955 \n",
      " 9612645.078864353 \n",
      " 11779839.652777778 \n",
      " 4392794.395161291\n"
     ]
    }
   ],
   "source": [
    "#사후분석 : 각 집단별 표본의 크기가 다르기때문에 scheffe 방법을 이용\n",
    "df1['구매유형'].astype(str)\n",
    "print(scikit_posthocs.posthoc_scheffe(df1,val_col='총_매출액',group_col='구매유형'))\n",
    "#구매유형별 평균 총 매출액\n",
    "print('\\n',구매유형[0].mean(),'\\n',구매유형[1].mean(),'\\n',구매유형[2].mean(),'\\n',구매유형[3].mean())"
   ]
  },
  {
   "cell_type": "markdown",
   "id": "048cbe21",
   "metadata": {},
   "source": [
    "일원분산분석 F값은 88.23, 유의확률은 0.01이하로 출력되었다.  \n",
    "따라서, 'A쇼핑 고객은 적어도 1개의 구매유형은 다른 구매유형과 총 매출액 차이가 존재한다'는 대립가설을 채택한다.  \n",
    "사후 분석결과, 유의확률 0.805인 구매유형1(1회성구매형)과 4(집중구매형)를 제외하고 나머지는 유의한 차이가 있는 것으로 나타났다.  \n",
    "평균 총 매출액은 명품구매형>실용적구매형>집중구매형>1회성구매형 순으로 나타났다."
   ]
  },
  {
   "cell_type": "markdown",
   "id": "016bc1ea",
   "metadata": {},
   "source": [
    "#### 이원분산분석   \n",
    "독립변수가 2개, 독립변수가 종속변수에 미치는 영향 외에 독립변수간의 상호작용 효과를 추가적으로 판단해야함   \n",
    " - 등분산성 검정을 먼저 실시해야함 (일원분산분석에서 실시하였으므로 생략)"
   ]
  },
  {
   "cell_type": "markdown",
   "id": "629a7dc3",
   "metadata": {},
   "source": [
    "#### 구매유형에 따른 매출액 차이 가설   \n",
    "귀무가설(H0):A쇼핑 고객의 구매유형에 따른 총 매출의 차이는 없다.   \n",
    "대립가설(H1):A쇼핑 고객은 적어도 1개의 구매유형이 다른 구매유형과 총 매출액 차이가 존재한다.    \n",
    "#### 거주지역에 따른 매출액 차이 가설   \n",
    "귀무가설(H0):A쇼핑 고객의 거주지역에 따른 총 매출의 차이는 없다.   \n",
    "대립가설(H1):A쇼핑 고객은 적어도 1개의 거주지역이 다른 거주지역과 총 매출액 차이가 존재한다.    \n",
    "#### 독립변수간 상호작용에 대한 가설     \n",
    "귀무가설(H0):구매유형과 거주지역의 상호작용 효과는 없다.     \n",
    "대립가설(H1):구매유형과 거주지역의 상호작용 효과가 있다."
   ]
  },
  {
   "cell_type": "code",
   "execution_count": 47,
   "id": "e82fc581",
   "metadata": {},
   "outputs": [],
   "source": [
    "df=pd.read_csv('datasets/Ashopping.csv', sep=',', encoding='CP949')\n",
    "df1=df[['총_매출액','구매유형','거주지역']]"
   ]
  },
  {
   "cell_type": "code",
   "execution_count": 48,
   "id": "038fcfea",
   "metadata": {},
   "outputs": [
    {
     "name": "stdout",
     "output_type": "stream",
     "text": [
      "        Source                    SS      DF                   MS      F  \\\n",
      "0         구매유형  9339585236659000.000   3.000 3113195078886333.500 94.667   \n",
      "1         거주지역 16139327054509704.000   6.000 2689887842418284.000 81.795   \n",
      "2  구매유형 * 거주지역  3867936213048883.500  18.000  214885345169382.406  6.534   \n",
      "3     Residual 32096439113329672.000 976.000   32885695812837.777    NaN   \n",
      "\n",
      "   p-unc   np2  \n",
      "0  0.000 0.225  \n",
      "1  0.000 0.335  \n",
      "2  0.000 0.108  \n",
      "3    NaN   NaN  \n"
     ]
    },
    {
     "name": "stderr",
     "output_type": "stream",
     "text": [
      "C:\\Users\\SEC\\anaconda3\\lib\\site-packages\\statsmodels\\base\\model.py:1832: ValueWarning: covariance of constraints does not have full rank. The number of constraints is 3, but rank is 2\n",
      "  warnings.warn('covariance of constraints does not have full '\n"
     ]
    }
   ],
   "source": [
    "#이원분산분석\n",
    "print(pg.anova(dv='총_매출액',between=['구매유형','거주지역'],data=df1))"
   ]
  },
  {
   "cell_type": "code",
   "execution_count": 43,
   "id": "bd8fbf16",
   "metadata": {},
   "outputs": [
    {
     "name": "stdout",
     "output_type": "stream",
     "text": [
      "      4     2     1     3\n",
      "4 1.000 0.000 0.805 0.000\n",
      "2 0.000 1.000 0.000 0.008\n",
      "1 0.805 0.000 1.000 0.000\n",
      "3 0.000 0.008 0.000 1.000\n",
      "      6     4     5     7     3     2     1\n",
      "6 1.000 0.008 0.002 0.000 0.019 0.339 0.988\n",
      "4 0.008 1.000 1.000 0.000 0.978 0.980 1.000\n",
      "5 0.002 1.000 1.000 0.000 0.935 0.965 1.000\n",
      "7 0.000 0.000 0.000 1.000 0.000 0.000 0.412\n",
      "3 0.019 0.978 0.935 0.000 1.000 1.000 1.000\n",
      "2 0.339 0.980 0.965 0.000 1.000 1.000 1.000\n",
      "1 0.988 1.000 1.000 0.412 1.000 1.000 1.000\n"
     ]
    },
    {
     "data": {
      "text/html": [
       "<div>\n",
       "<style scoped>\n",
       "    .dataframe tbody tr th:only-of-type {\n",
       "        vertical-align: middle;\n",
       "    }\n",
       "\n",
       "    .dataframe tbody tr th {\n",
       "        vertical-align: top;\n",
       "    }\n",
       "\n",
       "    .dataframe thead th {\n",
       "        text-align: right;\n",
       "    }\n",
       "</style>\n",
       "<table border=\"1\" class=\"dataframe\">\n",
       "  <thead>\n",
       "    <tr style=\"text-align: right;\">\n",
       "      <th>거주지역</th>\n",
       "      <th>1</th>\n",
       "      <th>2</th>\n",
       "      <th>3</th>\n",
       "      <th>4</th>\n",
       "      <th>5</th>\n",
       "      <th>6</th>\n",
       "      <th>7</th>\n",
       "    </tr>\n",
       "    <tr>\n",
       "      <th>구매유형</th>\n",
       "      <th></th>\n",
       "      <th></th>\n",
       "      <th></th>\n",
       "      <th></th>\n",
       "      <th></th>\n",
       "      <th></th>\n",
       "      <th></th>\n",
       "    </tr>\n",
       "  </thead>\n",
       "  <tbody>\n",
       "    <tr>\n",
       "      <th>1</th>\n",
       "      <td>NaN</td>\n",
       "      <td>3281350.000</td>\n",
       "      <td>3002825.000</td>\n",
       "      <td>3041428.182</td>\n",
       "      <td>3637031.667</td>\n",
       "      <td>3712146.667</td>\n",
       "      <td>3864880.000</td>\n",
       "    </tr>\n",
       "    <tr>\n",
       "      <th>2</th>\n",
       "      <td>NaN</td>\n",
       "      <td>NaN</td>\n",
       "      <td>4215648.571</td>\n",
       "      <td>8278686.562</td>\n",
       "      <td>6590330.674</td>\n",
       "      <td>10226770.763</td>\n",
       "      <td>13513839.437</td>\n",
       "    </tr>\n",
       "    <tr>\n",
       "      <th>3</th>\n",
       "      <td>4906400.000</td>\n",
       "      <td>3215055.000</td>\n",
       "      <td>6809777.143</td>\n",
       "      <td>7965439.677</td>\n",
       "      <td>11046081.250</td>\n",
       "      <td>13768678.750</td>\n",
       "      <td>25451441.176</td>\n",
       "    </tr>\n",
       "    <tr>\n",
       "      <th>4</th>\n",
       "      <td>NaN</td>\n",
       "      <td>4034175.556</td>\n",
       "      <td>3720989.697</td>\n",
       "      <td>4229915.000</td>\n",
       "      <td>4272964.468</td>\n",
       "      <td>4749139.200</td>\n",
       "      <td>5138468.276</td>\n",
       "    </tr>\n",
       "  </tbody>\n",
       "</table>\n",
       "</div>"
      ],
      "text/plain": [
       "거주지역           1           2           3           4            5  \\\n",
       "구매유형                                                                \n",
       "1            NaN 3281350.000 3002825.000 3041428.182  3637031.667   \n",
       "2            NaN         NaN 4215648.571 8278686.562  6590330.674   \n",
       "3    4906400.000 3215055.000 6809777.143 7965439.677 11046081.250   \n",
       "4            NaN 4034175.556 3720989.697 4229915.000  4272964.468   \n",
       "\n",
       "거주지역            6            7  \n",
       "구매유형                            \n",
       "1     3712146.667  3864880.000  \n",
       "2    10226770.763 13513839.437  \n",
       "3    13768678.750 25451441.176  \n",
       "4     4749139.200  5138468.276  "
      ]
     },
     "execution_count": 43,
     "metadata": {},
     "output_type": "execute_result"
    }
   ],
   "source": [
    "#사후분석 : 각 집단별 표본의 크기가 다르기때문에 scheffe 방법을 이용\n",
    "df1['구매유형'].astype(str)\n",
    "df1['거주지역'].astype(str)\n",
    "print(scikit_posthocs.posthoc_scheffe(df1,val_col='총_매출액',group_col='구매유형'))\n",
    "print(scikit_posthocs.posthoc_scheffe(df1,val_col='총_매출액',group_col='거주지역'))\n",
    "#구매유형, 거주지역별 평균 총 매출액\n",
    "pd.pivot_table(df1, index='구매유형', columns='거주지역', values='총_매출액', aggfunc=np.mean)"
   ]
  },
  {
   "cell_type": "markdown",
   "id": "968ba7af",
   "metadata": {},
   "source": [
    "구매유형의 F값은 94.667, 거주지역의 F값은 81.795, 두 변수간의 상호작용 효과의 F값은 6.53이다.   \n",
    "유의확률은 모두 0.01 이하로 출력되었다. 따라서 모든 대립가설을 채택하였다.   \n",
    "→매출액은 구매유형, 거주지역에 따라 다르며 구매유형-거주지역 간의 상호작용이 유의하다.  \n",
    "사후 분석결과 구매유형은 1과 4를 제외한 나머지 유형간의 총 매출액 차이가 유의하고,   \n",
    "거주지역은 2-7, 3-6, 3-7, 4-6, 4-7, 5-6, 5-7, 6-7 의 차이가 유의하게 나타났다.   \n",
    "특히, 거주지역7-구매유형3의 매출액이 높으므로, 해당 고객군을 위한 차별화 마케팅 전략수립이 필요하다."
   ]
  },
  {
   "cell_type": "markdown",
   "id": "62eb11ad",
   "metadata": {},
   "source": [
    "#### 다변량 분산분석   \n",
    "종속변수가 2개 이상인 경우 집단간의 평균 차이를 비교하기 위한 분석기법"
   ]
  },
  {
   "cell_type": "markdown",
   "id": "970621f5",
   "metadata": {},
   "source": [
    "종속변수의 상관관계를 파악 후 상관관계가 없으면 단일변량분산분석 방법으로 각각 진행,  \n",
    "상관관계가 있으면 다변량 분산분석을 진행한다."
   ]
  },
  {
   "cell_type": "markdown",
   "id": "7ad926f0",
   "metadata": {},
   "source": [
    "H0(귀무가설) = A쇼핑고객의 구매유형, 거주지역에 따른 방문빈도, 총 매출액의 차이는 없다.  \n",
    "H1(대립가설) = A쇼핑고객의 구매유형, 거주지역에 따른 방문빈도, 총 매출액의 차이는 있다.  "
   ]
  },
  {
   "cell_type": "code",
   "execution_count": 51,
   "id": "aedb4827",
   "metadata": {},
   "outputs": [
    {
     "data": {
      "text/html": [
       "<div>\n",
       "<style scoped>\n",
       "    .dataframe tbody tr th:only-of-type {\n",
       "        vertical-align: middle;\n",
       "    }\n",
       "\n",
       "    .dataframe tbody tr th {\n",
       "        vertical-align: top;\n",
       "    }\n",
       "\n",
       "    .dataframe thead th {\n",
       "        text-align: right;\n",
       "    }\n",
       "</style>\n",
       "<table border=\"1\" class=\"dataframe\">\n",
       "  <thead>\n",
       "    <tr style=\"text-align: right;\">\n",
       "      <th></th>\n",
       "      <th>총_매출액</th>\n",
       "      <th>방문빈도</th>\n",
       "    </tr>\n",
       "  </thead>\n",
       "  <tbody>\n",
       "    <tr>\n",
       "      <th>0</th>\n",
       "      <td>4007080</td>\n",
       "      <td>17</td>\n",
       "    </tr>\n",
       "    <tr>\n",
       "      <th>1</th>\n",
       "      <td>3168400</td>\n",
       "      <td>14</td>\n",
       "    </tr>\n",
       "    <tr>\n",
       "      <th>2</th>\n",
       "      <td>2680780</td>\n",
       "      <td>18</td>\n",
       "    </tr>\n",
       "    <tr>\n",
       "      <th>3</th>\n",
       "      <td>5946600</td>\n",
       "      <td>17</td>\n",
       "    </tr>\n",
       "    <tr>\n",
       "      <th>4</th>\n",
       "      <td>13745950</td>\n",
       "      <td>73</td>\n",
       "    </tr>\n",
       "  </tbody>\n",
       "</table>\n",
       "</div>"
      ],
      "text/plain": [
       "      총_매출액  방문빈도\n",
       "0   4007080    17\n",
       "1   3168400    14\n",
       "2   2680780    18\n",
       "3   5946600    17\n",
       "4  13745950    73"
      ]
     },
     "execution_count": 51,
     "metadata": {},
     "output_type": "execute_result"
    }
   ],
   "source": [
    "#종속변수의 상관관계 분석 : 방문빈도 - 총매출액\n",
    "df1=df[['총_매출액','방문빈도']]\n",
    "df1.head()"
   ]
  },
  {
   "cell_type": "code",
   "execution_count": 54,
   "id": "9ee83adb",
   "metadata": {},
   "outputs": [
    {
     "name": "stdout",
     "output_type": "stream",
     "text": [
      "(0.6311706453193395, 3.051960449687332e-112)\n"
     ]
    }
   ],
   "source": [
    "print(stats.pearsonr(df1.총_매출액, df1.방문빈도))"
   ]
  },
  {
   "cell_type": "markdown",
   "id": "4cf3b1a9",
   "metadata": {},
   "source": [
    "상관계수가 0.63이며, 유의수준은 0.01이하이므로 유의하다고 해석할 수 있다.    \n",
    "즉, 유의미한 양의 상관성이 있음을 알 수 있다.    \n",
    "→ 종속변수 간 상관관계가 있으므로 다변량분산분석을 진행한다."
   ]
  },
  {
   "cell_type": "code",
   "execution_count": 57,
   "id": "158f56a0",
   "metadata": {},
   "outputs": [],
   "source": [
    "from statsmodels.multivariate.manova import MANOVA #다변량 통계"
   ]
  },
  {
   "cell_type": "code",
   "execution_count": 58,
   "id": "e98f86c5",
   "metadata": {},
   "outputs": [],
   "source": [
    "df1=df[['총_매출액','방문빈도','구매유형','거주지역']]\n",
    "pd.options.display.float_format='{:.3f}'.format"
   ]
  },
  {
   "cell_type": "code",
   "execution_count": 59,
   "id": "cdadcc29",
   "metadata": {},
   "outputs": [
    {
     "name": "stdout",
     "output_type": "stream",
     "text": [
      "                  Multivariate linear model\n",
      "==============================================================\n",
      "                                                              \n",
      "--------------------------------------------------------------\n",
      "        Intercept        Value  Num DF  Den DF  F Value Pr > F\n",
      "--------------------------------------------------------------\n",
      "           Wilks' lambda 0.9578 2.0000 996.0000 21.9327 0.0000\n",
      "          Pillai's trace 0.0422 2.0000 996.0000 21.9327 0.0000\n",
      "  Hotelling-Lawley trace 0.0440 2.0000 996.0000 21.9327 0.0000\n",
      "     Roy's greatest root 0.0440 2.0000 996.0000 21.9327 0.0000\n",
      "--------------------------------------------------------------\n",
      "                                                              \n",
      "--------------------------------------------------------------\n",
      "          구매유형          Value  Num DF  Den DF  F Value  Pr > F\n",
      "--------------------------------------------------------------\n",
      "          Wilks' lambda 0.8248 2.0000 996.0000 105.8119 0.0000\n",
      "         Pillai's trace 0.1752 2.0000 996.0000 105.8119 0.0000\n",
      " Hotelling-Lawley trace 0.2125 2.0000 996.0000 105.8119 0.0000\n",
      "    Roy's greatest root 0.2125 2.0000 996.0000 105.8119 0.0000\n",
      "--------------------------------------------------------------\n",
      "                                                              \n",
      "--------------------------------------------------------------\n",
      "           거주지역          Value  Num DF  Den DF  F Value Pr > F\n",
      "--------------------------------------------------------------\n",
      "           Wilks' lambda 0.8672 2.0000 996.0000 76.2545 0.0000\n",
      "          Pillai's trace 0.1328 2.0000 996.0000 76.2545 0.0000\n",
      "  Hotelling-Lawley trace 0.1531 2.0000 996.0000 76.2545 0.0000\n",
      "     Roy's greatest root 0.1531 2.0000 996.0000 76.2545 0.0000\n",
      "==============================================================\n",
      "\n"
     ]
    }
   ],
   "source": [
    "print(MANOVA.from_formula('방문빈도+총_매출액~구매유형+거주지역', data=df1).mv_test())"
   ]
  },
  {
   "cell_type": "markdown",
   "id": "b5acd05e",
   "metadata": {},
   "source": [
    "다변량분산분석 전체 모형의 적합성, 그리고 거주지역과 구매유형에 대한 각각의 다변량 분산 모형의 결과가 순서대로 출력되었다.  \n",
    "모두 유의확률 0.01 이하로 모형이 유의미하다.  \n",
    "  \n",
    "\n",
    "Wilks'lambda : 집단내분산/총분산으로 값이 작을수록 유의  \n",
    "Pillai's trace : 집단간분산/총분산으로 값이 클수록 유의   \n",
    "Hotelling-Lawley trace : 집단간분산/집단내분산으로 값이 클수록 유의  \n",
    "Roy's greatest root : 첫번째 변수에 근거하여 집단간분산/총분산"
   ]
  },
  {
   "cell_type": "code",
   "execution_count": 61,
   "id": "f0468a21",
   "metadata": {},
   "outputs": [
    {
     "name": "stdout",
     "output_type": "stream",
     "text": [
      "구매유형 총매출액 사후분석 \n",
      "        1     2     3     4\n",
      "1 1.000 0.000 0.000 0.805\n",
      "2 0.000 1.000 0.008 0.000\n",
      "3 0.000 0.008 1.000 0.000\n",
      "4 0.805 0.000 0.000 1.000\n",
      "\n",
      "거주지역 총매출액 사후분석 \n",
      "        1     2     3     4     5     6     7\n",
      "1 1.000 1.000 1.000 1.000 1.000 0.988 0.412\n",
      "2 1.000 1.000 1.000 0.980 0.965 0.339 0.000\n",
      "3 1.000 1.000 1.000 0.978 0.935 0.019 0.000\n",
      "4 1.000 0.980 0.978 1.000 1.000 0.008 0.000\n",
      "5 1.000 0.965 0.935 1.000 1.000 0.002 0.000\n",
      "6 0.988 0.339 0.019 0.008 0.002 1.000 0.000\n",
      "7 0.412 0.000 0.000 0.000 0.000 0.000 1.000\n",
      "\n",
      "구매유형 방문빈도 사후분석 \n",
      "        1     2     3     4\n",
      "1 1.000 0.000 0.075 0.030\n",
      "2 0.000 1.000 0.000 0.000\n",
      "3 0.075 0.000 1.000 0.998\n",
      "4 0.030 0.000 0.998 1.000\n",
      "\n",
      "거주지역 방문빈도 사후분석 \n",
      "        1     2     3     4     5     6     7\n",
      "1 1.000 1.000 1.000 0.949 0.878 0.451 0.018\n",
      "2 1.000 1.000 0.999 0.604 0.303 0.005 0.000\n",
      "3 1.000 0.999 1.000 0.370 0.040 0.000 0.000\n",
      "4 0.949 0.604 0.370 1.000 0.913 0.000 0.000\n",
      "5 0.878 0.303 0.040 0.913 1.000 0.000 0.000\n",
      "6 0.451 0.005 0.000 0.000 0.000 1.000 0.000\n",
      "7 0.018 0.000 0.000 0.000 0.000 0.000 1.000\n"
     ]
    }
   ],
   "source": [
    "#사후분석\n",
    "df1['구매유형'].astype(str)\n",
    "df1['거주지역'].astype(str)\n",
    "print('구매유형 총매출액 사후분석 \\n ',scikit_posthocs.posthoc_scheffe(df1, val_col='총_매출액', group_col='구매유형', sort=True))\n",
    "print('\\n거주지역 총매출액 사후분석 \\n ',scikit_posthocs.posthoc_scheffe(df1, val_col='총_매출액', group_col='거주지역', sort=True))\n",
    "print('\\n구매유형 방문빈도 사후분석 \\n ',scikit_posthocs.posthoc_scheffe(df1, val_col='방문빈도', group_col='구매유형', sort=True))\n",
    "print('\\n거주지역 방문빈도 사후분석 \\n ',scikit_posthocs.posthoc_scheffe(df1, val_col='방문빈도', group_col='거주지역', sort=True))"
   ]
  },
  {
   "cell_type": "code",
   "execution_count": 66,
   "id": "154a2010",
   "metadata": {},
   "outputs": [
    {
     "name": "stdout",
     "output_type": "stream",
     "text": [
      "\n",
      "구매유형, 거주지역별 평균총매출액\n",
      " 거주지역           1           2           3           4            5  \\\n",
      "구매유형                                                                \n",
      "1            NaN 3281350.000 3002825.000 3041428.182  3637031.667   \n",
      "2            NaN         NaN 4215648.571 8278686.562  6590330.674   \n",
      "3    4906400.000 3215055.000 6809777.143 7965439.677 11046081.250   \n",
      "4            NaN 4034175.556 3720989.697 4229915.000  4272964.468   \n",
      "\n",
      "거주지역            6            7  \n",
      "구매유형                            \n",
      "1     3712146.667  3864880.000  \n",
      "2    10226770.763 13513839.437  \n",
      "3    13768678.750 25451441.176  \n",
      "4     4749139.200  5138468.276  \n",
      "\n",
      "구매유형, 거주지역별 평균방문빈도\n",
      " 거주지역     1      2      3      4      5      6      7\n",
      "구매유형                                                \n",
      "1      NaN  8.000  8.667 10.818 10.222  9.667 10.000\n",
      "2      NaN    NaN 29.143 42.312 39.022 48.212 58.845\n",
      "3    7.750  5.000  7.929 11.903 15.350 20.438 40.765\n",
      "4      NaN 12.778 12.485 17.277 18.000 18.768 19.966\n"
     ]
    }
   ],
   "source": [
    "#3. 구매유형, 거주지역별 평균 총매출액, 구매유형, 거주지역별 평균 방문빈도\n",
    "평균총매출액 = pd.pivot_table(df1, index='구매유형', columns='거주지역', values='총_매출액', aggfunc=np.mean)\n",
    "print('\\n구매유형, 거주지역별 평균총매출액\\n',평균총매출액)\n",
    "평균방문빈도 = pd.pivot_table(df1, index='구매유형', columns='거주지역', values='방문빈도', aggfunc=np.mean)\n",
    "print('\\n구매유형, 거주지역별 평균방문빈도\\n',평균방문빈도)"
   ]
  },
  {
   "cell_type": "markdown",
   "id": "85480b28",
   "metadata": {},
   "source": [
    "사후분석 결과는,\n",
    "구매유형 기준으로 구매유형1-구매유형4를 제외한 나머지 유형간의 총 매출액 차이가 유의하고,  \n",
    "거주지역 기준으로 3-6, 4-6, 5-6, 2-7, 3-7, 4-7, 5-7, 6-7 그룹간의 총 매출액 차이가 유의하게 나타났다.   \n",
    "또한, 구매유형 기준으로 구매유형1-구매유형3, 구매유형3-구매유형4를 제외한 나머지 유형간의 방문빈도 차이가 유의하고,  \n",
    "거주지역 기준으로는 3-5, 2-6, 3-6, 4-6, 5-6, 1-7, 2-7, 3-7, 4-7, 5-7, 6-7 그룹간의 방문빈도 차이가 유의하게 나타났다.  \n",
    "마지막으로, 구매유형과 거주지역별 총 매출액과 방문빈도를 테이블로 나타내었다."
   ]
  },
  {
   "cell_type": "code",
   "execution_count": 68,
   "id": "d305e1d0",
   "metadata": {},
   "outputs": [],
   "source": [
    "#시각화\n",
    "import matplotlib\n",
    "import matplotlib.pyplot as plt \n",
    "matplotlib.rcParams['font.family']='Malgun Gothic' #한글깨짐방지"
   ]
  },
  {
   "cell_type": "code",
   "execution_count": 90,
   "id": "f36c5b0a",
   "metadata": {},
   "outputs": [
    {
     "data": {
      "text/plain": [
       "[<matplotlib.lines.Line2D at 0x1e1907ab220>]"
      ]
     },
     "execution_count": 90,
     "metadata": {},
     "output_type": "execute_result"
    },
    {
     "data": {
      "image/png": "[encoded data removed]",
      "text/plain": [
       "<Figure size 432x288 with 1 Axes>"
      ]
     },
     "metadata": {
      "needs_background": "light"
     },
     "output_type": "display_data"
    }
   ],
   "source": [
    "X=np.hstack(평균방문빈도.values[0:4])\n",
    "Y=np.hstack(평균총매출액.values[0:4])\n",
    "labels = []\n",
    "for i in range(1,5,1):\n",
    "    for j in range(1,8,1):\n",
    "        labels.append(str(i)+str(j))\n",
    "\n",
    "for label, x_count, y_count in zip(labels, X, Y):\n",
    "    plt.annotate(label,xycoords='data',\n",
    "                textcoords='offset points',\n",
    "                xy=(x_count, y_count), \n",
    "                xytext=(5,-5) ) \n",
    "\n",
    "plt.title('평균점 산점도') #차트 제목\n",
    "plt.xlabel('평균 방문빈도') # X축 이름\n",
    "plt.ylabel('평균 총매출액') # Y축 이름\n",
    "plt.plot(X, Y,'o')"
   ]
  },
  {
   "cell_type": "markdown",
   "id": "7caab5df",
   "metadata": {},
   "source": [
    "평균 총매출액이 가장 높은것은 구매유형3, 거주지역7이고,  \n",
    "평균 방문빈도가 가장 높은건은 구매유형2, 거주지역7이다.  "
   ]
  },
  {
   "cell_type": "markdown",
   "id": "4d65d63d",
   "metadata": {},
   "source": [
    "#### 공분산 분석  \n",
    "독립변수 : 수치형 변수 존재  \n",
    "종속변수 : 수치형 변수  \n",
    "일반적인 분산분석에서 종속변수에 영향을 줄수 있는 연속형 외생변수의 효과를 제거하고,    \n",
    "순수하게 집단 간 종속변수의 평균 차이를 분석"
   ]
  },
  {
   "cell_type": "markdown",
   "id": "69588899",
   "metadata": {},
   "source": [
    "H0(귀무가설)=방문빈도를 통제한 상황에서 거주지역에 따른 총 매출액은 차이가 없다.   \n",
    "H1(대립가설)=방문빈도를 통제한 상황에서 거주지역에 따른 총 매출액은 차이가 있다."
   ]
  },
  {
   "cell_type": "code",
   "execution_count": 92,
   "id": "6825d6a3",
   "metadata": {},
   "outputs": [],
   "source": [
    "df1=df[['총_매출액','방문빈도','거주지역']]"
   ]
  },
  {
   "cell_type": "code",
   "execution_count": 94,
   "id": "177b776f",
   "metadata": {},
   "outputs": [
    {
     "name": "stdout",
     "output_type": "stream",
     "text": [
      "공분산분석 결과\n",
      "      Source                    SS   DF       F  p-unc   np2\n",
      "0      거주지역   696696841274974.250    6   4.046  0.001 0.024\n",
      "1      방문빈도 13701443685723020.000    1 477.393  0.000 0.325\n",
      "2  Residual 28470960329516344.000  992     NaN    NaN   NaN\n",
      "\n",
      "일원분산분석 결과\n",
      "   Source  ddof1  ddof2      F  p-unc   np2\n",
      "0   거주지역      6    993 24.759  0.000 0.130\n"
     ]
    }
   ],
   "source": [
    "# 공분산분석\n",
    "print('공분산분석 결과\\n', pg.ancova(dv='총_매출액',between='거주지역',covar='방문빈도',data=df1))\n",
    "# 일원분산분석\n",
    "print('\\n일원분산분석 결과\\n',pg.anova(dv='총_매출액',between=['거주지역'],data=df1))"
   ]
  },
  {
   "cell_type": "markdown",
   "id": "7ac62f1a",
   "metadata": {},
   "source": [
    "방문빈도를 통제한 거주지역에 따른 총 매출액의 공분산분석은 유의하고, F값은 4.046이다.  \n",
    "즉, 방문빈도를 통제하지 않은 분산분석을 했을때 F값은 24.759로 훨씬 크다.  \n",
    "방문빈도가 매출액에 영향을 준다는 의미이다.  \n",
    "이는 거주지역에 따른 매출액의 차이를 고려할 때, 방문빈도를 통제하지 않으면 거주지역별 차이가 과대 평가될 수 있다는 것을 의미한다."
   ]
  }
 ],
 "metadata": {
  "kernelspec": {
   "display_name": "Python 3 (ipykernel)",
   "language": "python",
   "name": "python3"
  },
  "language_info": {
   "codemirror_mode": {
    "name": "ipython",
    "version": 3
   },
   "file_extension": ".py",
   "mimetype": "text/x-python",
   "name": "python",
   "nbconvert_exporter": "python",
   "pygments_lexer": "ipython3",
   "version": "3.9.7"
  }
 },
 "nbformat": 4,
 "nbformat_minor": 5
}
