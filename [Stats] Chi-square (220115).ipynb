{
 "cells": [
  {
   "cell_type": "code",
   "execution_count": 5,
   "id": "7a4fe712",
   "metadata": {},
   "outputs": [],
   "source": [
    "import pandas as pd\n",
    "import numpy as np\n",
    "from scipy import stats\n",
    "from scipy.stats import chisquare\n",
    "df = pd.read_csv('datasets/Ashopping.csv', sep=',', encoding='CP949')"
   ]
  },
  {
   "cell_type": "code",
   "execution_count": 6,
   "id": "a13465f9",
   "metadata": {},
   "outputs": [
    {
     "data": {
      "text/html": [
       "<div>\n",
       "<style scoped>\n",
       "    .dataframe tbody tr th:only-of-type {\n",
       "        vertical-align: middle;\n",
       "    }\n",
       "\n",
       "    .dataframe tbody tr th {\n",
       "        vertical-align: top;\n",
       "    }\n",
       "\n",
       "    .dataframe thead th {\n",
       "        text-align: right;\n",
       "    }\n",
       "</style>\n",
       "<table border=\"1\" class=\"dataframe\">\n",
       "  <thead>\n",
       "    <tr style=\"text-align: right;\">\n",
       "      <th>구매유형</th>\n",
       "      <th>1</th>\n",
       "      <th>2</th>\n",
       "      <th>3</th>\n",
       "      <th>4</th>\n",
       "      <th>All</th>\n",
       "    </tr>\n",
       "    <tr>\n",
       "      <th>클레임접수여부</th>\n",
       "      <th></th>\n",
       "      <th></th>\n",
       "      <th></th>\n",
       "      <th></th>\n",
       "      <th></th>\n",
       "    </tr>\n",
       "  </thead>\n",
       "  <tbody>\n",
       "    <tr>\n",
       "      <th>0</th>\n",
       "      <td>24</td>\n",
       "      <td>197</td>\n",
       "      <td>57</td>\n",
       "      <td>263</td>\n",
       "      <td>541</td>\n",
       "    </tr>\n",
       "    <tr>\n",
       "      <th>1</th>\n",
       "      <td>19</td>\n",
       "      <td>120</td>\n",
       "      <td>87</td>\n",
       "      <td>233</td>\n",
       "      <td>459</td>\n",
       "    </tr>\n",
       "    <tr>\n",
       "      <th>All</th>\n",
       "      <td>43</td>\n",
       "      <td>317</td>\n",
       "      <td>144</td>\n",
       "      <td>496</td>\n",
       "      <td>1000</td>\n",
       "    </tr>\n",
       "  </tbody>\n",
       "</table>\n",
       "</div>"
      ],
      "text/plain": [
       "구매유형      1    2    3    4   All\n",
       "클레임접수여부                         \n",
       "0        24  197   57  263   541\n",
       "1        19  120   87  233   459\n",
       "All      43  317  144  496  1000"
      ]
     },
     "execution_count": 6,
     "metadata": {},
     "output_type": "execute_result"
    }
   ],
   "source": [
    "X=pd.crosstab(df.클레임접수여부, df.구매유형, margins=True)\n",
    "X.head()"
   ]
  },
  {
   "cell_type": "markdown",
   "id": "4f4cec4a",
   "metadata": {},
   "source": [
    "[구매유형] 1:1회성구매형, 2:실용적구매형, 3: 명품구매형, 4:집중구매형   \n",
    "[클레임접수여부] 0:접수하지않음, 1:접수경험있음   \n",
    "   \n",
    "     \n",
    "       \n",
    "#### 적합도 분석\n",
    "H0(귀무가설)=클레임 접수 고객의 구매유형별 비율은 1회성구매형 10%, 실용적구매 30%,  \n",
    "명품구매형 20%, 집중구매형 40%이다.  \n",
    "H1(대립가설)=클레임 접수 고객의 구매유형별 비율은 1회성구매형 10%, 실용적구매 30%,    \n",
    "명품구매형 20%, 집중구매형 40%가 아니다."
   ]
  },
  {
   "cell_type": "code",
   "execution_count": 11,
   "id": "6777acff",
   "metadata": {},
   "outputs": [
    {
     "data": {
      "text/plain": [
       "array([ 45.9, 137.7,  91.8, 183.6])"
      ]
     },
     "execution_count": 11,
     "metadata": {},
     "output_type": "execute_result"
    }
   ],
   "source": [
    "Ob = X.values[1,:4]\n",
    "Ob\n",
    "Pr = np.array([0.1, 0.3, 0.2, 0.4])\n",
    "n= X.values[1,4]\n",
    "E=n*Pr\n",
    "E"
   ]
  },
  {
   "cell_type": "code",
   "execution_count": 15,
   "id": "db8489c1",
   "metadata": {},
   "outputs": [
    {
     "data": {
      "text/plain": [
       "array([ 4.13943355, 26.14379085, 18.95424837, 50.76252723])"
      ]
     },
     "execution_count": 15,
     "metadata": {},
     "output_type": "execute_result"
    }
   ],
   "source": [
    "Ob/n*100"
   ]
  },
  {
   "cell_type": "code",
   "execution_count": 12,
   "id": "17e3f1a1",
   "metadata": {},
   "outputs": [
    {
     "data": {
      "text/plain": [
       "Power_divergenceResult(statistic=31.582788671023955, pvalue=6.407672361002909e-07)"
      ]
     },
     "execution_count": 12,
     "metadata": {},
     "output_type": "execute_result"
    }
   ],
   "source": [
    "stats.chisquare(Ob,E)"
   ]
  },
  {
   "cell_type": "markdown",
   "id": "86b18002",
   "metadata": {},
   "source": [
    "카이제곱 통계량은 31.6, 유의수준 p-value는 0.01이하로 출력되었다.  \n",
    "즉, 클레임 접수 고객의 구매유형별 비율은 귀무가설을 따르지 않는다."
   ]
  },
  {
   "cell_type": "markdown",
   "id": "190b757b",
   "metadata": {},
   "source": [
    "#### 독립성 검정\n",
    "두개의 범주형 변수간에 연관성이 있는지, 독립적인지 통계적으로 판단  \n",
    "H0(귀무가설)=클레임 접수 여부와 성별은 연관성이 없다.  \n",
    "H1(대립가설)=클레임 접수 여부와 성별은 연관성이 있다.  \n",
    "[성별] 0:남성, 1:여성"
   ]
  },
  {
   "cell_type": "code",
   "execution_count": 16,
   "id": "5b3612a6",
   "metadata": {},
   "outputs": [
    {
     "data": {
      "text/html": [
       "<div>\n",
       "<style scoped>\n",
       "    .dataframe tbody tr th:only-of-type {\n",
       "        vertical-align: middle;\n",
       "    }\n",
       "\n",
       "    .dataframe tbody tr th {\n",
       "        vertical-align: top;\n",
       "    }\n",
       "\n",
       "    .dataframe thead th {\n",
       "        text-align: right;\n",
       "    }\n",
       "</style>\n",
       "<table border=\"1\" class=\"dataframe\">\n",
       "  <thead>\n",
       "    <tr style=\"text-align: right;\">\n",
       "      <th>클레임접수여부</th>\n",
       "      <th>0</th>\n",
       "      <th>1</th>\n",
       "    </tr>\n",
       "    <tr>\n",
       "      <th>성별</th>\n",
       "      <th></th>\n",
       "      <th></th>\n",
       "    </tr>\n",
       "  </thead>\n",
       "  <tbody>\n",
       "    <tr>\n",
       "      <th>0</th>\n",
       "      <td>139</td>\n",
       "      <td>10</td>\n",
       "    </tr>\n",
       "    <tr>\n",
       "      <th>1</th>\n",
       "      <td>402</td>\n",
       "      <td>449</td>\n",
       "    </tr>\n",
       "  </tbody>\n",
       "</table>\n",
       "</div>"
      ],
      "text/plain": [
       "클레임접수여부    0    1\n",
       "성별               \n",
       "0        139   10\n",
       "1        402  449"
      ]
     },
     "execution_count": 16,
     "metadata": {},
     "output_type": "execute_result"
    }
   ],
   "source": [
    "X=pd.crosstab(df.성별, df.클레임접수여부, margins=False)\n",
    "X"
   ]
  },
  {
   "cell_type": "code",
   "execution_count": 17,
   "id": "b319d5f2",
   "metadata": {},
   "outputs": [
    {
     "data": {
      "text/plain": [
       "(106.43790651350751,\n",
       " 5.911607287197053e-25,\n",
       " 1,\n",
       " array([[ 80.609,  68.391],\n",
       "        [460.391, 390.609]]))"
      ]
     },
     "execution_count": 17,
     "metadata": {},
     "output_type": "execute_result"
    }
   ],
   "source": [
    "stats.chi2_contingency(X)"
   ]
  },
  {
   "cell_type": "markdown",
   "id": "9ab0b2f3",
   "metadata": {},
   "source": [
    "독립성 검정결과 카이제곱 통계량은 106.437, 유의수준 p-value는 0.01 이하로 도출되었다.   \n",
    "따라서, 클레임접수여부와 성별은 연관성이 있다.  \n",
    "결과에 따라, 남성과 여성 성별에 따라 다른 방식의 고객서비스를 제공함으로써 고객의 불만을 최소화 시킬 수 있는 방안을 모색해야 한다."
   ]
  },
  {
   "cell_type": "markdown",
   "id": "4bb46ddf",
   "metadata": {},
   "source": [
    "#### 동질성 검정    \n",
    "서로 다른 모집단에서 독립적으로 추출한 표본들의 범주별 비율이 서로 동질적인 것인지 검정    \n",
    "H0(귀무가설):청년층과 중장년층의 구매 유형비율은 동일하다.   \n",
    "H1(대립가설):청년층과 중장년층의 구매 유형비율은 동일하지 않다.   \n",
    "   "
   ]
  },
  {
   "cell_type": "code",
   "execution_count": 37,
   "id": "e739f060",
   "metadata": {},
   "outputs": [],
   "source": [
    "#고객_나이대 : 1(19세 이하), 2(20~24), 3(25~29), 4(30~34), 5(35~39), \n",
    "#              6(40~44), 7(45~49), 8(50~54), 9(55세 이상)\n",
    "#구매유형 1:1회성구매형, 2:실용적구매형, 3: 명품구매형, 4:집중구매형\n",
    "import warnings\n",
    "warnings.filterwarnings('ignore')\n",
    "df['고객연령대']=\"\""
   ]
  },
  {
   "cell_type": "code",
   "execution_count": 38,
   "id": "c7951799",
   "metadata": {},
   "outputs": [],
   "source": [
    "df.고객연령대[df.고객_나이대==1]=\"1\",\n",
    "df.고객연령대[df.고객_나이대==2]=\"1\",\n",
    "df.고객연령대[df.고객_나이대==3]=\"1\",\n",
    "df.고객연령대[df.고객_나이대==4]=\"1\",\n",
    "df.고객연령대[df.고객_나이대==5]=\"1\",\n",
    "df.고객연령대[df.고객_나이대==6]=\"2\",\n",
    "df.고객연령대[df.고객_나이대==7]=\"2\",\n",
    "df.고객연령대[df.고객_나이대==8]=\"2\",\n",
    "df.고객연령대[df.고객_나이대==9]=\"2\""
   ]
  },
  {
   "cell_type": "code",
   "execution_count": 42,
   "id": "e9ae398e",
   "metadata": {},
   "outputs": [
    {
     "data": {
      "text/plain": [
       "1    609\n",
       "2    391\n",
       "Name: 고객연령대, dtype: int64"
      ]
     },
     "execution_count": 42,
     "metadata": {},
     "output_type": "execute_result"
    }
   ],
   "source": [
    "df.고객연령대.value_counts()"
   ]
  },
  {
   "cell_type": "code",
   "execution_count": 40,
   "id": "9cf4cafe",
   "metadata": {},
   "outputs": [],
   "source": [
    "df1=df.loc[df.고객연령대=='1']\n",
    "df2=df.loc[df.고객연령대=='2']"
   ]
  },
  {
   "cell_type": "code",
   "execution_count": 43,
   "id": "1aaa47a4",
   "metadata": {},
   "outputs": [],
   "source": [
    "df1_sample=df1.sample(200, random_state=29)\n",
    "df2_sample=df2.sample(200, random_state=29)\n",
    "df3=df1_sample.append(df2_sample)"
   ]
  },
  {
   "cell_type": "code",
   "execution_count": 46,
   "id": "e35ef710",
   "metadata": {},
   "outputs": [
    {
     "data": {
      "text/plain": [
       "(8.714970024248375,\n",
       " 0.033330661685866646,\n",
       " 3,\n",
       " array([[ 9., 66., 28., 97.],\n",
       "        [ 9., 66., 28., 97.]]))"
      ]
     },
     "execution_count": 46,
     "metadata": {},
     "output_type": "execute_result"
    }
   ],
   "source": [
    "X=pd.crosstab(df3.고객연령대, df3.구매유형, margins=False)\n",
    "stats.chi2_contingency(X)"
   ]
  },
  {
   "cell_type": "code",
   "execution_count": 47,
   "id": "3ccfedb7",
   "metadata": {},
   "outputs": [
    {
     "data": {
      "text/html": [
       "<div>\n",
       "<style scoped>\n",
       "    .dataframe tbody tr th:only-of-type {\n",
       "        vertical-align: middle;\n",
       "    }\n",
       "\n",
       "    .dataframe tbody tr th {\n",
       "        vertical-align: top;\n",
       "    }\n",
       "\n",
       "    .dataframe thead th {\n",
       "        text-align: right;\n",
       "    }\n",
       "</style>\n",
       "<table border=\"1\" class=\"dataframe\">\n",
       "  <thead>\n",
       "    <tr style=\"text-align: right;\">\n",
       "      <th>구매유형</th>\n",
       "      <th>1</th>\n",
       "      <th>2</th>\n",
       "      <th>3</th>\n",
       "      <th>4</th>\n",
       "    </tr>\n",
       "    <tr>\n",
       "      <th>고객연령대</th>\n",
       "      <th></th>\n",
       "      <th></th>\n",
       "      <th></th>\n",
       "      <th></th>\n",
       "    </tr>\n",
       "  </thead>\n",
       "  <tbody>\n",
       "    <tr>\n",
       "      <th>1</th>\n",
       "      <td>10</td>\n",
       "      <td>67</td>\n",
       "      <td>18</td>\n",
       "      <td>105</td>\n",
       "    </tr>\n",
       "    <tr>\n",
       "      <th>2</th>\n",
       "      <td>8</td>\n",
       "      <td>65</td>\n",
       "      <td>38</td>\n",
       "      <td>89</td>\n",
       "    </tr>\n",
       "  </tbody>\n",
       "</table>\n",
       "</div>"
      ],
      "text/plain": [
       "구매유형    1   2   3    4\n",
       "고객연령대                 \n",
       "1      10  67  18  105\n",
       "2       8  65  38   89"
      ]
     },
     "execution_count": 47,
     "metadata": {},
     "output_type": "execute_result"
    }
   ],
   "source": [
    "X"
   ]
  },
  {
   "cell_type": "markdown",
   "id": "65b9e2c7",
   "metadata": {},
   "source": [
    "동질성 검정 결과, 카이제곱 통계량은 8.71, p-value는 0.03으로 도출되었다.  \n",
    "유의수준 95% 수준에서, A쇼핑고객들의 청년층과 중장년층의 구매유형 분포는 동질적이지 않다는 결론을 낼 수 있다.  \n",
    "청년층의 경우 실용적 구매와 집중적 구매가 비중이 높으며, 중장년층의 경우 역시 실용적 구매와 집중적 구매의 비중이 높으나  \n",
    "명품 구매형의 비중이 상대적으로 청년층 대비 높아 이에 대한 마케팅 전략 수립이 필요하다."
   ]
  }
 ],
 "metadata": {
  "kernelspec": {
   "display_name": "Python 3 (ipykernel)",
   "language": "python",
   "name": "python3"
  },
  "language_info": {
   "codemirror_mode": {
    "name": "ipython",
    "version": 3
   },
   "file_extension": ".py",
   "mimetype": "text/x-python",
   "name": "python",
   "nbconvert_exporter": "python",
   "pygments_lexer": "ipython3",
   "version": "3.9.7"
  }
 },
 "nbformat": 4,
 "nbformat_minor": 5
}
