{
 "cells": [
  {
   "cell_type": "code",
   "execution_count": 1,
   "id": "2249cb4b",
   "metadata": {},
   "outputs": [
    {
     "data": {
      "text/html": [
       "<div>\n",
       "<style scoped>\n",
       "    .dataframe tbody tr th:only-of-type {\n",
       "        vertical-align: middle;\n",
       "    }\n",
       "\n",
       "    .dataframe tbody tr th {\n",
       "        vertical-align: top;\n",
       "    }\n",
       "\n",
       "    .dataframe thead th {\n",
       "        text-align: right;\n",
       "    }\n",
       "</style>\n",
       "<table border=\"1\" class=\"dataframe\">\n",
       "  <thead>\n",
       "    <tr style=\"text-align: right;\">\n",
       "      <th></th>\n",
       "      <th>Recency</th>\n",
       "      <th>Frequency</th>\n",
       "      <th>Monetary</th>\n",
       "    </tr>\n",
       "  </thead>\n",
       "  <tbody>\n",
       "    <tr>\n",
       "      <th>190</th>\n",
       "      <td>6</td>\n",
       "      <td>1</td>\n",
       "      <td>1</td>\n",
       "    </tr>\n",
       "    <tr>\n",
       "      <th>104</th>\n",
       "      <td>7</td>\n",
       "      <td>6</td>\n",
       "      <td>7</td>\n",
       "    </tr>\n",
       "    <tr>\n",
       "      <th>295</th>\n",
       "      <td>5</td>\n",
       "      <td>3</td>\n",
       "      <td>4</td>\n",
       "    </tr>\n",
       "    <tr>\n",
       "      <th>12</th>\n",
       "      <td>7</td>\n",
       "      <td>3</td>\n",
       "      <td>4</td>\n",
       "    </tr>\n",
       "    <tr>\n",
       "      <th>87</th>\n",
       "      <td>7</td>\n",
       "      <td>3</td>\n",
       "      <td>5</td>\n",
       "    </tr>\n",
       "  </tbody>\n",
       "</table>\n",
       "</div>"
      ],
      "text/plain": [
       "     Recency  Frequency  Monetary\n",
       "190        6          1         1\n",
       "104        7          6         7\n",
       "295        5          3         4\n",
       "12         7          3         4\n",
       "87         7          3         5"
      ]
     },
     "execution_count": 1,
     "metadata": {},
     "output_type": "execute_result"
    }
   ],
   "source": [
    "import pandas as pd\n",
    "from scipy.cluster.hierarchy import linkage\n",
    "df = pd.read_csv('datasets/Ashopping.csv', sep=',', encoding='CP949')\n",
    "data_temp = df.sample(n=500, random_state=111)\n",
    "X=data_temp[['Recency','Frequency','Monetary']]\n",
    "X.head()"
   ]
  },
  {
   "cell_type": "code",
   "execution_count": 2,
   "id": "5c6a9f35",
   "metadata": {},
   "outputs": [
    {
     "data": {
      "text/plain": [
       "array([[969.        , 979.        ,   2.43557142,  72.        ],\n",
       "       [978.        , 988.        ,   2.60070576,  33.        ],\n",
       "       [984.        , 991.        ,   2.78913055,  40.        ],\n",
       "       [981.        , 989.        ,   3.05800305, 374.        ],\n",
       "       [986.        , 990.        ,   3.11871825,  81.        ],\n",
       "       [161.        , 993.        ,   3.55293738, 375.        ],\n",
       "       [994.        , 995.        ,   3.67802103, 456.        ],\n",
       "       [987.        , 992.        ,   3.97824721,  44.        ],\n",
       "       [996.        , 997.        ,   6.01862823, 500.        ]])"
      ]
     },
     "execution_count": 2,
     "metadata": {},
     "output_type": "execute_result"
    }
   ],
   "source": [
    "#계층적 군집분석\n",
    "cluster=linkage(X, method='average', metric='euclidean')\n",
    "cluster[490:]"
   ]
  },
  {
   "cell_type": "markdown",
   "id": "6e01fc6c",
   "metadata": {},
   "source": [
    "1,2열은 병합되는 군집번호, 3열은 군집간 거리, 4열은 군집에 속한 개체수이다.  \n",
    "끝에서 2번째 단계인 군집간 거리가 3.978에서 6.01로 66% 증가했으므로 2개의 군집으로 나누는것이 적절하다."
   ]
  },
  {
   "cell_type": "code",
   "execution_count": 3,
   "id": "dcc5caa5",
   "metadata": {},
   "outputs": [],
   "source": [
    "from scipy.cluster.hierarchy import dendrogram\n",
    "import matplotlib.pyplot as plt"
   ]
  },
  {
   "cell_type": "code",
   "execution_count": 4,
   "id": "2ba9fd8b",
   "metadata": {},
   "outputs": [
    {
     "data": {
      "image/png": "[encoded data removed]",
      "text/plain": [
       "<Figure size 720x720 with 1 Axes>"
      ]
     },
     "metadata": {
      "needs_background": "light"
     },
     "output_type": "display_data"
    }
   ],
   "source": [
    "%matplotlib inline\n",
    "plt.figure(figsize=(10,10))\n",
    "plt.title('Dendrogram')\n",
    "plt.xlabel('Index')\n",
    "plt.ylabel('Distance')\n",
    "dendrogram(cluster)\n",
    "plt.show()"
   ]
  },
  {
   "cell_type": "code",
   "execution_count": 28,
   "id": "7df1e182",
   "metadata": {},
   "outputs": [
    {
     "name": "stderr",
     "output_type": "stream",
     "text": [
      "C:\\Users\\Public\\Documents\\ESTsoft\\CreatorTemp/ipykernel_51464/38339899.py:5: SettingWithCopyWarning: \n",
      "A value is trying to be set on a copy of a slice from a DataFrame.\n",
      "Try using .loc[row_indexer,col_indexer] = value instead\n",
      "\n",
      "See the caveats in the documentation: https://pandas.pydata.org/pandas-docs/stable/user_guide/indexing.html#returning-a-view-versus-a-copy\n",
      "  X['cluster_ID']=model.labels_\n"
     ]
    }
   ],
   "source": [
    "#비계층적 군집분석\n",
    "from sklearn.cluster import KMeans\n",
    "df = pd.read_csv('datasets/Ashopping.csv', sep=',', encoding='CP949')\n",
    "X=df[['Recency','Frequency','Monetary']]\n",
    "model = KMeans(n_clusters=3, max_iter=20, random_state=19).fit(X)\n",
    "X['cluster_ID']=model.labels_"
   ]
  },
  {
   "cell_type": "code",
   "execution_count": 29,
   "id": "6262c472",
   "metadata": {},
   "outputs": [
    {
     "name": "stdout",
     "output_type": "stream",
     "text": [
      "군집1 고객수: 512\n",
      "군집2 고객수: 77\n",
      "군집3 고객수: 411\n"
     ]
    }
   ],
   "source": [
    "#군집별 고객 수 확인\n",
    "clu1=X[X.cluster_ID==0]\n",
    "clu2=X[X.cluster_ID==1]\n",
    "clu3=X[X.cluster_ID==2]\n",
    "print('군집1 고객수:',clu1.cluster_ID.count())\n",
    "print('군집2 고객수:',clu2.cluster_ID.count())\n",
    "print('군집3 고객수:',clu3.cluster_ID.count())"
   ]
  },
  {
   "cell_type": "code",
   "execution_count": 30,
   "id": "d54f5f51",
   "metadata": {},
   "outputs": [
    {
     "name": "stdout",
     "output_type": "stream",
     "text": [
      "군집1의 RFM 평균: 6.8359375 3.212890625 2.892578125\n",
      "군집2의 RFM 평균: 1.7792207792207793 3.207792207792208 3.7532467532467533\n",
      "군집3의 RFM 평균: 6.9391727493917275 4.600973236009732 5.768856447688565\n"
     ]
    }
   ],
   "source": [
    "#군집별 평균 RFM 확인\n",
    "print('군집1의 RFM 평균:',clu1.Recency.mean(), clu1.Frequency.mean(), clu1.Monetary.mean())\n",
    "print('군집2의 RFM 평균:',clu2.Recency.mean(), clu2.Frequency.mean(), clu2.Monetary.mean())\n",
    "print('군집3의 RFM 평균:',clu3.Recency.mean(), clu3.Frequency.mean(), clu3.Monetary.mean())"
   ]
  },
  {
   "cell_type": "markdown",
   "id": "7b6f1be8",
   "metadata": {},
   "source": [
    "3개의 군집으로 나타난 결과를 보면 군집 고객수는 1>3>2 순서이고, 군집별 3가지 변수의 평균을 보면  \n",
    "군집3이 우량고객 그룹임을 알 수 있다.  \n",
    "Frequency와 Monetary를 보면 1과 2가 유사한 그룹으로 보이지만, Recency의 큰 차이가 있다."
   ]
  }
 ],
 "metadata": {
  "kernelspec": {
   "display_name": "Python 3 (ipykernel)",
   "language": "python",
   "name": "python3"
  },
  "language_info": {
   "codemirror_mode": {
    "name": "ipython",
    "version": 3
   },
   "file_extension": ".py",
   "mimetype": "text/x-python",
   "name": "python",
   "nbconvert_exporter": "python",
   "pygments_lexer": "ipython3",
   "version": "3.9.7"
  }
 },
 "nbformat": 4,
 "nbformat_minor": 5
}
