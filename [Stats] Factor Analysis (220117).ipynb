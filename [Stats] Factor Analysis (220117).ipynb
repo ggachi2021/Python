{
 "cells": [
  {
   "cell_type": "code",
   "execution_count": 23,
   "id": "8da4289c",
   "metadata": {},
   "outputs": [],
   "source": [
    "import pandas as pd\n",
    "import numpy as np\n",
    "from factor_analyzer import FactorAnalyzer\n",
    "df=pd.read_csv('datasets/Ashopping.csv', sep=',', encoding='CP949')"
   ]
  },
  {
   "cell_type": "code",
   "execution_count": 14,
   "id": "5a932417",
   "metadata": {},
   "outputs": [
    {
     "data": {
      "text/plain": [
       "고객ID                  0\n",
       "이탈여부                  0\n",
       "총_매출액                 0\n",
       "방문빈도                  0\n",
       "1회_평균매출액              0\n",
       "할인권_사용 횟수             0\n",
       "총_할인_금액               0\n",
       "고객등급                  0\n",
       "구매유형                  0\n",
       "클레임접수여부               0\n",
       "구매_카테고리_수             0\n",
       "거주지역                  0\n",
       "성별                    0\n",
       "고객_나이대                0\n",
       "거래기간                  0\n",
       "할인민감여부                0\n",
       "멤버쉽_프로그램_가입전_만족도      0\n",
       "멤버쉽_프로그램_가입후_만족도      0\n",
       "Recency               0\n",
       "Frequency             0\n",
       "Monetary              0\n",
       "상품_만족도                0\n",
       "매장_만족도                0\n",
       "서비스_만족도               0\n",
       "상품_품질                 0\n",
       "상품_다양성                0\n",
       "가격_적절성                0\n",
       "상품_진열_위치             66\n",
       "상품_설명_표시            138\n",
       "매장_청결성                0\n",
       "공간_편의성                0\n",
       "시야_확보성                0\n",
       "음향_적절성                0\n",
       "안내_표지판_설명             0\n",
       "친절성                   0\n",
       "신속성                   0\n",
       "책임성                   0\n",
       "정확성                   0\n",
       "전문성                   0\n",
       "dtype: int64"
      ]
     },
     "execution_count": 14,
     "metadata": {},
     "output_type": "execute_result"
    }
   ],
   "source": [
    "df.isnull().sum()"
   ]
  },
  {
   "cell_type": "code",
   "execution_count": 25,
   "id": "71821b32",
   "metadata": {},
   "outputs": [
    {
     "data": {
      "text/plain": [
       "array([ 6., nan,  7.,  5.,  4.])"
      ]
     },
     "execution_count": 25,
     "metadata": {},
     "output_type": "execute_result"
    }
   ],
   "source": [
    "df.상품_설명_표시.unique()"
   ]
  },
  {
   "cell_type": "code",
   "execution_count": 26,
   "id": "5700d0bb",
   "metadata": {},
   "outputs": [],
   "source": [
    "#변수추출\n",
    "X=df[['상품_품질','상품_다양성','가격_적절성','상품_진열_위치','상품_설명_표시',\n",
    "     '매장_청결성','공간_편의성','시야_확보성','음향_적절성','안내_표지판_설명']]"
   ]
  },
  {
   "cell_type": "code",
   "execution_count": 31,
   "id": "19ad21d3",
   "metadata": {},
   "outputs": [],
   "source": [
    "#탐색적요인분석\n",
    "fa=FactorAnalyzer(method='principal',n_factors=2,rotation='varimax').fit(X)"
   ]
  },
  {
   "cell_type": "code",
   "execution_count": 32,
   "id": "30c2ca37",
   "metadata": {},
   "outputs": [
    {
     "name": "stdout",
     "output_type": "stream",
     "text": [
      "요인적재량:\n",
      "                   0         1\n",
      "상품_품질      0.449335  0.519757\n",
      "상품_다양성     0.320420  0.615774\n",
      "가격_적절성     0.225079  0.709959\n",
      "상품_진열_위치   0.261779  0.734248\n",
      "상품_설명_표시   0.072552  0.754670\n",
      "매장_청결성     0.661093  0.236649\n",
      "공간_편의성     0.609502  0.399518\n",
      "시야_확보성     0.664336  0.212471\n",
      "음향_적절성     0.636674  0.244599\n",
      "안내_표지판_설명  0.790881  0.085513\n",
      "\n",
      "공통성:\n",
      "                   0\n",
      "상품_품질      0.472049\n",
      "상품_다양성     0.481846\n",
      "가격_적절성     0.554703\n",
      "상품_진열_위치   0.607648\n",
      "상품_설명_표시   0.574791\n",
      "매장_청결성     0.493047\n",
      "공간_편의성     0.531108\n",
      "시야_확보성     0.486487\n",
      "음향_적절성     0.465182\n",
      "안내_표지판_설명  0.632805\n",
      "\n",
      "고유값:\n",
      "           0\n",
      "0  4.253033\n",
      "1  1.046634\n",
      "2  0.803469\n",
      "3  0.748182\n",
      "4  0.679501\n",
      "5  0.596066\n",
      "6  0.551448\n",
      "7  0.501088\n",
      "8  0.440777\n",
      "9  0.379804\n",
      "\n",
      "요인점수:\n",
      " [[ 0.45482355  1.31311697]\n",
      " [ 0.04384855 -0.02882105]\n",
      " [-0.54433042  0.04835029]\n",
      " ...\n",
      " [ 0.03251865  0.9035014 ]\n",
      " [-2.41511577 -1.14112745]\n",
      " [ 0.83380422  0.93841954]]\n"
     ]
    }
   ],
   "source": [
    "#결과출력\n",
    "print('요인적재량:\\n',pd.DataFrame(fa.loadings_, index=X.columns))\n",
    "print('\\n공통성:\\n',pd.DataFrame(fa.get_communalities(), index=X.columns))\n",
    "ev, v=fa.get_eigenvalues()\n",
    "print('\\n고유값:\\n',pd.DataFrame(ev))\n",
    "print('\\n요인점수:\\n',fa.transform(X.dropna()))"
   ]
  },
  {
   "cell_type": "markdown",
   "id": "0bc52b04",
   "metadata": {},
   "source": [
    "고유값 기준으로 1보다 큰 값을 갖는 요인은 2개까지 이므로, 총 2개 요인이 적절하다.  \n",
    "첫번째 요인에는 매장_청결성, 공간 편의성, 시야 확보성, 음향 적절성, 안내 표지판 설명 5개 변수가   \n",
    "두번째 요인에는 상품 품질, 상품 다양성, 가격 적절성, 상품 진열위치, 상품설명 표시 5개 변수가 묶였다.   \n",
    "첫번째 요인은 매장만족도, 두번째 요인은 상품만족도라고 명명 할 수 있다.  "
   ]
  }
 ],
 "metadata": {
  "kernelspec": {
   "display_name": "Python 3 (ipykernel)",
   "language": "python",
   "name": "python3"
  },
  "language_info": {
   "codemirror_mode": {
    "name": "ipython",
    "version": 3
   },
   "file_extension": ".py",
   "mimetype": "text/x-python",
   "name": "python",
   "nbconvert_exporter": "python",
   "pygments_lexer": "ipython3",
   "version": "3.9.7"
  }
 },
 "nbformat": 4,
 "nbformat_minor": 5
}
