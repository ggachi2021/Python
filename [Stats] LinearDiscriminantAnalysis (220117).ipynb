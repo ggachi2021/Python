{
 "cells": [
  {
   "cell_type": "markdown",
   "id": "38738b5b",
   "metadata": {},
   "source": [
    "#### 선형판별분석   \n",
    "이미 분류되어 있는 집단 사이의 차이를 설명할 수 있는 독립변수를 찾아내고, 이 변수들의 선형결합으로 이루어진 판별식 확인  \n",
    "H0(귀무가설):방문빈도와 Monetary, 거래기간은 이탈에 영향을 주지않는다.   \n",
    "H1(대립가설):방문빈도와 Monetary, 거래기간은 이탈에 영향을 준다.   \n",
    "전제조건  \n",
    "1. 독립변수는 정규분포를 따라야 한다.  \n",
    "2. 종속변수와 독립변수는 상관관계를 가져야 한다.   \n",
    "3. 독립변수들 사이에 상관관계가 없거나 작아야한다.   \n",
    "4. 종속변수로 구분되는 각 집단별 공분산 행렬이 유사해야한다."
   ]
  },
  {
   "cell_type": "code",
   "execution_count": 3,
   "id": "de5dc5a8",
   "metadata": {},
   "outputs": [],
   "source": [
    "import pandas as pd\n",
    "import numpy as np\n",
    "from sklearn.discriminant_analysis import LinearDiscriminantAnalysis as LDA\n",
    "from sklearn.metrics import confusion_matrix"
   ]
  },
  {
   "cell_type": "code",
   "execution_count": 5,
   "id": "853ec974",
   "metadata": {},
   "outputs": [],
   "source": [
    "df = pd.read_csv('datasets/Ashopping.csv', sep=',', encoding='CP949')"
   ]
  },
  {
   "cell_type": "code",
   "execution_count": 6,
   "id": "3000db64",
   "metadata": {},
   "outputs": [],
   "source": [
    "X=df[['방문빈도','Monetary','거래기간']]\n",
    "Y=df[['이탈여부']]"
   ]
  },
  {
   "cell_type": "code",
   "execution_count": 8,
   "id": "81b2f678",
   "metadata": {},
   "outputs": [
    {
     "data": {
      "text/plain": [
       "LinearDiscriminantAnalysis()"
      ]
     },
     "execution_count": 8,
     "metadata": {},
     "output_type": "execute_result"
    }
   ],
   "source": [
    "# 선형판별분석\n",
    "lda = LDA().fit(X, Y.values.ravel())\n",
    "lda"
   ]
  },
  {
   "cell_type": "code",
   "execution_count": 17,
   "id": "8feb46ee",
   "metadata": {},
   "outputs": [
    {
     "name": "stdout",
     "output_type": "stream",
     "text": [
      "판별식 선형계수: [[ 0.074  0.222 -0.097]]\n",
      "\n",
      "판별식 절편: [72.999]\n",
      "\n",
      "예측결과:\n",
      "      0\n",
      "0    0\n",
      "1    1\n",
      "2    0\n",
      "3    0\n",
      "4    0\n",
      "..  ..\n",
      "995  0\n",
      "996  0\n",
      "997  0\n",
      "998  0\n",
      "999  0\n",
      "\n",
      "[1000 rows x 1 columns]\n",
      "\n",
      "예측스코어:\n",
      "                 0             1\n",
      "0    1.000000e+00  2.471028e-13\n",
      "1    1.185558e-10  1.000000e+00\n",
      "2    1.000000e+00  1.549378e-13\n",
      "3    1.000000e+00  1.011901e-10\n",
      "4    1.000000e+00  1.542091e-11\n",
      "..            ...           ...\n",
      "995  1.000000e+00  1.895547e-12\n",
      "996  1.000000e+00  2.153449e-10\n",
      "997  1.000000e+00  2.691201e-14\n",
      "998  1.000000e+00  8.726427e-13\n",
      "999  1.000000e+00  6.063388e-13\n",
      "\n",
      "[1000 rows x 2 columns]\n",
      "\n",
      "예측정확도: 0.986\n"
     ]
    }
   ],
   "source": [
    "#예측결과\n",
    "print('판별식 선형계수:',np.round(lda.coef_,3))\n",
    "print('\\n판별식 절편:',np.round(lda.intercept_,3))\n",
    "print('\\n예측결과:\\n', pd.DataFrame(lda.predict(X)))\n",
    "print('\\n예측스코어:\\n',pd.DataFrame(lda.predict_proba(X)))\n",
    "print('\\n예측정확도:',lda.score(X,Y))"
   ]
  },
  {
   "cell_type": "code",
   "execution_count": 19,
   "id": "9a4e65ec",
   "metadata": {},
   "outputs": [
    {
     "name": "stderr",
     "output_type": "stream",
     "text": [
      "C:\\Users\\Public\\Documents\\ESTsoft\\CreatorTemp/ipykernel_43440/2061594439.py:3: UserWarning: Pandas doesn't allow columns to be created via a new attribute name - see https://pandas.pydata.org/pandas-docs/stable/indexing.html#attribute-access\n",
      "  cf_m.colums=['예측0', '예측1']\n"
     ]
    },
    {
     "data": {
      "text/html": [
       "<div>\n",
       "<style scoped>\n",
       "    .dataframe tbody tr th:only-of-type {\n",
       "        vertical-align: middle;\n",
       "    }\n",
       "\n",
       "    .dataframe tbody tr th {\n",
       "        vertical-align: top;\n",
       "    }\n",
       "\n",
       "    .dataframe thead th {\n",
       "        text-align: right;\n",
       "    }\n",
       "</style>\n",
       "<table border=\"1\" class=\"dataframe\">\n",
       "  <thead>\n",
       "    <tr style=\"text-align: right;\">\n",
       "      <th></th>\n",
       "      <th>0</th>\n",
       "      <th>1</th>\n",
       "    </tr>\n",
       "  </thead>\n",
       "  <tbody>\n",
       "    <tr>\n",
       "      <th>실제0</th>\n",
       "      <td>921</td>\n",
       "      <td>12</td>\n",
       "    </tr>\n",
       "    <tr>\n",
       "      <th>실제1</th>\n",
       "      <td>2</td>\n",
       "      <td>65</td>\n",
       "    </tr>\n",
       "  </tbody>\n",
       "</table>\n",
       "</div>"
      ],
      "text/plain": [
       "       0   1\n",
       "실제0  921  12\n",
       "실제1    2  65"
      ]
     },
     "execution_count": 19,
     "metadata": {},
     "output_type": "execute_result"
    }
   ],
   "source": [
    "#분류행렬표 출력\n",
    "cf_m = pd.DataFrame(confusion_matrix(Y, lda.predict(X)))\n",
    "cf_m.colums=['예측0', '예측1']\n",
    "cf_m.index=['실제0', '실제1']\n",
    "cf_m"
   ]
  },
  {
   "cell_type": "markdown",
   "id": "29da76ed",
   "metadata": {},
   "source": [
    "예측 정확도는 0.986으로 매우 높은 정확도를 보였다.  \n",
    "선형판별분석 결과 도출된 선형계수와 절편을 통해 선형판별식은  \n",
    "Y=72.999 + 0.074*방문빈도 + 0.222*Monetary - 0.097*거래기간 으로 알수있다.  "
   ]
  }
 ],
 "metadata": {
  "kernelspec": {
   "display_name": "Python 3 (ipykernel)",
   "language": "python",
   "name": "python3"
  },
  "language_info": {
   "codemirror_mode": {
    "name": "ipython",
    "version": 3
   },
   "file_extension": ".py",
   "mimetype": "text/x-python",
   "name": "python",
   "nbconvert_exporter": "python",
   "pygments_lexer": "ipython3",
   "version": "3.9.7"
  }
 },
 "nbformat": 4,
 "nbformat_minor": 5
}
