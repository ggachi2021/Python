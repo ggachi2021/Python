{
 "cells": [
  {
   "cell_type": "markdown",
   "id": "733508a5",
   "metadata": {},
   "source": [
    "#### 로지스틱 회귀분석  (분류)\n",
    "범주형 혹은 명목형 척도로 구성된 종속변수에 대해 분류예측을 할 수 있는 다변량 통계기법이며,  \n",
    "로지스틱 회귀분석은 선형함수가 아닌 로짓함수를 사용한다는 점, 등간/비율 척도가 아닌  \n",
    "다른 형태의 변수도 독립변수로 수용할 수 있다는 점, 그리고 판별분석이 가정하는 전제조건을 엄격히 적용하지 않는다.  \n",
    "수치형 종속변수를 직접 산출하는 일반적인 회귀분석과는 달리 특정 집단 또는 범주에 속할 확률 값을 추정한다."
   ]
  },
  {
   "cell_type": "markdown",
   "id": "7b0b3e08",
   "metadata": {},
   "source": [
    "H0(귀무가설):거래기간,Eecency,성별은 이탈에 영향을 주지 않는다.  \n",
    "H1(대립가설):거래기간,Eecency,성별은 이탈에 영향을 준다."
   ]
  },
  {
   "cell_type": "code",
   "execution_count": 1,
   "id": "ff001917",
   "metadata": {},
   "outputs": [],
   "source": [
    "import pandas as pd\n",
    "import numpy as np\n",
    "import statsmodels.api as sm\n",
    "pd.options.display.float_format = '{:.3f}'.format\n",
    "df = pd.read_csv('datasets/Ashopping.csv', sep=',', encoding='CP949')"
   ]
  },
  {
   "cell_type": "code",
   "execution_count": 2,
   "id": "c9d9ad93",
   "metadata": {},
   "outputs": [],
   "source": [
    "#더비변수 생성\n",
    "df2 = pd.get_dummies(df['성별'], prefix='성별', drop_first=False)\n",
    "df3 = pd.concat([df,df2],axis=1)"
   ]
  },
  {
   "cell_type": "code",
   "execution_count": 12,
   "id": "3f41bb62",
   "metadata": {},
   "outputs": [
    {
     "name": "stdout",
     "output_type": "stream",
     "text": [
      "Optimization terminated successfully.\n",
      "         Current function value: 0.015583\n",
      "         Iterations 12\n"
     ]
    }
   ],
   "source": [
    "#종속변수와 독립변수 구분하기\n",
    "df3['intersept']=1.0\n",
    "x=df3[['intersept','거래기간','Recency','성별_0']]\n",
    "y=df3[['이탈여부']]\n",
    "#로지스틱 회귀분석 실행하기\n",
    "logit=sm.Logit(y,x).fit()"
   ]
  },
  {
   "cell_type": "code",
   "execution_count": 14,
   "id": "86c21d09",
   "metadata": {},
   "outputs": [
    {
     "name": "stdout",
     "output_type": "stream",
     "text": [
      "                         Results: Logit\n",
      "=================================================================\n",
      "Model:              Logit            Pseudo R-squared: 0.937     \n",
      "Dependent Variable: 이탈여부             AIC:              39.1656   \n",
      "Date:               2022-01-18 11:30 BIC:              58.7966   \n",
      "No. Observations:   1000             Log-Likelihood:   -15.583   \n",
      "Df Model:           3                LL-Null:          -245.81   \n",
      "Df Residuals:       996              LLR p-value:      1.7725e-99\n",
      "Converged:          1.0000           Scale:            1.0000    \n",
      "No. Iterations:     12.0000                                      \n",
      "------------------------------------------------------------------\n",
      "               Coef.   Std.Err.     z     P>|z|    [0.025   0.975]\n",
      "------------------------------------------------------------------\n",
      "intersept     19.1980    4.0839   4.7009  0.0000  11.1937  27.2022\n",
      "거래기간          -0.0204    0.0052  -3.9300  0.0001  -0.0306  -0.0102\n",
      "Recency       -1.2554    0.3561  -3.5257  0.0004  -1.9533  -0.5575\n",
      "성별_0          -2.0203    1.2193  -1.6569  0.0975  -4.4100   0.3695\n",
      "=================================================================\n",
      "\n",
      "\n",
      "오즈비:\n",
      " intersept   217558462.692\n",
      "거래기간                0.980\n",
      "Recency             0.285\n",
      "성별_0                0.133\n",
      "dtype: float64\n",
      "\n",
      "분류행렬표:\n",
      "         예측0    예측1\n",
      "실제0 930.000  3.000\n",
      "실제1   3.000 64.000\n"
     ]
    }
   ],
   "source": [
    "#분석결과\n",
    "print(logit.summary2())\n",
    "print('\\n오즈비:\\n',np.exp(logit.params))\n",
    "cf_m2=pd.DataFrame(logit.pred_table())\n",
    "cf_m2.columns=['예측0','예측1']\n",
    "cf_m2.index=['실제0','실제1']\n",
    "print('\\n분류행렬표:\\n',cf_m2)"
   ]
  },
  {
   "cell_type": "markdown",
   "id": "4e7c7815",
   "metadata": {},
   "source": [
    "유사결정계수(Pseudo R-squared)는 0.937 으로 매우 유의한 모형으로 나타났다.  \n",
    "절편의 값은 19.198이며 각 변수의 유의수준을 0.1 기준으로 하였을때,   \n",
    "모든 변수는 유의하게 나타난다.  \n",
    "오즈비 테이블에서 각 변수의 값이 1보다 작으므로, 변수의 값이 1단위가 커질때마다 이탈할 확률이 점점 낮아진다.  \n",
    "이탈여부에 대한 영향력은 성별>Recency>거래기간 순서로 부정적인 영향을 주는 것으로 나타났다.  \n",
    "즉, 남성이고, 구매 최근성이 떨어지고, 거래기간이 오래된 고객일 수록 이탈위험도가 높다."
   ]
  }
 ],
 "metadata": {
  "kernelspec": {
   "display_name": "Python 3 (ipykernel)",
   "language": "python",
   "name": "python3"
  },
  "language_info": {
   "codemirror_mode": {
    "name": "ipython",
    "version": 3
   },
   "file_extension": ".py",
   "mimetype": "text/x-python",
   "name": "python",
   "nbconvert_exporter": "python",
   "pygments_lexer": "ipython3",
   "version": "3.9.7"
  }
 },
 "nbformat": 4,
 "nbformat_minor": 5
}
