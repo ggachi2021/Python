{
 "cells": [
  {
   "cell_type": "markdown",
   "id": "fbb35b50",
   "metadata": {},
   "source": [
    "#### 비모수 통계분석"
   ]
  },
  {
   "cell_type": "markdown",
   "id": "011bb733",
   "metadata": {},
   "source": [
    "#### 적합도 검정"
   ]
  },
  {
   "cell_type": "code",
   "execution_count": 25,
   "id": "5f458122",
   "metadata": {},
   "outputs": [],
   "source": [
    "# run 검정\n",
    "from statsmodels.sandbox.stats.runs import Runs\n",
    "import numpy as np"
   ]
  },
  {
   "cell_type": "markdown",
   "id": "44e69338",
   "metadata": {},
   "source": [
    "H0(귀무가설)=멤버십 소지 고객과 비소지 고객의 방문은 무작위로 이루어졌다.   \n",
    "H1(대립가설)=멤버십 소지 고객과 비소지 고객의 방문은 무작위로 이루어지지 않았다."
   ]
  },
  {
   "cell_type": "code",
   "execution_count": 30,
   "id": "8989a3de",
   "metadata": {},
   "outputs": [
    {
     "data": {
      "text/plain": [
       "array([1, 0, 0, 0, 0, 1, 1, 1, 1, 0, 0, 0, 0, 1, 1, 0, 0, 0, 0, 0])"
      ]
     },
     "execution_count": 30,
     "metadata": {},
     "output_type": "execute_result"
    }
   ],
   "source": [
    "# 멤버십소지:1, 멤버십 비소지:0\n",
    "x=[1,0,0,0,0,1,1,1,1,0,0,0,0,1,1,0,0,0,0,0]\n",
    "x=np.array(x)\n",
    "x"
   ]
  },
  {
   "cell_type": "code",
   "execution_count": 29,
   "id": "fcfe5495",
   "metadata": {},
   "outputs": [
    {
     "data": {
      "text/plain": [
       "(-1.8277470669267506, 0.06758752074917526)"
      ]
     },
     "execution_count": 29,
     "metadata": {},
     "output_type": "execute_result"
    }
   ],
   "source": [
    "Runs(x).runs_test()"
   ]
  },
  {
   "cell_type": "markdown",
   "id": "76afc11b",
   "metadata": {},
   "source": [
    "런 검정결과 양측검정 z값은 -1.82, p값이 0.067로 도출됨으로써 유의수준 0.1에서 유의하다.   \n",
    "따라서, 멤버십 소지 고객과 멤버십 비소지 고객의 매장방문은 무작위적으로 이루어졌다는 귀무가설을 기각한다.   \n",
    "방문의 이유는 알수 없으나, 멤버십 소지 고객의 방문이 자연스럽제 못했다고 볼 수 있다."
   ]
  },
  {
   "cell_type": "code",
   "execution_count": 31,
   "id": "94ee7803",
   "metadata": {},
   "outputs": [],
   "source": [
    "# Kolmogorov-Smirnov 검정 분석\n",
    "from statsmodels.stats.diagnostic import kstest_normal"
   ]
  },
  {
   "cell_type": "markdown",
   "id": "da721668",
   "metadata": {},
   "source": [
    "H0(귀무가설)= T여행사 고객들의 고객만족도점수는 정규분포를 따른다.   \n",
    "H1(대립가설)= T여행사 고객들의 고객만족도점수는 정규분포를 따르지 않는다."
   ]
  },
  {
   "cell_type": "code",
   "execution_count": 32,
   "id": "329c91fc",
   "metadata": {},
   "outputs": [],
   "source": [
    "x = [88,75,79,84,68,51,70,75,88,90,92,88,63,72,94,80,78,98,81,67,85,87,79,81,85,48,79,86,53,100,87,80,80,32,60,75,62,82,40,57]\n",
    "x = np.array(x)"
   ]
  },
  {
   "cell_type": "code",
   "execution_count": 34,
   "id": "0910359b",
   "metadata": {},
   "outputs": [
    {
     "data": {
      "text/plain": [
       "(0.16508249090030575, 0.007856999983881514)"
      ]
     },
     "execution_count": 34,
     "metadata": {},
     "output_type": "execute_result"
    }
   ],
   "source": [
    "kstest_normal(x, dist='norm') # 검정할 분포 : norm(정규), dist(지수)"
   ]
  },
  {
   "cell_type": "markdown",
   "id": "eee48718",
   "metadata": {},
   "source": [
    "검정통계량은 0.165, 유의확를은 0.007로 유의수준 0.05보다 작게 나타났다.   \n",
    "따라서, 귀무가설을 기각하여 고객만족도 점수는 정규분포를 따르지 않는다고 볼 수 있다.   \n",
    "이결과를 바탕으로, 모수적 통계기법 보다 비모수적 통계기법을 통해 인사이트를 도출해야 한다."
   ]
  },
  {
   "cell_type": "markdown",
   "id": "d64751a4",
   "metadata": {},
   "source": [
    "#### 동질성 검정"
   ]
  },
  {
   "cell_type": "code",
   "execution_count": 37,
   "id": "64013a92",
   "metadata": {},
   "outputs": [],
   "source": [
    "# wilcoxon 부호-순위 검정\n",
    "from scipy.stats import wilcoxon"
   ]
  },
  {
   "cell_type": "markdown",
   "id": "7dfd0bc8",
   "metadata": {},
   "source": [
    "H0(귀무가설)= 기존 물류 알고리즘과 신규 알고리즘간을 통한 평균 배송시간은 차이가 없다.   \n",
    "H1(대립가설)= 기존 물류 알고리즘과 신규 알고리즘간을 통한 평균 배송시간은 차이가 있다."
   ]
  },
  {
   "cell_type": "code",
   "execution_count": 39,
   "id": "c44df21a",
   "metadata": {},
   "outputs": [
    {
     "data": {
      "text/plain": [
       "WilcoxonResult(statistic=12.0, pvalue=0.8125)"
      ]
     },
     "execution_count": 39,
     "metadata": {},
     "output_type": "execute_result"
    }
   ],
   "source": [
    "x=[10,30,9,21,35,12,17]\n",
    "y=[8,27,16,25,30,13,11]\n",
    "wilcoxon(x,y)"
   ]
  },
  {
   "cell_type": "markdown",
   "id": "a95241f8",
   "metadata": {},
   "source": [
    "wicoxon 부호-순위 통계량이 12이며, 이에대한 유의확률이 0.735이므로 귀무가설을 기각하지 못한다.   \n",
    "따라서, 기존 물류 알고리즘과 신규 알고리즘간의 평균 배송시간은 차이가 없다"
   ]
  },
  {
   "cell_type": "code",
   "execution_count": 42,
   "id": "40f853c4",
   "metadata": {},
   "outputs": [],
   "source": [
    "#Mann-whitney U 검정"
   ]
  },
  {
   "cell_type": "markdown",
   "id": "ea5dffe4",
   "metadata": {},
   "source": [
    "H0(귀무가설)= 공장 A와 공장B의 생산효율성은 동일하다.   \n",
    "H1(대립가설)= 공장 A와 공장B의 생산효율성은 다르다."
   ]
  },
  {
   "cell_type": "code",
   "execution_count": 47,
   "id": "31e3e998",
   "metadata": {},
   "outputs": [
    {
     "name": "stdout",
     "output_type": "stream",
     "text": [
      "MannwhitneyuResult(statistic=0.5, pvalue=0.015970696353780123)\n"
     ]
    }
   ],
   "source": [
    "from scipy.stats import mannwhitneyu\n",
    "x = [12, 11, 13, 14, 15]\n",
    "y = [16, 15, 17, 19, 20]\n",
    "\n",
    "print(mannwhitneyu(x,y))"
   ]
  },
  {
   "cell_type": "code",
   "execution_count": 56,
   "id": "b1b38fda",
   "metadata": {},
   "outputs": [
    {
     "data": {
      "text/html": [
       "<div>\n",
       "<style scoped>\n",
       "    .dataframe tbody tr th:only-of-type {\n",
       "        vertical-align: middle;\n",
       "    }\n",
       "\n",
       "    .dataframe tbody tr th {\n",
       "        vertical-align: top;\n",
       "    }\n",
       "\n",
       "    .dataframe thead th {\n",
       "        text-align: right;\n",
       "    }\n",
       "</style>\n",
       "<table border=\"1\" class=\"dataframe\">\n",
       "  <thead>\n",
       "    <tr style=\"text-align: right;\">\n",
       "      <th></th>\n",
       "      <th>0</th>\n",
       "      <th>생산량 순위</th>\n",
       "    </tr>\n",
       "    <tr>\n",
       "      <th>공장이름</th>\n",
       "      <th></th>\n",
       "      <th></th>\n",
       "    </tr>\n",
       "  </thead>\n",
       "  <tbody>\n",
       "    <tr>\n",
       "      <th>A</th>\n",
       "      <td>13.0</td>\n",
       "      <td>7.9</td>\n",
       "    </tr>\n",
       "    <tr>\n",
       "      <th>B</th>\n",
       "      <td>17.4</td>\n",
       "      <td>3.1</td>\n",
       "    </tr>\n",
       "  </tbody>\n",
       "</table>\n",
       "</div>"
      ],
      "text/plain": [
       "         0  생산량 순위\n",
       "공장이름              \n",
       "A     13.0     7.9\n",
       "B     17.4     3.1"
      ]
     },
     "execution_count": 56,
     "metadata": {},
     "output_type": "execute_result"
    }
   ],
   "source": [
    "# 생산량 평균 순위 출력\n",
    "xy = pd.DataFrame(x+y)\n",
    "xy['생산량 순위'] = xy.rank(ascending=False)\n",
    "xy['공장이름'] = ['A','A','A','A','A','B','B','B','B','B']\n",
    "xy.groupby('공장이름').mean()"
   ]
  },
  {
   "cell_type": "markdown",
   "id": "f1fa009b",
   "metadata": {},
   "source": [
    "Man-Whitney U 검정결과 U 통계량은 0.5이며, 유의확률은 0.016으로 유의수준 0.05보다 작으므로 귀무가설을 기각한다.   \n",
    "즉 공장 A와 공장B의 생산효율성은 다르다고 할 수 있다.   \n",
    "생산량 평균 순위를 보면 공장 A의 효율성이 떨어지는 것을 알 수 있다."
   ]
  },
  {
   "cell_type": "code",
   "execution_count": 57,
   "id": "04a409e2",
   "metadata": {},
   "outputs": [],
   "source": [
    "#Kruskal-Wallis H 검정"
   ]
  },
  {
   "cell_type": "markdown",
   "id": "00e7a043",
   "metadata": {},
   "source": [
    "H0(귀무가설)= 3개의 공장의 철근 생산량은 모두 동일하다.   \n",
    "H1(대립가설)= 3개의 공장의 철근 생산량은 모두 동일하지는 않다."
   ]
  },
  {
   "cell_type": "code",
   "execution_count": 58,
   "id": "bb417282",
   "metadata": {},
   "outputs": [],
   "source": [
    "from scipy.stats import kruskal \n",
    "a = [35,41,45,42,33,36,47,45,31,32,40,44]\n",
    "b = [40,38,44,48,45,46,42,39,40,41,38,47]\n",
    "c = [30,34,38,39,40,41,38,37,40,41,39,38] "
   ]
  },
  {
   "cell_type": "code",
   "execution_count": 59,
   "id": "6d4d1862",
   "metadata": {},
   "outputs": [
    {
     "data": {
      "text/plain": [
       "KruskalResult(statistic=6.047476974964328, pvalue=0.04861911622342764)"
      ]
     },
     "execution_count": 59,
     "metadata": {},
     "output_type": "execute_result"
    }
   ],
   "source": [
    "kruskal(a,b,c)"
   ]
  },
  {
   "cell_type": "code",
   "execution_count": 62,
   "id": "6c5f473a",
   "metadata": {},
   "outputs": [
    {
     "data": {
      "text/html": [
       "<div>\n",
       "<style scoped>\n",
       "    .dataframe tbody tr th:only-of-type {\n",
       "        vertical-align: middle;\n",
       "    }\n",
       "\n",
       "    .dataframe tbody tr th {\n",
       "        vertical-align: top;\n",
       "    }\n",
       "\n",
       "    .dataframe thead th {\n",
       "        text-align: right;\n",
       "    }\n",
       "</style>\n",
       "<table border=\"1\" class=\"dataframe\">\n",
       "  <thead>\n",
       "    <tr style=\"text-align: right;\">\n",
       "      <th></th>\n",
       "      <th>0</th>\n",
       "      <th>생산량순위</th>\n",
       "    </tr>\n",
       "    <tr>\n",
       "      <th>공장이름</th>\n",
       "      <th></th>\n",
       "      <th></th>\n",
       "    </tr>\n",
       "  </thead>\n",
       "  <tbody>\n",
       "    <tr>\n",
       "      <th>1</th>\n",
       "      <td>39.250000</td>\n",
       "      <td>19.0</td>\n",
       "    </tr>\n",
       "    <tr>\n",
       "      <th>2</th>\n",
       "      <td>42.333333</td>\n",
       "      <td>13.0</td>\n",
       "    </tr>\n",
       "    <tr>\n",
       "      <th>3</th>\n",
       "      <td>37.916667</td>\n",
       "      <td>23.5</td>\n",
       "    </tr>\n",
       "  </tbody>\n",
       "</table>\n",
       "</div>"
      ],
      "text/plain": [
       "              0  생산량순위\n",
       "공장이름                  \n",
       "1     39.250000   19.0\n",
       "2     42.333333   13.0\n",
       "3     37.916667   23.5"
      ]
     },
     "execution_count": 62,
     "metadata": {},
     "output_type": "execute_result"
    }
   ],
   "source": [
    "abc=pd.DataFrame(a+b+c)\n",
    "abc['생산량순위']=abc.rank(ascending=False)\n",
    "abc['공장이름']=''\n",
    "abc.loc[0:12,'공장이름'] = 1\n",
    "abc.loc[12:24,'공장이름'] = 2\n",
    "abc.loc[24:,'공장이름'] = 3\n",
    "abc.groupby('공장이름').mean()"
   ]
  },
  {
   "cell_type": "markdown",
   "id": "3eb713d2",
   "metadata": {},
   "source": [
    "Kruskal-Wallis H 검정결과 카이제곱이 6.05이며, 유의확률은 0.0486으로 0.05보다 작아 귀무가설을 기각한다.  \n",
    "즉, 3개 공장의 철근 생산량은 모두 동일하지 않다.   \n",
    "공장 간의 생산능력을 확인하면, 3의 평균 생산량이 가장 낮음을 알 수 있다."
   ]
  },
  {
   "cell_type": "code",
   "execution_count": 63,
   "id": "d33d27a1",
   "metadata": {},
   "outputs": [],
   "source": [
    "# Friedman 검정"
   ]
  },
  {
   "cell_type": "markdown",
   "id": "0f4a2b62",
   "metadata": {},
   "source": [
    "H0(귀무가설)= 혜택별 고객의 선호도 평가에 차이는 없다.  \n",
    "H1(대립가설)= 혜택별 고객의 선호도 평가에 차이가 있다"
   ]
  },
  {
   "cell_type": "code",
   "execution_count": 64,
   "id": "f7bc3d46",
   "metadata": {},
   "outputs": [
    {
     "data": {
      "text/plain": [
       "FriedmanchisquareResult(statistic=6.359999999999999, pvalue=0.09535032301698126)"
      ]
     },
     "execution_count": 64,
     "metadata": {},
     "output_type": "execute_result"
    }
   ],
   "source": [
    "from scipy.stats import friedmanchisquare \n",
    "a = [1,2,1,1,2]\n",
    "b = [3,3,3,2,1]\n",
    "c = [2,4,4,4,3]\n",
    "d = [4,1,2,3,4] \n",
    "\n",
    "friedmanchisquare(a,b,c,d)"
   ]
  },
  {
   "cell_type": "markdown",
   "id": "94ddbc93",
   "metadata": {},
   "source": [
    "Friedman 검정결과 카이제곱이 6.36이며, P값이 0.95로 유의수준 0.05보다 크므로 귀무가설을 기각할 수 없다.   \n",
    "혜택별 고객 선호도의 차이는 뚜렷하게 나타나지 않는다.   "
   ]
  },
  {
   "cell_type": "markdown",
   "id": "e2ff1c40",
   "metadata": {},
   "source": [
    "#### 상관성 검정"
   ]
  },
  {
   "cell_type": "code",
   "execution_count": 65,
   "id": "40a0bfdb",
   "metadata": {},
   "outputs": [],
   "source": [
    "# Kendall 서열상관 분석"
   ]
  },
  {
   "cell_type": "markdown",
   "id": "501002ad",
   "metadata": {},
   "source": [
    "H0(귀무가설) = H 홈쇼핑의 의류브랜드 가격 서열과 판매량 서열은 연관성이 없다.   \n",
    "H1(대립가설) = H 홈쇼핑의 의류브랜드 가격 서열과 판매량 서열은 연관성이 있다."
   ]
  },
  {
   "cell_type": "code",
   "execution_count": 66,
   "id": "37f95709",
   "metadata": {},
   "outputs": [
    {
     "data": {
      "text/plain": [
       "KendalltauResult(correlation=0.39999999999999997, pvalue=0.48333333333333334)"
      ]
     },
     "execution_count": 66,
     "metadata": {},
     "output_type": "execute_result"
    }
   ],
   "source": [
    "from scipy.stats import kendalltau \n",
    "x = [5,2,4,1,3]\n",
    "y = [4,1,3,2,5] \n",
    "\n",
    "#. Kendall 검정 분석 결과 출력\n",
    "kendalltau(x,y)"
   ]
  },
  {
   "cell_type": "markdown",
   "id": "c523dd1a",
   "metadata": {},
   "source": [
    "Kendall 서열상관분석 결과 상관계수는 0.4, p 값은 0.483으로 도출되었고,  \n",
    "유의수준 보다 크므로 귀무가설을 기각하지 못하여 의류브랜드 가격 서열과 판매량 서열은 연관성이 없다."
   ]
  }
 ],
 "metadata": {
  "kernelspec": {
   "display_name": "Python 3 (ipykernel)",
   "language": "python",
   "name": "python3"
  },
  "language_info": {
   "codemirror_mode": {
    "name": "ipython",
    "version": 3
   },
   "file_extension": ".py",
   "mimetype": "text/x-python",
   "name": "python",
   "nbconvert_exporter": "python",
   "pygments_lexer": "ipython3",
   "version": "3.9.7"
  }
 },
 "nbformat": 4,
 "nbformat_minor": 5
}
