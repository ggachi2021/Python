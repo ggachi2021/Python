{
 "cells": [
  {
   "cell_type": "code",
   "execution_count": 21,
   "id": "58aee327",
   "metadata": {},
   "outputs": [],
   "source": [
    "import pandas as pd\n",
    "from scipy import stats"
   ]
  },
  {
   "cell_type": "code",
   "execution_count": 22,
   "id": "efe6ffd5",
   "metadata": {},
   "outputs": [
    {
     "data": {
      "text/html": [
       "<div>\n",
       "<style scoped>\n",
       "    .dataframe tbody tr th:only-of-type {\n",
       "        vertical-align: middle;\n",
       "    }\n",
       "\n",
       "    .dataframe tbody tr th {\n",
       "        vertical-align: top;\n",
       "    }\n",
       "\n",
       "    .dataframe thead th {\n",
       "        text-align: right;\n",
       "    }\n",
       "</style>\n",
       "<table border=\"1\" class=\"dataframe\">\n",
       "  <thead>\n",
       "    <tr style=\"text-align: right;\">\n",
       "      <th></th>\n",
       "      <th>고객ID</th>\n",
       "      <th>이탈여부</th>\n",
       "      <th>총_매출액</th>\n",
       "      <th>방문빈도</th>\n",
       "      <th>1회_평균매출액</th>\n",
       "      <th>할인권_사용 횟수</th>\n",
       "      <th>총_할인_금액</th>\n",
       "      <th>고객등급</th>\n",
       "      <th>구매유형</th>\n",
       "      <th>클레임접수여부</th>\n",
       "      <th>...</th>\n",
       "      <th>매장_청결성</th>\n",
       "      <th>공간_편의성</th>\n",
       "      <th>시야_확보성</th>\n",
       "      <th>음향_적절성</th>\n",
       "      <th>안내_표지판_설명</th>\n",
       "      <th>친절성</th>\n",
       "      <th>신속성</th>\n",
       "      <th>책임성</th>\n",
       "      <th>정확성</th>\n",
       "      <th>전문성</th>\n",
       "    </tr>\n",
       "  </thead>\n",
       "  <tbody>\n",
       "    <tr>\n",
       "      <th>0</th>\n",
       "      <td>1</td>\n",
       "      <td>0</td>\n",
       "      <td>4007080</td>\n",
       "      <td>17</td>\n",
       "      <td>235711</td>\n",
       "      <td>1</td>\n",
       "      <td>5445</td>\n",
       "      <td>1</td>\n",
       "      <td>4</td>\n",
       "      <td>0</td>\n",
       "      <td>...</td>\n",
       "      <td>6</td>\n",
       "      <td>7</td>\n",
       "      <td>6</td>\n",
       "      <td>6</td>\n",
       "      <td>6</td>\n",
       "      <td>6</td>\n",
       "      <td>6</td>\n",
       "      <td>6</td>\n",
       "      <td>6</td>\n",
       "      <td>6</td>\n",
       "    </tr>\n",
       "    <tr>\n",
       "      <th>1</th>\n",
       "      <td>2</td>\n",
       "      <td>1</td>\n",
       "      <td>3168400</td>\n",
       "      <td>14</td>\n",
       "      <td>226314</td>\n",
       "      <td>22</td>\n",
       "      <td>350995</td>\n",
       "      <td>2</td>\n",
       "      <td>4</td>\n",
       "      <td>0</td>\n",
       "      <td>...</td>\n",
       "      <td>7</td>\n",
       "      <td>7</td>\n",
       "      <td>6</td>\n",
       "      <td>6</td>\n",
       "      <td>6</td>\n",
       "      <td>5</td>\n",
       "      <td>3</td>\n",
       "      <td>6</td>\n",
       "      <td>6</td>\n",
       "      <td>6</td>\n",
       "    </tr>\n",
       "    <tr>\n",
       "      <th>2</th>\n",
       "      <td>3</td>\n",
       "      <td>0</td>\n",
       "      <td>2680780</td>\n",
       "      <td>18</td>\n",
       "      <td>148932</td>\n",
       "      <td>6</td>\n",
       "      <td>186045</td>\n",
       "      <td>1</td>\n",
       "      <td>4</td>\n",
       "      <td>1</td>\n",
       "      <td>...</td>\n",
       "      <td>6</td>\n",
       "      <td>6</td>\n",
       "      <td>6</td>\n",
       "      <td>6</td>\n",
       "      <td>6</td>\n",
       "      <td>7</td>\n",
       "      <td>7</td>\n",
       "      <td>6</td>\n",
       "      <td>6</td>\n",
       "      <td>7</td>\n",
       "    </tr>\n",
       "    <tr>\n",
       "      <th>3</th>\n",
       "      <td>4</td>\n",
       "      <td>0</td>\n",
       "      <td>5946600</td>\n",
       "      <td>17</td>\n",
       "      <td>349800</td>\n",
       "      <td>1</td>\n",
       "      <td>5195</td>\n",
       "      <td>1</td>\n",
       "      <td>4</td>\n",
       "      <td>1</td>\n",
       "      <td>...</td>\n",
       "      <td>6</td>\n",
       "      <td>6</td>\n",
       "      <td>5</td>\n",
       "      <td>6</td>\n",
       "      <td>6</td>\n",
       "      <td>6</td>\n",
       "      <td>6</td>\n",
       "      <td>6</td>\n",
       "      <td>5</td>\n",
       "      <td>6</td>\n",
       "    </tr>\n",
       "    <tr>\n",
       "      <th>4</th>\n",
       "      <td>5</td>\n",
       "      <td>0</td>\n",
       "      <td>13745950</td>\n",
       "      <td>73</td>\n",
       "      <td>188301</td>\n",
       "      <td>9</td>\n",
       "      <td>246350</td>\n",
       "      <td>1</td>\n",
       "      <td>2</td>\n",
       "      <td>0</td>\n",
       "      <td>...</td>\n",
       "      <td>5</td>\n",
       "      <td>6</td>\n",
       "      <td>6</td>\n",
       "      <td>6</td>\n",
       "      <td>5</td>\n",
       "      <td>5</td>\n",
       "      <td>6</td>\n",
       "      <td>6</td>\n",
       "      <td>5</td>\n",
       "      <td>6</td>\n",
       "    </tr>\n",
       "  </tbody>\n",
       "</table>\n",
       "<p>5 rows × 39 columns</p>\n",
       "</div>"
      ],
      "text/plain": [
       "   고객ID  이탈여부     총_매출액  방문빈도  1회_평균매출액  할인권_사용 횟수  총_할인_금액  고객등급  구매유형  \\\n",
       "0     1     0   4007080    17    235711          1     5445     1     4   \n",
       "1     2     1   3168400    14    226314         22   350995     2     4   \n",
       "2     3     0   2680780    18    148932          6   186045     1     4   \n",
       "3     4     0   5946600    17    349800          1     5195     1     4   \n",
       "4     5     0  13745950    73    188301          9   246350     1     2   \n",
       "\n",
       "   클레임접수여부  ...  매장_청결성  공간_편의성  시야_확보성  음향_적절성  안내_표지판_설명  친절성  신속성  책임성  \\\n",
       "0        0  ...       6       7       6       6          6    6    6    6   \n",
       "1        0  ...       7       7       6       6          6    5    3    6   \n",
       "2        1  ...       6       6       6       6          6    7    7    6   \n",
       "3        1  ...       6       6       5       6          6    6    6    6   \n",
       "4        0  ...       5       6       6       6          5    5    6    6   \n",
       "\n",
       "   정확성  전문성  \n",
       "0    6    6  \n",
       "1    6    6  \n",
       "2    6    7  \n",
       "3    5    6  \n",
       "4    5    6  \n",
       "\n",
       "[5 rows x 39 columns]"
      ]
     },
     "execution_count": 22,
     "metadata": {},
     "output_type": "execute_result"
    }
   ],
   "source": [
    "df = pd.read_csv('datasets/Ashopping.csv', sep=',', encoding='CP949')\n",
    "df.head()"
   ]
  },
  {
   "cell_type": "code",
   "execution_count": 23,
   "id": "61da2f00",
   "metadata": {},
   "outputs": [
    {
     "data": {
      "text/html": [
       "<div>\n",
       "<style scoped>\n",
       "    .dataframe tbody tr th:only-of-type {\n",
       "        vertical-align: middle;\n",
       "    }\n",
       "\n",
       "    .dataframe tbody tr th {\n",
       "        vertical-align: top;\n",
       "    }\n",
       "\n",
       "    .dataframe thead th {\n",
       "        text-align: right;\n",
       "    }\n",
       "</style>\n",
       "<table border=\"1\" class=\"dataframe\">\n",
       "  <thead>\n",
       "    <tr style=\"text-align: right;\">\n",
       "      <th></th>\n",
       "      <th>총_매출액</th>\n",
       "      <th>방문빈도</th>\n",
       "      <th>구매_카테고리_수</th>\n",
       "    </tr>\n",
       "  </thead>\n",
       "  <tbody>\n",
       "    <tr>\n",
       "      <th>0</th>\n",
       "      <td>4007080</td>\n",
       "      <td>17</td>\n",
       "      <td>6</td>\n",
       "    </tr>\n",
       "    <tr>\n",
       "      <th>1</th>\n",
       "      <td>3168400</td>\n",
       "      <td>14</td>\n",
       "      <td>4</td>\n",
       "    </tr>\n",
       "    <tr>\n",
       "      <th>2</th>\n",
       "      <td>2680780</td>\n",
       "      <td>18</td>\n",
       "      <td>6</td>\n",
       "    </tr>\n",
       "    <tr>\n",
       "      <th>3</th>\n",
       "      <td>5946600</td>\n",
       "      <td>17</td>\n",
       "      <td>5</td>\n",
       "    </tr>\n",
       "    <tr>\n",
       "      <th>4</th>\n",
       "      <td>13745950</td>\n",
       "      <td>73</td>\n",
       "      <td>6</td>\n",
       "    </tr>\n",
       "  </tbody>\n",
       "</table>\n",
       "</div>"
      ],
      "text/plain": [
       "      총_매출액  방문빈도  구매_카테고리_수\n",
       "0   4007080    17          6\n",
       "1   3168400    14          4\n",
       "2   2680780    18          6\n",
       "3   5946600    17          5\n",
       "4  13745950    73          6"
      ]
     },
     "execution_count": 23,
     "metadata": {},
     "output_type": "execute_result"
    }
   ],
   "source": [
    "df1=df[['총_매출액','방문빈도','구매_카테고리_수']]\n",
    "df1.head()"
   ]
  },
  {
   "cell_type": "code",
   "execution_count": 24,
   "id": "26c8ac22",
   "metadata": {},
   "outputs": [
    {
     "name": "stdout",
     "output_type": "stream",
     "text": [
      "(0.6311706453193395, 3.051960449687332e-112)\n",
      "(0.30834691323967117, 1.8121422756812584e-23)\n",
      "(0.39586072218464485, 7.345432750388936e-39)\n"
     ]
    }
   ],
   "source": [
    "#수치형 변수 상관관계 분석 (피어슨)\n",
    "print(stats.pearsonr(df1.총_매출액, df1.방문빈도))\n",
    "print(stats.pearsonr(df1.총_매출액, df1.구매_카테고리_수))\n",
    "print(stats.pearsonr(df1.방문빈도, df1.구매_카테고리_수))"
   ]
  },
  {
   "cell_type": "markdown",
   "id": "2aaedea5",
   "metadata": {},
   "source": [
    "상관계수와 유의확률(p-value)가 출력된다"
   ]
  },
  {
   "cell_type": "code",
   "execution_count": 25,
   "id": "5bff0cbb",
   "metadata": {},
   "outputs": [
    {
     "data": {
      "text/html": [
       "<div>\n",
       "<style scoped>\n",
       "    .dataframe tbody tr th:only-of-type {\n",
       "        vertical-align: middle;\n",
       "    }\n",
       "\n",
       "    .dataframe tbody tr th {\n",
       "        vertical-align: top;\n",
       "    }\n",
       "\n",
       "    .dataframe thead th {\n",
       "        text-align: right;\n",
       "    }\n",
       "</style>\n",
       "<table border=\"1\" class=\"dataframe\">\n",
       "  <thead>\n",
       "    <tr style=\"text-align: right;\">\n",
       "      <th></th>\n",
       "      <th>총_매출액</th>\n",
       "      <th>방문빈도</th>\n",
       "      <th>구매_카테고리_수</th>\n",
       "    </tr>\n",
       "  </thead>\n",
       "  <tbody>\n",
       "    <tr>\n",
       "      <th>총_매출액</th>\n",
       "      <td>1.000000</td>\n",
       "      <td>0.631171</td>\n",
       "      <td>0.308347</td>\n",
       "    </tr>\n",
       "    <tr>\n",
       "      <th>방문빈도</th>\n",
       "      <td>0.631171</td>\n",
       "      <td>1.000000</td>\n",
       "      <td>0.395861</td>\n",
       "    </tr>\n",
       "    <tr>\n",
       "      <th>구매_카테고리_수</th>\n",
       "      <td>0.308347</td>\n",
       "      <td>0.395861</td>\n",
       "      <td>1.000000</td>\n",
       "    </tr>\n",
       "  </tbody>\n",
       "</table>\n",
       "</div>"
      ],
      "text/plain": [
       "              총_매출액      방문빈도  구매_카테고리_수\n",
       "총_매출액      1.000000  0.631171   0.308347\n",
       "방문빈도       0.631171  1.000000   0.395861\n",
       "구매_카테고리_수  0.308347  0.395861   1.000000"
      ]
     },
     "execution_count": 25,
     "metadata": {},
     "output_type": "execute_result"
    }
   ],
   "source": [
    "df1.corr(method='pearson')"
   ]
  },
  {
   "cell_type": "markdown",
   "id": "dcb06e14",
   "metadata": {},
   "source": [
    "총매출액과 방문빈도, 총매출액과 구매 카테고리수 간의 상관관계가 유의확률 0.0001이하로 유의하지만  \n",
    "매출액과 방문빈도간의 상관관계가 더 높다(0.63>0.31)  \n",
    "매출액 증대를 위해서는 방문빈도를 유도하는 것이 더 필요하다."
   ]
  },
  {
   "cell_type": "code",
   "execution_count": 26,
   "id": "052a0c67",
   "metadata": {},
   "outputs": [],
   "source": [
    "#편(부분)상관관계분석 : 제 3의 변수를 통제하거나 효과를 제거한 후 특정 두 변수의 순수한 상관관계를 파악하기 위한 분석기법  \n",
    "#H0(귀무가설):구매카테고리수가 통제된 상황에서 총 매출액과 방문빈도 간에는 유의한 선형 관계를 갖지 않는다.\n",
    "#H1(대립가설):구매카테고리수가 통제된 상황에서 총 매출액과 방문빈도 간에는 유의한 선형 관계를 갖는다."
   ]
  },
  {
   "cell_type": "code",
   "execution_count": 27,
   "id": "67a5cdda",
   "metadata": {},
   "outputs": [
    {
     "data": {
      "text/html": [
       "<div>\n",
       "<style scoped>\n",
       "    .dataframe tbody tr th:only-of-type {\n",
       "        vertical-align: middle;\n",
       "    }\n",
       "\n",
       "    .dataframe tbody tr th {\n",
       "        vertical-align: top;\n",
       "    }\n",
       "\n",
       "    .dataframe thead th {\n",
       "        text-align: right;\n",
       "    }\n",
       "</style>\n",
       "<table border=\"1\" class=\"dataframe\">\n",
       "  <thead>\n",
       "    <tr style=\"text-align: right;\">\n",
       "      <th></th>\n",
       "      <th>n</th>\n",
       "      <th>r</th>\n",
       "      <th>CI95%</th>\n",
       "      <th>p-val</th>\n",
       "    </tr>\n",
       "  </thead>\n",
       "  <tbody>\n",
       "    <tr>\n",
       "      <th>pearson</th>\n",
       "      <td>1000</td>\n",
       "      <td>0.582794</td>\n",
       "      <td>[0.54, 0.62]</td>\n",
       "      <td>6.223289e-92</td>\n",
       "    </tr>\n",
       "  </tbody>\n",
       "</table>\n",
       "</div>"
      ],
      "text/plain": [
       "            n         r         CI95%         p-val\n",
       "pearson  1000  0.582794  [0.54, 0.62]  6.223289e-92"
      ]
     },
     "execution_count": 27,
     "metadata": {},
     "output_type": "execute_result"
    }
   ],
   "source": [
    "from pingouin import partial_corr  #pip install pingouin\n",
    "partial_corr(data=df1, x='총_매출액', y='방문빈도', covar='구매_카테고리_수')"
   ]
  },
  {
   "cell_type": "markdown",
   "id": "cbb6611f",
   "metadata": {},
   "source": [
    "총매출액과 방문빈도간의 상관계수는 0.583이며, 유의확률 0.001이하로 도출되었다.  \n",
    "구매카테고리 수를 통제하지 않은 상태에서의 상관계수인 0.631보다는 약해졌다.  \n",
    "따라서, 구매카테고리가 총매출액과의 직접적인 상관관계가 크진 않지만,  \n",
    "총매출액과 방문빈도에 영향을 미치므로 마케팅 전략 수립시 함께 고민해야 한다."
   ]
  },
  {
   "cell_type": "code",
   "execution_count": 32,
   "id": "2391b36a",
   "metadata": {},
   "outputs": [
    {
     "data": {
      "text/plain": [
       "SpearmanrResult(correlation=-0.4988411248473936, pvalue=4.929293870381245e-64)"
      ]
     },
     "execution_count": 32,
     "metadata": {},
     "output_type": "execute_result"
    }
   ],
   "source": [
    "#순서형 변수 상관관계 분석 (스피어만)\n",
    "df2=df[['1회_평균매출액','방문빈도']]\n",
    "stats.spearmanr(df2['1회_평균매출액'],df2['방문빈도'])"
   ]
  },
  {
   "cell_type": "markdown",
   "id": "7135a246",
   "metadata": {},
   "source": [
    "상관관계는 -0.498, p-value(유의확률)은 0.001이하로 확인되었다.   \n",
    "즉, 방문빈도가 높은 고객이 1회 평균 구매액 수준에서는 더 떨어진다.  "
   ]
  },
  {
   "cell_type": "markdown",
   "id": "407705fb",
   "metadata": {},
   "source": [
    "#정준상관분석  \n",
    "H0(귀무가설) = 제품 만족도는 매장 만족도와 연관성이 없다.  \n",
    "H1(대립가설) = 제품 만족도는 매장 만족도와 상관관계가 있다."
   ]
  },
  {
   "cell_type": "code",
   "execution_count": 35,
   "id": "7d6061af",
   "metadata": {},
   "outputs": [],
   "source": [
    "from sklearn.cross_decomposition import CCA\n",
    "from scipy import stats\n",
    "import numpy as np\n",
    "import pandas as pd"
   ]
  },
  {
   "cell_type": "code",
   "execution_count": 38,
   "id": "64d0b661",
   "metadata": {},
   "outputs": [
    {
     "data": {
      "text/html": [
       "<div>\n",
       "<style scoped>\n",
       "    .dataframe tbody tr th:only-of-type {\n",
       "        vertical-align: middle;\n",
       "    }\n",
       "\n",
       "    .dataframe tbody tr th {\n",
       "        vertical-align: top;\n",
       "    }\n",
       "\n",
       "    .dataframe thead th {\n",
       "        text-align: right;\n",
       "    }\n",
       "</style>\n",
       "<table border=\"1\" class=\"dataframe\">\n",
       "  <thead>\n",
       "    <tr style=\"text-align: right;\">\n",
       "      <th></th>\n",
       "      <th>품질</th>\n",
       "      <th>가격</th>\n",
       "      <th>디자인</th>\n",
       "      <th>직원 서비스</th>\n",
       "      <th>매장 시설</th>\n",
       "      <th>고객관리</th>\n",
       "    </tr>\n",
       "  </thead>\n",
       "  <tbody>\n",
       "    <tr>\n",
       "      <th>9</th>\n",
       "      <td>21</td>\n",
       "      <td>13</td>\n",
       "      <td>91</td>\n",
       "      <td>79</td>\n",
       "      <td>4</td>\n",
       "      <td>75</td>\n",
       "    </tr>\n",
       "    <tr>\n",
       "      <th>10</th>\n",
       "      <td>35</td>\n",
       "      <td>12</td>\n",
       "      <td>71</td>\n",
       "      <td>39</td>\n",
       "      <td>2</td>\n",
       "      <td>13</td>\n",
       "    </tr>\n",
       "    <tr>\n",
       "      <th>11</th>\n",
       "      <td>21</td>\n",
       "      <td>73</td>\n",
       "      <td>54</td>\n",
       "      <td>54</td>\n",
       "      <td>3</td>\n",
       "      <td>36</td>\n",
       "    </tr>\n",
       "    <tr>\n",
       "      <th>12</th>\n",
       "      <td>10</td>\n",
       "      <td>57</td>\n",
       "      <td>20</td>\n",
       "      <td>60</td>\n",
       "      <td>5</td>\n",
       "      <td>60</td>\n",
       "    </tr>\n",
       "    <tr>\n",
       "      <th>13</th>\n",
       "      <td>20</td>\n",
       "      <td>66</td>\n",
       "      <td>54</td>\n",
       "      <td>63</td>\n",
       "      <td>5</td>\n",
       "      <td>46</td>\n",
       "    </tr>\n",
       "  </tbody>\n",
       "</table>\n",
       "</div>"
      ],
      "text/plain": [
       "    품질  가격  디자인  직원 서비스  매장 시설  고객관리\n",
       "9   21  13   91      79      4    75\n",
       "10  35  12   71      39      2    13\n",
       "11  21  73   54      54      3    36\n",
       "12  10  57   20      60      5    60\n",
       "13  20  66   54      63      5    46"
      ]
     },
     "execution_count": 38,
     "metadata": {},
     "output_type": "execute_result"
    }
   ],
   "source": [
    "#정준분석\n",
    "df=pd.read_csv('datasets/CCA.csv', sep=',', encoding='CP949')\n",
    "df.tail()"
   ]
  },
  {
   "cell_type": "code",
   "execution_count": 41,
   "id": "a42ab6c5",
   "metadata": {},
   "outputs": [],
   "source": [
    "U=df[['품질','가격','디자인']]\n",
    "V=df[['직원 서비스','매장 시설','고객관리']]"
   ]
  },
  {
   "cell_type": "code",
   "execution_count": 45,
   "id": "f0b22698",
   "metadata": {},
   "outputs": [
    {
     "name": "stdout",
     "output_type": "stream",
     "text": [
      "[[-0.55451512]\n",
      " [-0.12301628]\n",
      " [ 0.40708859]\n",
      " [ 1.4861872 ]\n",
      " [ 1.8393597 ]\n",
      " [-0.18638005]\n",
      " [-0.47604906]\n",
      " [-1.10459412]\n",
      " [-0.72231536]\n",
      " [ 0.02423555]\n",
      " [-0.69744765]\n",
      " [ 0.54958654]\n",
      " [-0.8098459 ]\n",
      " [ 0.36770595]]\n",
      "\n",
      " [[-0.29828858]\n",
      " [ 0.51338449]\n",
      " [ 0.95000731]\n",
      " [ 1.76514223]\n",
      " [ 1.81062484]\n",
      " [-0.74632557]\n",
      " [-1.67676657]\n",
      " [-1.00578133]\n",
      " [-1.40361614]\n",
      " [ 1.38766197]\n",
      " [-1.28827534]\n",
      " [-0.3120564 ]\n",
      " [ 0.23113188]\n",
      " [ 0.07315722]]\n"
     ]
    }
   ],
   "source": [
    "cca=CCA(n_components=1).fit(U,V)\n",
    "U_c, V_c = cca.transform(U,V)\n",
    "U_c1 = pd.DataFrame(U_c)[0]\n",
    "V_c1 = pd.DataFrame(V_c)[0]\n",
    "print(U_c)\n",
    "print('\\n',V_c)"
   ]
  },
  {
   "cell_type": "code",
   "execution_count": 51,
   "id": "f0c6b5f4",
   "metadata": {},
   "outputs": [
    {
     "name": "stdout",
     "output_type": "stream",
     "text": [
      "제1정준상관계수: (0.7717687943183484, 0.0012226670192390231)\n"
     ]
    }
   ],
   "source": [
    "CC1=stats.pearsonr(U_c1, V_c1)\n",
    "print('제1정준상관계수:',CC1)"
   ]
  },
  {
   "cell_type": "code",
   "execution_count": 55,
   "id": "9fdb68ff",
   "metadata": {},
   "outputs": [
    {
     "name": "stdout",
     "output_type": "stream",
     "text": [
      "제품만족도 정준변수와 해당변수들간 정준적재량: [0.35045604 0.77461847 0.55191153]\n",
      "제품만족도 정준변수와 매장만족도 변수들간 교차적재량: [ 0.70598452 -0.0438384   0.5889048 ]\n",
      "매장만족도 정준변수와 해당변수들간 정준적재량: [ 0.91476168 -0.0568025   0.76305858]\n",
      "매장만족도 정준변수와 제품만족도 변수들간 교차적재량: [0.27044132 0.5978383  0.42592516]\n"
     ]
    }
   ],
   "source": [
    "print('제품만족도 정준변수와 해당변수들간 정준적재량:', np.corrcoef(U_c1.T, U.T)[0,1:])\n",
    "print('제품만족도 정준변수와 매장만족도 변수들간 교차적재량:', np.corrcoef(U_c1.T, V.T)[0,1:])\n",
    "print('매장만족도 정준변수와 해당변수들간 정준적재량:', np.corrcoef(V_c1.T, V.T)[0,1:])\n",
    "print('매장만족도 정준변수와 제품만족도 변수들간 교차적재량:', np.corrcoef(V_c1.T, U.T)[0,1:])"
   ]
  },
  {
   "cell_type": "markdown",
   "id": "0e2e639f",
   "metadata": {},
   "source": [
    "제품만족도='품질','가격','디자인'  \n",
    "매장만족도='직원 서비스','매장 시설','고객관리'"
   ]
  },
  {
   "cell_type": "markdown",
   "id": "b54a726e",
   "metadata": {},
   "source": [
    "제1정준상관계수는 0.77, P-value는 0.001로 유의미하게 강한 양의 상관관계가 있음을 확인할 수 있다.  \n",
    "정준적재량을 통해 각 정준변수의 구성관계를 살펴보면,  \n",
    "제품만족도의 경우, 가격>디자인>품질 순서로 중요한 역할을 하고 있으며,   \n",
    "매장만족도의 경우, 직원서비스>고객관리>매장시설 순서로 중요한 역할을 하고 있다.  \n",
    "교차적재량을 통해 정준변수 상호간의 상세 영향요인을 살펴보면,  \n",
    "제품만족도는 직원서비스>고객관리>매장시설 순서로 중요한 역할을 하고 있고,  \n",
    "매장만족도의 경우, 가격>디자인>품질 순서로 중요한 역할을 하고 있다.  \n",
    "제품만족도를 위해 품질보다는 가격과 디자인, 매장만족도를 위해 직원서비스, 고객관리의 교육이 필요하다."
   ]
  },
  {
   "cell_type": "code",
   "execution_count": 58,
   "id": "d4877c5b",
   "metadata": {},
   "outputs": [
    {
     "name": "stdout",
     "output_type": "stream",
     "text": [
      "[[ 1.          0.35045604  0.77461847  0.55191153]\n",
      " [ 0.35045604  1.          0.1748073   0.57139455]\n",
      " [ 0.77461847  0.1748073   1.         -0.06945475]\n",
      " [ 0.55191153  0.57139455 -0.06945475  1.        ]]\n",
      "\n",
      " [[ 1.          0.70598452 -0.0438384   0.5889048 ]\n",
      " [ 0.70598452  1.          0.05844147  0.48474289]\n",
      " [-0.0438384   0.05844147  1.          0.17046241]\n",
      " [ 0.5889048   0.48474289  0.17046241  1.        ]]\n",
      "\n",
      " [[ 1.          0.91476168 -0.0568025   0.76305858]\n",
      " [ 0.91476168  1.          0.05844147  0.48474289]\n",
      " [-0.0568025   0.05844147  1.          0.17046241]\n",
      " [ 0.76305858  0.48474289  0.17046241  1.        ]]\n",
      "\n",
      " [[ 1.          0.27044132  0.5978383   0.42592516]\n",
      " [ 0.27044132  1.          0.1748073   0.57139455]\n",
      " [ 0.5978383   0.1748073   1.         -0.06945475]\n",
      " [ 0.42592516  0.57139455 -0.06945475  1.        ]]\n"
     ]
    }
   ],
   "source": [
    "print(np.corrcoef(U_c1.T, U.T))\n",
    "print('\\n',np.corrcoef(U_c1.T, V.T))\n",
    "print('\\n',np.corrcoef(V_c1.T, V.T))\n",
    "print('\\n',np.corrcoef(V_c1.T, U.T))"
   ]
  }
 ],
 "metadata": {
  "kernelspec": {
   "display_name": "Python 3 (ipykernel)",
   "language": "python",
   "name": "python3"
  },
  "language_info": {
   "codemirror_mode": {
    "name": "ipython",
    "version": 3
   },
   "file_extension": ".py",
   "mimetype": "text/x-python",
   "name": "python",
   "nbconvert_exporter": "python",
   "pygments_lexer": "ipython3",
   "version": "3.9.7"
  }
 },
 "nbformat": 4,
 "nbformat_minor": 5
}
