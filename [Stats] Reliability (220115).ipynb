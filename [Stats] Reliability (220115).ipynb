{
 "cells": [
  {
   "cell_type": "code",
   "execution_count": 1,
   "id": "26b60e52",
   "metadata": {},
   "outputs": [],
   "source": [
    "import pandas as pd\n",
    "import numpy as np\n",
    "import pingouin as pg\n",
    "from scipy import stats\n",
    "from scipy.stats import chisquare\n",
    "df = pd.read_csv('datasets/Ashopping.csv', sep=',', encoding='CP949')"
   ]
  },
  {
   "cell_type": "code",
   "execution_count": 4,
   "id": "d9f79c21",
   "metadata": {},
   "outputs": [
    {
     "data": {
      "text/html": [
       "<div>\n",
       "<style scoped>\n",
       "    .dataframe tbody tr th:only-of-type {\n",
       "        vertical-align: middle;\n",
       "    }\n",
       "\n",
       "    .dataframe tbody tr th {\n",
       "        vertical-align: top;\n",
       "    }\n",
       "\n",
       "    .dataframe thead th {\n",
       "        text-align: right;\n",
       "    }\n",
       "</style>\n",
       "<table border=\"1\" class=\"dataframe\">\n",
       "  <thead>\n",
       "    <tr style=\"text-align: right;\">\n",
       "      <th></th>\n",
       "      <th>친절성</th>\n",
       "      <th>신속성</th>\n",
       "      <th>책임성</th>\n",
       "      <th>정확성</th>\n",
       "      <th>전문성</th>\n",
       "    </tr>\n",
       "  </thead>\n",
       "  <tbody>\n",
       "    <tr>\n",
       "      <th>995</th>\n",
       "      <td>6</td>\n",
       "      <td>6</td>\n",
       "      <td>6</td>\n",
       "      <td>6</td>\n",
       "      <td>6</td>\n",
       "    </tr>\n",
       "    <tr>\n",
       "      <th>996</th>\n",
       "      <td>5</td>\n",
       "      <td>7</td>\n",
       "      <td>6</td>\n",
       "      <td>6</td>\n",
       "      <td>6</td>\n",
       "    </tr>\n",
       "    <tr>\n",
       "      <th>997</th>\n",
       "      <td>6</td>\n",
       "      <td>4</td>\n",
       "      <td>5</td>\n",
       "      <td>6</td>\n",
       "      <td>5</td>\n",
       "    </tr>\n",
       "    <tr>\n",
       "      <th>998</th>\n",
       "      <td>4</td>\n",
       "      <td>5</td>\n",
       "      <td>5</td>\n",
       "      <td>4</td>\n",
       "      <td>4</td>\n",
       "    </tr>\n",
       "    <tr>\n",
       "      <th>999</th>\n",
       "      <td>5</td>\n",
       "      <td>6</td>\n",
       "      <td>7</td>\n",
       "      <td>6</td>\n",
       "      <td>6</td>\n",
       "    </tr>\n",
       "  </tbody>\n",
       "</table>\n",
       "</div>"
      ],
      "text/plain": [
       "     친절성  신속성  책임성  정확성  전문성\n",
       "995    6    6    6    6    6\n",
       "996    5    7    6    6    6\n",
       "997    6    4    5    6    5\n",
       "998    4    5    5    4    4\n",
       "999    5    6    7    6    6"
      ]
     },
     "execution_count": 4,
     "metadata": {},
     "output_type": "execute_result"
    }
   ],
   "source": [
    "X=df[['친절성','신속성','책임성','정확성','전문성']]\n",
    "X.tail()"
   ]
  },
  {
   "cell_type": "markdown",
   "id": "a64914ff",
   "metadata": {},
   "source": [
    "#### 내적일관성 분석  \n",
    "하나의 개념을 측정하기 위해 여러 개의 하위 측정항목들이 존재할 경우  \n",
    "이들 측정 값 사이의 상관관계를 분석하여 신뢰성을 평가하는 방법"
   ]
  },
  {
   "cell_type": "code",
   "execution_count": 5,
   "id": "3de47fe2",
   "metadata": {},
   "outputs": [
    {
     "data": {
      "text/plain": [
       "(0.8117458883194828, array([0.793, 0.83 ]))"
      ]
     },
     "execution_count": 5,
     "metadata": {},
     "output_type": "execute_result"
    }
   ],
   "source": [
    "#크론바흐 알파 계수 출력 (0.6이상이면 신뢰성 존재, 0.7이상이면 신뢰성이 높음)\n",
    "pg.cronbach_alpha(data=X)"
   ]
  },
  {
   "cell_type": "markdown",
   "id": "66d8948f",
   "metadata": {},
   "source": [
    "알파계수는 0.811이며, 0.789~0.83은 95%의 신뢰구간이다."
   ]
  },
  {
   "cell_type": "code",
   "execution_count": 7,
   "id": "9039dee1",
   "metadata": {},
   "outputs": [
    {
     "name": "stdout",
     "output_type": "stream",
     "text": [
      "(0.8057989412964606, array([0.785, 0.825]))\n",
      "(0.783641011586137, array([0.761, 0.805]))\n",
      "(0.7811976111855438, array([0.758, 0.803]))\n",
      "(0.7713180205968039, array([0.747, 0.794]))\n",
      "(0.7341054622297102, array([0.706, 0.76 ]))\n"
     ]
    }
   ],
   "source": [
    "#각각의 변수를 제외한 크론바흐 알파 계수 출력\n",
    "X1=df[['신속성','책임성','정확성','전문성']]\n",
    "X2=df[['친절성','책임성','정확성','전문성']]\n",
    "X3=df[['친절성','신속성','정확성','전문성']]\n",
    "X4=df[['친절성','신속성','책임성','전문성']]\n",
    "X5=df[['친절성','신속성','책임성','정확성']]\n",
    "print(pg.cronbach_alpha(data=X1))\n",
    "print(pg.cronbach_alpha(data=X2))\n",
    "print(pg.cronbach_alpha(data=X3))\n",
    "print(pg.cronbach_alpha(data=X4))\n",
    "print(pg.cronbach_alpha(data=X5))"
   ]
  },
  {
   "cell_type": "markdown",
   "id": "7ce5bee4",
   "metadata": {},
   "source": [
    "신뢰성 분석 결과 크론바흐 알파 계수는 0.911이므로, 만족도 평가는 신뢰성이 있다고 판단할 수 있다.  \n",
    "각각의 변수를 제외한 크론바흐 알파 계수를 출력하면 모두 원래 알파계수 0.811미만이다.   \n",
    "따라서 측정항목 5가지를 모두 사용하였을 때가 가장 신뢰성 있는 적절한 평가방법임을 알 수 있다. "
   ]
  }
 ],
 "metadata": {
  "kernelspec": {
   "display_name": "Python 3 (ipykernel)",
   "language": "python",
   "name": "python3"
  },
  "language_info": {
   "codemirror_mode": {
    "name": "ipython",
    "version": 3
   },
   "file_extension": ".py",
   "mimetype": "text/x-python",
   "name": "python",
   "nbconvert_exporter": "python",
   "pygments_lexer": "ipython3",
   "version": "3.9.7"
  }
 },
 "nbformat": 4,
 "nbformat_minor": 5
}
