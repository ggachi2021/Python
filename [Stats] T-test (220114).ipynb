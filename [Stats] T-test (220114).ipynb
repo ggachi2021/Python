{
 "cells": [
  {
   "cell_type": "code",
   "execution_count": 27,
   "id": "b4f2d60c",
   "metadata": {},
   "outputs": [],
   "source": [
    "import pandas as pd\n",
    "import numpy as np\n",
    "from scipy import stats\n",
    "df=pd.read_csv('datasets/Ashopping.csv', sep=',', encoding='CP949')"
   ]
  },
  {
   "cell_type": "code",
   "execution_count": 22,
   "id": "b4cf326e",
   "metadata": {},
   "outputs": [
    {
     "data": {
      "text/html": [
       "<div>\n",
       "<style scoped>\n",
       "    .dataframe tbody tr th:only-of-type {\n",
       "        vertical-align: middle;\n",
       "    }\n",
       "\n",
       "    .dataframe tbody tr th {\n",
       "        vertical-align: top;\n",
       "    }\n",
       "\n",
       "    .dataframe thead th {\n",
       "        text-align: right;\n",
       "    }\n",
       "</style>\n",
       "<table border=\"1\" class=\"dataframe\">\n",
       "  <thead>\n",
       "    <tr style=\"text-align: right;\">\n",
       "      <th></th>\n",
       "      <th>고객ID</th>\n",
       "      <th>이탈여부</th>\n",
       "      <th>총_매출액</th>\n",
       "      <th>방문빈도</th>\n",
       "      <th>1회_평균매출액</th>\n",
       "      <th>할인권_사용 횟수</th>\n",
       "      <th>총_할인_금액</th>\n",
       "      <th>고객등급</th>\n",
       "      <th>구매유형</th>\n",
       "      <th>클레임접수여부</th>\n",
       "      <th>...</th>\n",
       "      <th>매장_청결성</th>\n",
       "      <th>공간_편의성</th>\n",
       "      <th>시야_확보성</th>\n",
       "      <th>음향_적절성</th>\n",
       "      <th>안내_표지판_설명</th>\n",
       "      <th>친절성</th>\n",
       "      <th>신속성</th>\n",
       "      <th>책임성</th>\n",
       "      <th>정확성</th>\n",
       "      <th>전문성</th>\n",
       "    </tr>\n",
       "  </thead>\n",
       "  <tbody>\n",
       "    <tr>\n",
       "      <th>0</th>\n",
       "      <td>1</td>\n",
       "      <td>0</td>\n",
       "      <td>4007080</td>\n",
       "      <td>17</td>\n",
       "      <td>235711</td>\n",
       "      <td>1</td>\n",
       "      <td>5445</td>\n",
       "      <td>1</td>\n",
       "      <td>4</td>\n",
       "      <td>0</td>\n",
       "      <td>...</td>\n",
       "      <td>6</td>\n",
       "      <td>7</td>\n",
       "      <td>6</td>\n",
       "      <td>6</td>\n",
       "      <td>6</td>\n",
       "      <td>6</td>\n",
       "      <td>6</td>\n",
       "      <td>6</td>\n",
       "      <td>6</td>\n",
       "      <td>6</td>\n",
       "    </tr>\n",
       "    <tr>\n",
       "      <th>1</th>\n",
       "      <td>2</td>\n",
       "      <td>1</td>\n",
       "      <td>3168400</td>\n",
       "      <td>14</td>\n",
       "      <td>226314</td>\n",
       "      <td>22</td>\n",
       "      <td>350995</td>\n",
       "      <td>2</td>\n",
       "      <td>4</td>\n",
       "      <td>0</td>\n",
       "      <td>...</td>\n",
       "      <td>7</td>\n",
       "      <td>7</td>\n",
       "      <td>6</td>\n",
       "      <td>6</td>\n",
       "      <td>6</td>\n",
       "      <td>5</td>\n",
       "      <td>3</td>\n",
       "      <td>6</td>\n",
       "      <td>6</td>\n",
       "      <td>6</td>\n",
       "    </tr>\n",
       "    <tr>\n",
       "      <th>2</th>\n",
       "      <td>3</td>\n",
       "      <td>0</td>\n",
       "      <td>2680780</td>\n",
       "      <td>18</td>\n",
       "      <td>148932</td>\n",
       "      <td>6</td>\n",
       "      <td>186045</td>\n",
       "      <td>1</td>\n",
       "      <td>4</td>\n",
       "      <td>1</td>\n",
       "      <td>...</td>\n",
       "      <td>6</td>\n",
       "      <td>6</td>\n",
       "      <td>6</td>\n",
       "      <td>6</td>\n",
       "      <td>6</td>\n",
       "      <td>7</td>\n",
       "      <td>7</td>\n",
       "      <td>6</td>\n",
       "      <td>6</td>\n",
       "      <td>7</td>\n",
       "    </tr>\n",
       "    <tr>\n",
       "      <th>3</th>\n",
       "      <td>4</td>\n",
       "      <td>0</td>\n",
       "      <td>5946600</td>\n",
       "      <td>17</td>\n",
       "      <td>349800</td>\n",
       "      <td>1</td>\n",
       "      <td>5195</td>\n",
       "      <td>1</td>\n",
       "      <td>4</td>\n",
       "      <td>1</td>\n",
       "      <td>...</td>\n",
       "      <td>6</td>\n",
       "      <td>6</td>\n",
       "      <td>5</td>\n",
       "      <td>6</td>\n",
       "      <td>6</td>\n",
       "      <td>6</td>\n",
       "      <td>6</td>\n",
       "      <td>6</td>\n",
       "      <td>5</td>\n",
       "      <td>6</td>\n",
       "    </tr>\n",
       "    <tr>\n",
       "      <th>4</th>\n",
       "      <td>5</td>\n",
       "      <td>0</td>\n",
       "      <td>13745950</td>\n",
       "      <td>73</td>\n",
       "      <td>188301</td>\n",
       "      <td>9</td>\n",
       "      <td>246350</td>\n",
       "      <td>1</td>\n",
       "      <td>2</td>\n",
       "      <td>0</td>\n",
       "      <td>...</td>\n",
       "      <td>5</td>\n",
       "      <td>6</td>\n",
       "      <td>6</td>\n",
       "      <td>6</td>\n",
       "      <td>5</td>\n",
       "      <td>5</td>\n",
       "      <td>6</td>\n",
       "      <td>6</td>\n",
       "      <td>5</td>\n",
       "      <td>6</td>\n",
       "    </tr>\n",
       "  </tbody>\n",
       "</table>\n",
       "<p>5 rows × 39 columns</p>\n",
       "</div>"
      ],
      "text/plain": [
       "   고객ID  이탈여부     총_매출액  방문빈도  1회_평균매출액  할인권_사용 횟수  총_할인_금액  고객등급  구매유형  \\\n",
       "0     1     0   4007080    17    235711          1     5445     1     4   \n",
       "1     2     1   3168400    14    226314         22   350995     2     4   \n",
       "2     3     0   2680780    18    148932          6   186045     1     4   \n",
       "3     4     0   5946600    17    349800          1     5195     1     4   \n",
       "4     5     0  13745950    73    188301          9   246350     1     2   \n",
       "\n",
       "   클레임접수여부  ...  매장_청결성  공간_편의성  시야_확보성  음향_적절성  안내_표지판_설명  친절성  신속성  책임성  \\\n",
       "0        0  ...       6       7       6       6          6    6    6    6   \n",
       "1        0  ...       7       7       6       6          6    5    3    6   \n",
       "2        1  ...       6       6       6       6          6    7    7    6   \n",
       "3        1  ...       6       6       5       6          6    6    6    6   \n",
       "4        0  ...       5       6       6       6          5    5    6    6   \n",
       "\n",
       "   정확성  전문성  \n",
       "0    6    6  \n",
       "1    6    6  \n",
       "2    6    7  \n",
       "3    5    6  \n",
       "4    5    6  \n",
       "\n",
       "[5 rows x 39 columns]"
      ]
     },
     "execution_count": 22,
     "metadata": {},
     "output_type": "execute_result"
    }
   ],
   "source": [
    "df.head()"
   ]
  },
  {
   "cell_type": "markdown",
   "id": "044ae189",
   "metadata": {},
   "source": [
    "#### 일표본 t-test  : 단일모집단에서 관심이 있는 연속형 변수의 평균 값을 특정 기준값과 비교\n",
    "작년 A쇼핑 VIP 고객들의 평균 구매액은 약 7,000,000원이다.  \n",
    "- H0(귀무가설)=A쇼핑 VIP 고객들의 총 매출액 평균은 7,700,000원이다.  \n",
    "- H1(대립가설)=A쇼핑 VIP 고객들의 총 매출액 평균은 7,700,000원이 아니다."
   ]
  },
  {
   "cell_type": "code",
   "execution_count": 9,
   "id": "2437c0c7",
   "metadata": {},
   "outputs": [
    {
     "name": "stdout",
     "output_type": "stream",
     "text": [
      "7068689.76\n",
      "Ttest_1sampResult(statistic=-2.8657430145836007, pvalue=0.00424758614832654)\n"
     ]
    }
   ],
   "source": [
    "print(df.총_매출액.mean())\n",
    "print(stats.ttest_1samp(df['총_매출액'], 7700000))"
   ]
  },
  {
   "cell_type": "markdown",
   "id": "d842e775",
   "metadata": {},
   "source": [
    "일표본 t-test A쇼핑 VIP 고객들의 매출액 평균이 약 706만원이었다.  \n",
    "t-value는 -2.865, p-value는 0.0042으로 귀무가설을 기각하여, 대립가설을 만족한다.  \n",
    "작년의 매출액과 차이가 없으며 목표치를 달성하지 못했다.  \n",
    "A쇼핑이 과도한 목표를 설정한 것이 아닌지 검토해보고, 경쟁사나 시장평균 성장률과 비교했을 때  \n",
    "A 쇼핑의 실적이 상대적으로 낮다면 VIP 고객들의 매출액에 영향을 미치는 원인을 조사하여 매출확대 대책을 마련해야한다."
   ]
  },
  {
   "cell_type": "markdown",
   "id": "cbb4c6d4",
   "metadata": {},
   "source": [
    "#### 독립표본 t-test : 두개의 독립된 모집단의 평균을 비교\n",
    "- H0(귀무가설)=A쇼핑 클레임 고객들과 비클레임 고객들의 방문횟수 차이는 없다.  \n",
    "- H1(대립가설)=A쇼핑 클레임 고객들과 비클레임 고객들의 방문횟수 차이는 있다.  "
   ]
  },
  {
   "cell_type": "code",
   "execution_count": 16,
   "id": "a50fb1d2",
   "metadata": {},
   "outputs": [
    {
     "data": {
      "text/plain": [
       "BartlettResult(statistic=13.626177910965525, pvalue=0.00022305349806448475)"
      ]
     },
     "execution_count": 16,
     "metadata": {},
     "output_type": "execute_result"
    }
   ],
   "source": [
    "# 등분산성 검정\n",
    "no_claim=df[df.클레임접수여부==0]\n",
    "claim=df[df.클레임접수여부==1]\n",
    "df2=np.array(no_claim.방문빈도)\n",
    "df3=np.array(claim.방문빈도)\n",
    "stats.bartlett(df2, df3)"
   ]
  },
  {
   "cell_type": "markdown",
   "id": "986c93df",
   "metadata": {},
   "source": [
    "F값은 13.6, p-value는 0.0002로 귀무가설을 기각, 즉 두 집단의 분산은 동일하지 않다.  \n",
    "등분산이 가정되지 않은 t 통계량을 확인하여 가설검증을 수행한다."
   ]
  },
  {
   "cell_type": "code",
   "execution_count": 30,
   "id": "25721bed",
   "metadata": {},
   "outputs": [
    {
     "name": "stdout",
     "output_type": "stream",
     "text": [
      "Ttest_indResult(statistic=2.595726838875684, pvalue=0.009577734932789503)\n",
      "no클레임 고객 평균 방문빈도 : 28.184842883548985\n",
      "클레임 고객 평균 방문빈도 : 24.736383442265794\n"
     ]
    }
   ],
   "source": [
    "print(stats.ttest_ind(df2, df3, equal_var=False)) \n",
    "print('no클레임 고객 평균 방문빈도 :', no_claim.방문빈도.mean())\n",
    "print('클레임 고객 평균 방문빈도 :', claim.방문빈도.mean())"
   ]
  },
  {
   "cell_type": "markdown",
   "id": "62ff4dd8",
   "metadata": {},
   "source": [
    "독립표본 t-value는 2.595, p-value는 0.0096로 나왔다.  \n",
    "no클레임 고객은 28.2회, 클레임고객은 24.7회 평균 방문하였다.  \n",
    "귀무가설이 기각되어 클레임 접수여부에 따라 방문 빈도는 차이가 있다고 할 수 있다.  \n",
    "클레임 접수 고객이 VIP일 경우 클레임 접수 후 구매 빈도나 방문 횟수의 감소를 확인하여 선제적인 대응이 필요하다."
   ]
  },
  {
   "cell_type": "markdown",
   "id": "6d0688ac",
   "metadata": {},
   "source": [
    "#### 대응표본 t-test  : 단일 모집단에 대해 두 번의 처리를 가했을 때, 처리에 따른 평균의 차이\n",
    " - H0(귀무가설)=A쇼핑 고객들의 멤버십 프로그램 도입 전 만족도와 도입 후 만족도의 차이는 없다.  \n",
    " - H1(대립가설)=A쇼핑 고객들의 멤버십 프로그램 도입 전 만족도와 도입 후 만족도의 차이는 있다."
   ]
  },
  {
   "cell_type": "code",
   "execution_count": 32,
   "id": "f8431808",
   "metadata": {},
   "outputs": [
    {
     "data": {
      "text/plain": [
       "Ttest_relResult(statistic=29.560410783358122, pvalue=1.7319140513197275e-138)"
      ]
     },
     "execution_count": 32,
     "metadata": {},
     "output_type": "execute_result"
    }
   ],
   "source": [
    "stats.ttest_rel(df['멤버쉽_프로그램_가입후_만족도'],df['멤버쉽_프로그램_가입전_만족도'])"
   ]
  },
  {
   "cell_type": "markdown",
   "id": "7326e9c0",
   "metadata": {},
   "source": [
    "t값은 29.560, p-value는 0.0001 이하로 나왔다.  \n",
    "귀무가설을 기각하므로 멤버십 프로그램 도입전과 도입후의 만족도 차이는 있다고 할 수 있다.  \n",
    "단순 포인트 중심의 멤버십보다 고객 구매가 증대될 수록 받는 사은품, 쿠폰이 커지는 새로운 멤버십이 더 효과적이다.  "
   ]
  }
 ],
 "metadata": {
  "kernelspec": {
   "display_name": "Python 3 (ipykernel)",
   "language": "python",
   "name": "python3"
  },
  "language_info": {
   "codemirror_mode": {
    "name": "ipython",
    "version": 3
   },
   "file_extension": ".py",
   "mimetype": "text/x-python",
   "name": "python",
   "nbconvert_exporter": "python",
   "pygments_lexer": "ipython3",
   "version": "3.9.7"
  }
 },
 "nbformat": 4,
 "nbformat_minor": 5
}
