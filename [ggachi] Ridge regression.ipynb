{
 "cells": [
  {
   "cell_type": "code",
   "execution_count": 15,
   "id": "a83ab14b",
   "metadata": {},
   "outputs": [],
   "source": [
    "# Ridge회귀는 규제가 추가된 선형 회귀모델\n",
    "# 규제항이 비용함수에 추가 됨\n",
    "# 가중치 벡터의 제곱항을 합한 L2 노름을 2로 나눈 값을 적용함\n",
    "# 모델의 가중치가 가능한 작게 유지되도록 함\n",
    "# 규제항은 훈련하는 동안에만 비용함수에 추가됨\n",
    "# 모델의 훈련이 끝나면 모델의 성능을 규제가 없는 성능 지표로 평가함\n",
    "# 하이퍼파라미터 α는 모델 규제를 조절\n",
    "# α=0 이면 선형회귀와 동일하며, α가 아주 크면 모든 가중치가 0에 가까워짐"
   ]
  },
  {
   "cell_type": "code",
   "execution_count": 18,
   "id": "f77c83e5",
   "metadata": {},
   "outputs": [],
   "source": [
    "import numpy as np\n",
    "import pandas as pd\n",
    "import matplotlib.pyplot as plt\n",
    "%matplotlib inline"
   ]
  },
  {
   "cell_type": "code",
   "execution_count": 22,
   "id": "f2882d12",
   "metadata": {},
   "outputs": [
    {
     "name": "stdout",
     "output_type": "stream",
     "text": [
      "[      fixed_acidity  volatile_acidity  citric_acid  residual_sugar  chlorides  \\\n",
      "0               7.4              0.70         0.00             1.9      0.076   \n",
      "1               7.8              0.88         0.00             2.6      0.098   \n",
      "2               7.8              0.76         0.04             2.3      0.092   \n",
      "3              11.2              0.28         0.56             1.9      0.075   \n",
      "4               7.4              0.70         0.00             1.9      0.076   \n",
      "...             ...               ...          ...             ...        ...   \n",
      "4893            6.2              0.21         0.29             1.6      0.039   \n",
      "4894            6.6              0.32         0.36             8.0      0.047   \n",
      "4895            6.5              0.24         0.19             1.2      0.041   \n",
      "4896            5.5              0.29         0.30             1.1      0.022   \n",
      "4897            6.0              0.21         0.38             0.8      0.020   \n",
      "\n",
      "      free_sulfur_dioxide  total_sulfur_dioxide  density    pH  sulphates  \\\n",
      "0                    11.0                  34.0  0.99780  3.51       0.56   \n",
      "1                    25.0                  67.0  0.99680  3.20       0.68   \n",
      "2                    15.0                  54.0  0.99700  3.26       0.65   \n",
      "3                    17.0                  60.0  0.99800  3.16       0.58   \n",
      "4                    11.0                  34.0  0.99780  3.51       0.56   \n",
      "...                   ...                   ...      ...   ...        ...   \n",
      "4893                 24.0                  92.0  0.99114  3.27       0.50   \n",
      "4894                 57.0                 168.0  0.99490  3.15       0.46   \n",
      "4895                 30.0                 111.0  0.99254  2.99       0.46   \n",
      "4896                 20.0                 110.0  0.98869  3.34       0.38   \n",
      "4897                 22.0                  98.0  0.98941  3.26       0.32   \n",
      "\n",
      "      alcohol  quality   type  \n",
      "0         9.4        5    red  \n",
      "1         9.8        5    red  \n",
      "2         9.8        5    red  \n",
      "3         9.8        6    red  \n",
      "4         9.4        5    red  \n",
      "...       ...      ...    ...  \n",
      "4893     11.2        6  white  \n",
      "4894      9.6        5  white  \n",
      "4895      9.4        6  white  \n",
      "4896     12.8        7  white  \n",
      "4897     11.8        6  white  \n",
      "\n",
      "[6497 rows x 13 columns]]\n"
     ]
    }
   ],
   "source": [
    "redwine = pd.read_csv(\"https://archive.ics.uci.edu/ml/machine-learning-databases/wine-quality/winequality-red.csv\", sep=\";\", header=0)\n",
    "redwine[\"type\"]=\"red\"\n",
    "whitewine = pd.read_csv(\"https://archive.ics.uci.edu/ml/machine-learning-databases/wine-quality/winequality-white.csv\", sep=\";\", header=0)\n",
    "whitewine[\"type\"]=\"white\"\n",
    "wine=redwine.append(whitewine)\n",
    "wine.columns=wine.columns.str.replace(\" \",\"_\")\n",
    "print(wine)"
   ]
  },
  {
   "cell_type": "code",
   "execution_count": 23,
   "id": "43a2c246",
   "metadata": {},
   "outputs": [],
   "source": [
    "X=wine.drop([\"type\",\"quality\"],axis=1)\n",
    "y=wine.quality"
   ]
  },
  {
   "cell_type": "code",
   "execution_count": 28,
   "id": "78348178",
   "metadata": {},
   "outputs": [],
   "source": [
    "from sklearn.model_selection import train_test_split\n",
    "X_train, X_test, y_train, y_test=train_test_split(X,y,random_state=1)"
   ]
  },
  {
   "cell_type": "code",
   "execution_count": 25,
   "id": "2f8756a0",
   "metadata": {},
   "outputs": [],
   "source": [
    "from sklearn. linear_model import Ridge"
   ]
  },
  {
   "cell_type": "code",
   "execution_count": 26,
   "id": "8ae3f0fd",
   "metadata": {},
   "outputs": [],
   "source": [
    "ridge = Ridge(alpha=0.05)"
   ]
  },
  {
   "cell_type": "code",
   "execution_count": 29,
   "id": "3eb3d978",
   "metadata": {},
   "outputs": [
    {
     "data": {
      "text/plain": [
       "Ridge(alpha=0.05)"
      ]
     },
     "execution_count": 29,
     "metadata": {},
     "output_type": "execute_result"
    }
   ],
   "source": [
    "ridge.fit(X_train, y_train)"
   ]
  },
  {
   "cell_type": "code",
   "execution_count": 33,
   "id": "b062c870",
   "metadata": {},
   "outputs": [],
   "source": [
    "y_pred=ridge.predict(X_test)"
   ]
  },
  {
   "cell_type": "code",
   "execution_count": 35,
   "id": "2e79cdbd",
   "metadata": {},
   "outputs": [],
   "source": [
    "from sklearn.metrics import mean_squared_error"
   ]
  },
  {
   "cell_type": "code",
   "execution_count": 37,
   "id": "570e4425",
   "metadata": {},
   "outputs": [
    {
     "data": {
      "text/plain": [
       "0.727"
      ]
     },
     "execution_count": 37,
     "metadata": {},
     "output_type": "execute_result"
    }
   ],
   "source": [
    "rmse=np.round(np.sqrt(mean_squared_error(y_test, y_pred)),3)\n",
    "rmse"
   ]
  },
  {
   "cell_type": "code",
   "execution_count": 49,
   "id": "8222875b",
   "metadata": {},
   "outputs": [
    {
     "name": "stderr",
     "output_type": "stream",
     "text": [
      "C:\\Users\\Master\\AppData\\Local\\Temp/ipykernel_19000/752166660.py:8: UserWarning: FixedFormatter should only be used together with FixedLocator\n",
      "  ax.set_xticklabels(coef.index,rotation=90)   #X축 뭉쳐서 나오는것 해결(세로로)\n"
     ]
    },
    {
     "data": {
      "image/png": "[encoded data removed]",
      "text/plain": [
       "<Figure size 432x216 with 1 Axes>"
      ]
     },
     "metadata": {
      "needs_background": "light"
     },
     "output_type": "display_data"
    }
   ],
   "source": [
    "fig=plt.figure(figsize=(6,3))\n",
    "ax=fig.add_subplot(111)\n",
    "alpha=0.05\n",
    "ridge=Ridge(alpha=alpha)\n",
    "ridge.fit(X_train,y_train)\n",
    "coef = pd.Series(ridge.coef_, index=X_train.columns).sort_values()\n",
    "ax.bar(coef.index, coef.values)\n",
    "ax.set_xticklabels(coef.index,rotation=90)   #X축 뭉쳐서 나오는것 해결(세로로)\n",
    "ax.set_title(\"alpha={}\".format(alpha));  #alpha값을 그래프 제목에 넣는방법"
   ]
  },
  {
   "cell_type": "code",
   "execution_count": null,
   "id": "60db6f93",
   "metadata": {},
   "outputs": [],
   "source": []
  }
 ],
 "metadata": {
  "kernelspec": {
   "display_name": "Python 3 (ipykernel)",
   "language": "python",
   "name": "python3"
  },
  "language_info": {
   "codemirror_mode": {
    "name": "ipython",
    "version": 3
   },
   "file_extension": ".py",
   "mimetype": "text/x-python",
   "name": "python",
   "nbconvert_exporter": "python",
   "pygments_lexer": "ipython3",
   "version": "3.8.10"
  }
 },
 "nbformat": 4,
 "nbformat_minor": 5
}
