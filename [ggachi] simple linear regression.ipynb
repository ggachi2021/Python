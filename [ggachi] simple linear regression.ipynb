{
 "cells": [
  {
   "cell_type": "code",
   "execution_count": 12,
   "id": "7919f31c",
   "metadata": {
    "scrolled": true
   },
   "outputs": [
    {
     "name": "stdout",
     "output_type": "stream",
     "text": [
      "hello python\n"
     ]
    }
   ],
   "source": [
    "print(\"hello python\")"
   ]
  },
  {
   "cell_type": "code",
   "execution_count": 13,
   "id": "83017e13",
   "metadata": {},
   "outputs": [
    {
     "data": {
      "text/plain": [
       "'C:\\\\Users\\\\Master'"
      ]
     },
     "execution_count": 13,
     "metadata": {},
     "output_type": "execute_result"
    }
   ],
   "source": [
    "import os\n",
    "os.getcwd()"
   ]
  },
  {
   "cell_type": "code",
   "execution_count": 16,
   "id": "32515665",
   "metadata": {},
   "outputs": [],
   "source": [
    "import pandas as pd\n",
    "import matplotlib.pyplot as plt\n",
    "import matplotlib\n",
    "matplotlib.rcParams['axes.unicode_minus'] = False ## 마이나스 '-' 표시 제대로 출력\n",
    " \n",
    "from statsmodels.formula.api import ols\n",
    "from sklearn.linear_model import LinearRegression\n",
    "df = pd.read_csv('./toluca_company_dataset.csv') ## 데이터 불러오기"
   ]
  },
  {
   "cell_type": "code",
   "execution_count": 17,
   "id": "e8d00943",
   "metadata": {},
   "outputs": [
    {
     "data": {
      "text/html": [
       "<div>\n",
       "<style scoped>\n",
       "    .dataframe tbody tr th:only-of-type {\n",
       "        vertical-align: middle;\n",
       "    }\n",
       "\n",
       "    .dataframe tbody tr th {\n",
       "        vertical-align: top;\n",
       "    }\n",
       "\n",
       "    .dataframe thead th {\n",
       "        text-align: right;\n",
       "    }\n",
       "</style>\n",
       "<table border=\"1\" class=\"dataframe\">\n",
       "  <thead>\n",
       "    <tr style=\"text-align: right;\">\n",
       "      <th></th>\n",
       "      <th>Lot_size</th>\n",
       "      <th>Work_hours</th>\n",
       "    </tr>\n",
       "  </thead>\n",
       "  <tbody>\n",
       "    <tr>\n",
       "      <th>0</th>\n",
       "      <td>80</td>\n",
       "      <td>399</td>\n",
       "    </tr>\n",
       "    <tr>\n",
       "      <th>1</th>\n",
       "      <td>30</td>\n",
       "      <td>121</td>\n",
       "    </tr>\n",
       "    <tr>\n",
       "      <th>2</th>\n",
       "      <td>50</td>\n",
       "      <td>221</td>\n",
       "    </tr>\n",
       "    <tr>\n",
       "      <th>3</th>\n",
       "      <td>90</td>\n",
       "      <td>376</td>\n",
       "    </tr>\n",
       "    <tr>\n",
       "      <th>4</th>\n",
       "      <td>70</td>\n",
       "      <td>361</td>\n",
       "    </tr>\n",
       "  </tbody>\n",
       "</table>\n",
       "</div>"
      ],
      "text/plain": [
       "   Lot_size  Work_hours\n",
       "0        80         399\n",
       "1        30         121\n",
       "2        50         221\n",
       "3        90         376\n",
       "4        70         361"
      ]
     },
     "execution_count": 17,
     "metadata": {},
     "output_type": "execute_result"
    }
   ],
   "source": [
    "df.head(5)"
   ]
  },
  {
   "cell_type": "code",
   "execution_count": 19,
   "id": "e29936cb",
   "metadata": {},
   "outputs": [
    {
     "data": {
      "image/png": "[encoded data removed]",
      "text/plain": [
       "<Figure size 576x576 with 1 Axes>"
      ]
     },
     "metadata": {},
     "output_type": "display_data"
    }
   ],
   "source": [
    "fig=plt.figure(figsize=(8,8))\n",
    "fig.set_facecolor('white')\n",
    "font_size=15\n",
    "plt.scatter(df['Lot_size'],df['Work_hours']) ## 원 데이터 산포도\n",
    "plt.xlabel('Lot Size', fontsize=font_size)\n",
    "plt.ylabel('Work Hours',fontsize=font_size)\n",
    "plt.show()"
   ]
  },
  {
   "cell_type": "code",
   "execution_count": 20,
   "id": "637caaf0",
   "metadata": {},
   "outputs": [],
   "source": [
    "## states model 사용\n",
    "fit = ols('Work_hours ~ Lot_size',data=df).fit()  ## 단순선형회귀모형 적합"
   ]
  },
  {
   "cell_type": "code",
   "execution_count": 22,
   "id": "f700c53b",
   "metadata": {},
   "outputs": [
    {
     "data": {
      "text/html": [
       "<table class=\"simpletable\">\n",
       "<caption>OLS Regression Results</caption>\n",
       "<tr>\n",
       "  <th>Dep. Variable:</th>       <td>Work_hours</td>    <th>  R-squared:         </th> <td>   0.822</td>\n",
       "</tr>\n",
       "<tr>\n",
       "  <th>Model:</th>                   <td>OLS</td>       <th>  Adj. R-squared:    </th> <td>   0.814</td>\n",
       "</tr>\n",
       "<tr>\n",
       "  <th>Method:</th>             <td>Least Squares</td>  <th>  F-statistic:       </th> <td>   105.9</td>\n",
       "</tr>\n",
       "<tr>\n",
       "  <th>Date:</th>             <td>Sat, 09 Oct 2021</td> <th>  Prob (F-statistic):</th> <td>4.45e-10</td>\n",
       "</tr>\n",
       "<tr>\n",
       "  <th>Time:</th>                 <td>22:25:11</td>     <th>  Log-Likelihood:    </th> <td> -131.64</td>\n",
       "</tr>\n",
       "<tr>\n",
       "  <th>No. Observations:</th>      <td>    25</td>      <th>  AIC:               </th> <td>   267.3</td>\n",
       "</tr>\n",
       "<tr>\n",
       "  <th>Df Residuals:</th>          <td>    23</td>      <th>  BIC:               </th> <td>   269.7</td>\n",
       "</tr>\n",
       "<tr>\n",
       "  <th>Df Model:</th>              <td>     1</td>      <th>                     </th>     <td> </td>   \n",
       "</tr>\n",
       "<tr>\n",
       "  <th>Covariance Type:</th>      <td>nonrobust</td>    <th>                     </th>     <td> </td>   \n",
       "</tr>\n",
       "</table>\n",
       "<table class=\"simpletable\">\n",
       "<tr>\n",
       "      <td></td>         <th>coef</th>     <th>std err</th>      <th>t</th>      <th>P>|t|</th>  <th>[0.025</th>    <th>0.975]</th>  \n",
       "</tr>\n",
       "<tr>\n",
       "  <th>Intercept</th> <td>   62.3659</td> <td>   26.177</td> <td>    2.382</td> <td> 0.026</td> <td>    8.214</td> <td>  116.518</td>\n",
       "</tr>\n",
       "<tr>\n",
       "  <th>Lot_size</th>  <td>    3.5702</td> <td>    0.347</td> <td>   10.290</td> <td> 0.000</td> <td>    2.852</td> <td>    4.288</td>\n",
       "</tr>\n",
       "</table>\n",
       "<table class=\"simpletable\">\n",
       "<tr>\n",
       "  <th>Omnibus:</th>       <td> 0.608</td> <th>  Durbin-Watson:     </th> <td>   1.432</td>\n",
       "</tr>\n",
       "<tr>\n",
       "  <th>Prob(Omnibus):</th> <td> 0.738</td> <th>  Jarque-Bera (JB):  </th> <td>   0.684</td>\n",
       "</tr>\n",
       "<tr>\n",
       "  <th>Skew:</th>          <td> 0.298</td> <th>  Prob(JB):          </th> <td>   0.710</td>\n",
       "</tr>\n",
       "<tr>\n",
       "  <th>Kurtosis:</th>      <td> 2.450</td> <th>  Cond. No.          </th> <td>    202.</td>\n",
       "</tr>\n",
       "</table><br/><br/>Notes:<br/>[1] Standard Errors assume that the covariance matrix of the errors is correctly specified."
      ],
      "text/plain": [
       "<class 'statsmodels.iolib.summary.Summary'>\n",
       "\"\"\"\n",
       "                            OLS Regression Results                            \n",
       "==============================================================================\n",
       "Dep. Variable:             Work_hours   R-squared:                       0.822\n",
       "Model:                            OLS   Adj. R-squared:                  0.814\n",
       "Method:                 Least Squares   F-statistic:                     105.9\n",
       "Date:                Sat, 09 Oct 2021   Prob (F-statistic):           4.45e-10\n",
       "Time:                        22:25:11   Log-Likelihood:                -131.64\n",
       "No. Observations:                  25   AIC:                             267.3\n",
       "Df Residuals:                      23   BIC:                             269.7\n",
       "Df Model:                           1                                         \n",
       "Covariance Type:            nonrobust                                         \n",
       "==============================================================================\n",
       "                 coef    std err          t      P>|t|      [0.025      0.975]\n",
       "------------------------------------------------------------------------------\n",
       "Intercept     62.3659     26.177      2.382      0.026       8.214     116.518\n",
       "Lot_size       3.5702      0.347     10.290      0.000       2.852       4.288\n",
       "==============================================================================\n",
       "Omnibus:                        0.608   Durbin-Watson:                   1.432\n",
       "Prob(Omnibus):                  0.738   Jarque-Bera (JB):                0.684\n",
       "Skew:                           0.298   Prob(JB):                        0.710\n",
       "Kurtosis:                       2.450   Cond. No.                         202.\n",
       "==============================================================================\n",
       "\n",
       "Notes:\n",
       "[1] Standard Errors assume that the covariance matrix of the errors is correctly specified.\n",
       "\"\"\""
      ]
     },
     "execution_count": 22,
     "metadata": {},
     "output_type": "execute_result"
    }
   ],
   "source": [
    "fit.summary()"
   ]
  },
  {
   "cell_type": "code",
   "execution_count": 23,
   "id": "cd8a789d",
   "metadata": {},
   "outputs": [
    {
     "name": "stdout",
     "output_type": "stream",
     "text": [
      "62.36585858585867\n",
      "3.5702020202020197\n"
     ]
    }
   ],
   "source": [
    "## 회귀 계수\n",
    "print(fit.params.Intercept) ## 절편\n",
    "print(fit.params.Lot_size) ## 기울기"
   ]
  },
  {
   "cell_type": "code",
   "execution_count": 24,
   "id": "eea8982d",
   "metadata": {},
   "outputs": [
    {
     "data": {
      "text/plain": [
       "0     347.982020\n",
       "1     169.471919\n",
       "2     240.875960\n",
       "3     383.684040\n",
       "4     312.280000\n",
       "5     276.577980\n",
       "6     490.790101\n",
       "7     347.982020\n",
       "8     419.386061\n",
       "9     240.875960\n",
       "10    205.173939\n",
       "11    312.280000\n",
       "12    383.684040\n",
       "13    133.769899\n",
       "14    455.088081\n",
       "15    419.386061\n",
       "16    169.471919\n",
       "17    240.875960\n",
       "18    383.684040\n",
       "19    455.088081\n",
       "20    169.471919\n",
       "21    383.684040\n",
       "22    205.173939\n",
       "23    347.982020\n",
       "24    312.280000\n",
       "dtype: float64"
      ]
     },
     "execution_count": 24,
     "metadata": {},
     "output_type": "execute_result"
    }
   ],
   "source": [
    "## 추정값\n",
    "fit.fittedvalues"
   ]
  },
  {
   "cell_type": "code",
   "execution_count": 25,
   "id": "88be6246",
   "metadata": {},
   "outputs": [
    {
     "data": {
      "text/plain": [
       "0      51.017980\n",
       "1     -48.471919\n",
       "2     -19.875960\n",
       "3      -7.684040\n",
       "4      48.720000\n",
       "5     -52.577980\n",
       "6      55.209899\n",
       "7       4.017980\n",
       "8     -66.386061\n",
       "9     -83.875960\n",
       "10    -45.173939\n",
       "11    -60.280000\n",
       "12      5.315960\n",
       "13    -20.769899\n",
       "14    -20.088081\n",
       "15      0.613939\n",
       "16     42.528081\n",
       "17     27.124040\n",
       "18     -6.684040\n",
       "19    -34.088081\n",
       "20    103.528081\n",
       "21     84.315960\n",
       "22     38.826061\n",
       "23     -5.982020\n",
       "24     10.720000\n",
       "dtype: float64"
      ]
     },
     "execution_count": 25,
     "metadata": {},
     "output_type": "execute_result"
    }
   ],
   "source": [
    "## 잔차\n",
    "fit.resid"
   ]
  },
  {
   "cell_type": "code",
   "execution_count": 26,
   "id": "3970b8ac",
   "metadata": {},
   "outputs": [
    {
     "data": {
      "text/plain": [
       "0    347.98202\n",
       "dtype: float64"
      ]
     },
     "execution_count": 26,
     "metadata": {},
     "output_type": "execute_result"
    }
   ],
   "source": [
    "## 예측값\n",
    "fit.predict(exog=dict(Lot_size=[80]))  #제품사이즈가 80이면 약 348시간이 걸린다고 예측"
   ]
  },
  {
   "cell_type": "code",
   "execution_count": 27,
   "id": "adbcd8bd",
   "metadata": {},
   "outputs": [
    {
     "data": {
      "image/png": "[encoded data removed]",
      "text/plain": [
       "<Figure size 576x576 with 1 Axes>"
      ]
     },
     "metadata": {},
     "output_type": "display_data"
    }
   ],
   "source": [
    "## 시각화\n",
    "fig = plt.figure(figsize=(8,8))\n",
    "fig.set_facecolor('white')\n",
    " \n",
    "font_size = 15\n",
    "plt.scatter(df['Lot_size'],df['Work_hours']) ## 원 데이터 산포도\n",
    "plt.plot(df['Lot_size'],fit.fittedvalues,color='red') ## 회귀직선 추가\n",
    " \n",
    "plt.xlabel('Lot Size', fontsize=font_size)\n",
    "plt.ylabel('Work Hours',fontsize=font_size)\n",
    "plt.show()"
   ]
  },
  {
   "cell_type": "code",
   "execution_count": 28,
   "id": "15cc723f",
   "metadata": {},
   "outputs": [
    {
     "data": {
      "image/png": "[encoded data removed]",
      "text/plain": [
       "<Figure size 576x576 with 1 Axes>"
      ]
     },
     "metadata": {},
     "output_type": "display_data"
    }
   ],
   "source": [
    "## 잔차도 Residual Plot\n",
    "fig = plt.figure(figsize=(8,8))\n",
    "fig.set_facecolor('white')\n",
    " \n",
    "font_size = 15\n",
    " \n",
    "plt.scatter(df['Lot_size'],fit.resid) ## 잔차도 출력\n",
    " \n",
    "plt.xlabel('Lot Size', fontsize=font_size)\n",
    "plt.ylabel('Residual', fontsize=font_size)\n",
    "plt.show()"
   ]
  },
  {
   "cell_type": "code",
   "execution_count": 29,
   "id": "c2efbebf",
   "metadata": {},
   "outputs": [],
   "source": [
    "## sklearn linear regression 사용\n",
    "x = df['Lot_size'].values.reshape(-1,1) ## 차원 증가 시켜준다.\n",
    "y = df['Work_hours']\n",
    " \n",
    "fit = LinearRegression().fit(x,y) ## 단순선형회귀모형 적합"
   ]
  },
  {
   "cell_type": "code",
   "execution_count": 30,
   "id": "f0d64882",
   "metadata": {},
   "outputs": [
    {
     "name": "stdout",
     "output_type": "stream",
     "text": [
      "62.36585858585849\n",
      "[3.57020202]\n"
     ]
    }
   ],
   "source": [
    "## 회귀 계수\n",
    "print(fit.intercept_) ## 절편\n",
    "print(fit.coef_) ## 기울기"
   ]
  },
  {
   "cell_type": "code",
   "execution_count": 31,
   "id": "e673a832",
   "metadata": {},
   "outputs": [
    {
     "data": {
      "text/plain": [
       "array([347.9820202 , 169.47191919, 240.8759596 , 383.6840404 ,\n",
       "       312.28      , 276.5779798 , 490.79010101, 347.9820202 ,\n",
       "       419.38606061, 240.8759596 , 205.17393939, 312.28      ,\n",
       "       383.6840404 , 133.76989899, 455.08808081, 419.38606061,\n",
       "       169.47191919, 240.8759596 , 383.6840404 , 455.08808081,\n",
       "       169.47191919, 383.6840404 , 205.17393939, 347.9820202 ,\n",
       "       312.28      ])"
      ]
     },
     "execution_count": 31,
     "metadata": {},
     "output_type": "execute_result"
    }
   ],
   "source": [
    "## 추정값\n",
    "fit.predict(x)"
   ]
  },
  {
   "cell_type": "code",
   "execution_count": 32,
   "id": "71733eb7",
   "metadata": {},
   "outputs": [
    {
     "name": "stdout",
     "output_type": "stream",
     "text": [
      "0      51.017980\n",
      "1     -48.471919\n",
      "2     -19.875960\n",
      "3      -7.684040\n",
      "4      48.720000\n",
      "5     -52.577980\n",
      "6      55.209899\n",
      "7       4.017980\n",
      "8     -66.386061\n",
      "9     -83.875960\n",
      "10    -45.173939\n",
      "11    -60.280000\n",
      "12      5.315960\n",
      "13    -20.769899\n",
      "14    -20.088081\n",
      "15      0.613939\n",
      "16     42.528081\n",
      "17     27.124040\n",
      "18     -6.684040\n",
      "19    -34.088081\n",
      "20    103.528081\n",
      "21     84.315960\n",
      "22     38.826061\n",
      "23     -5.982020\n",
      "24     10.720000\n",
      "Name: Work_hours, dtype: float64\n"
     ]
    }
   ],
   "source": [
    "## 잔차\n",
    "residual = y - fit.predict(x)\n",
    "print(residual)"
   ]
  },
  {
   "cell_type": "code",
   "execution_count": 33,
   "id": "41b06482",
   "metadata": {},
   "outputs": [
    {
     "data": {
      "text/plain": [
       "array([347.9820202])"
      ]
     },
     "execution_count": 33,
     "metadata": {},
     "output_type": "execute_result"
    }
   ],
   "source": [
    "## 예측값\n",
    "fit.predict([[80]])"
   ]
  },
  {
   "cell_type": "code",
   "execution_count": null,
   "id": "67ebde4a",
   "metadata": {},
   "outputs": [],
   "source": [
    "## 출처\n",
    "## https://zephyrus1111.tistory.com/52"
   ]
  }
 ],
 "metadata": {
  "kernelspec": {
   "display_name": "Python 3 (ipykernel)",
   "language": "python",
   "name": "python3"
  },
  "language_info": {
   "codemirror_mode": {
    "name": "ipython",
    "version": 3
   },
   "file_extension": ".py",
   "mimetype": "text/x-python",
   "name": "python",
   "nbconvert_exporter": "python",
   "pygments_lexer": "ipython3",
   "version": "3.8.10"
  }
 },
 "nbformat": 4,
 "nbformat_minor": 5
}
