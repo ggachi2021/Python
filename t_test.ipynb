{
 "cells": [
  {
   "cell_type": "code",
   "execution_count": 23,
   "id": "035950a3",
   "metadata": {},
   "outputs": [],
   "source": [
    "# 데이터 핸들링을 위한 패키지\n",
    "import numpy as np\n",
    "import pandas as pd\n",
    "\n",
    "# 통계를 위해 사용하는 패키지\n",
    "from scipy import stats\n",
    "from statsmodels.stats.diagnostic import kstest_normal  # 정규성 검정 (Kolmogorov-Smirnov normality test)\n",
    "\n",
    "# 시각화를 위한 패키지\n",
    "from matplotlib import pyplot as plt\n",
    "import seaborn as sb\n",
    "\n",
    "# %matplotlib inline 의 목적은 plt.show()함수가 호출되지 않은 경우에도 matplotlib 다이어그램을 렌더링하는 것이다.\n",
    "# 그러나 현재 업데이트된 버전의 주피터 노트북 버전에서는 %matplotlib inline 를 사용하지 않더라도 Matplotlib 다이어그램을 개체로 표현한다.\n",
    "# 따라서 굳이 필요하지는 않다. 그러나 코드를 깨끗하게 유지하고 자신이 만든 플롯을 호출하기 위해 여전히 관례적으로 권장된다.\n",
    "%matplotlib inline\n",
    "\n",
    "# 경고 메시지 무시\n",
    "import warnings\n",
    "warnings.filterwarnings('ignore')"
   ]
  },
  {
   "cell_type": "markdown",
   "id": "ffa43411",
   "metadata": {},
   "source": [
    "### T-test 의 단계\n",
    "(0-1) 정규성 검정  \n",
    "(0-2) 등분산 검정 (독립표본 T-test 일 경우)  \n",
    "(1) 가설 설정  \n",
    "(2) 유의수준 설정  \n",
    "(3) 검정통계량의 값 및 유의확률 계산  \n",
    "(4) 귀무가설의 기각여부 판단 및 의사결정  "
   ]
  },
  {
   "cell_type": "markdown",
   "id": "ba8019c8",
   "metadata": {},
   "source": [
    "### 1.단일표본 T-검정 (One Sample T-Test)\n",
    "단일 모집단에서 관심이 있는 연속형 변수의 평균값을 특정 기준값과 비교하고자 할 때 사용하는 검정방법  \n",
    "\n",
    "[Problem]  \n",
    "MASS패키지의 cats 데이터는 고양이들의 성별(Sex 변수), 몸무게(Bwt 변수), 심장의 무게(Hwt 변수)를 담고있다.  \n",
    "검정을 수행하기에 앞서 데이터 확인 및 변수에 대한 정규성 검정을 수행하라.  \n",
    "cats 데이터에서 고양이들의 평균몸무게가 2.6kg인지 아닌지에 대한 통계적 검정을 수행하고, 결과를 해석해보자."
   ]
  },
  {
   "cell_type": "code",
   "execution_count": 36,
   "id": "dab1394b",
   "metadata": {},
   "outputs": [
    {
     "data": {
      "text/html": [
       "<div>\n",
       "<style scoped>\n",
       "    .dataframe tbody tr th:only-of-type {\n",
       "        vertical-align: middle;\n",
       "    }\n",
       "\n",
       "    .dataframe tbody tr th {\n",
       "        vertical-align: top;\n",
       "    }\n",
       "\n",
       "    .dataframe thead th {\n",
       "        text-align: right;\n",
       "    }\n",
       "</style>\n",
       "<table border=\"1\" class=\"dataframe\">\n",
       "  <thead>\n",
       "    <tr style=\"text-align: right;\">\n",
       "      <th></th>\n",
       "      <th>Sex</th>\n",
       "      <th>Bwt</th>\n",
       "      <th>Hwt</th>\n",
       "    </tr>\n",
       "  </thead>\n",
       "  <tbody>\n",
       "    <tr>\n",
       "      <th>1</th>\n",
       "      <td>F</td>\n",
       "      <td>2.0</td>\n",
       "      <td>7.0</td>\n",
       "    </tr>\n",
       "    <tr>\n",
       "      <th>2</th>\n",
       "      <td>F</td>\n",
       "      <td>2.0</td>\n",
       "      <td>7.4</td>\n",
       "    </tr>\n",
       "    <tr>\n",
       "      <th>3</th>\n",
       "      <td>F</td>\n",
       "      <td>2.0</td>\n",
       "      <td>9.5</td>\n",
       "    </tr>\n",
       "    <tr>\n",
       "      <th>4</th>\n",
       "      <td>F</td>\n",
       "      <td>2.1</td>\n",
       "      <td>7.2</td>\n",
       "    </tr>\n",
       "    <tr>\n",
       "      <th>5</th>\n",
       "      <td>F</td>\n",
       "      <td>2.1</td>\n",
       "      <td>7.3</td>\n",
       "    </tr>\n",
       "    <tr>\n",
       "      <th>...</th>\n",
       "      <td>...</td>\n",
       "      <td>...</td>\n",
       "      <td>...</td>\n",
       "    </tr>\n",
       "    <tr>\n",
       "      <th>140</th>\n",
       "      <td>M</td>\n",
       "      <td>3.7</td>\n",
       "      <td>11.0</td>\n",
       "    </tr>\n",
       "    <tr>\n",
       "      <th>141</th>\n",
       "      <td>M</td>\n",
       "      <td>3.8</td>\n",
       "      <td>14.8</td>\n",
       "    </tr>\n",
       "    <tr>\n",
       "      <th>142</th>\n",
       "      <td>M</td>\n",
       "      <td>3.8</td>\n",
       "      <td>16.8</td>\n",
       "    </tr>\n",
       "    <tr>\n",
       "      <th>143</th>\n",
       "      <td>M</td>\n",
       "      <td>3.9</td>\n",
       "      <td>14.4</td>\n",
       "    </tr>\n",
       "    <tr>\n",
       "      <th>144</th>\n",
       "      <td>M</td>\n",
       "      <td>3.9</td>\n",
       "      <td>20.5</td>\n",
       "    </tr>\n",
       "  </tbody>\n",
       "</table>\n",
       "<p>144 rows × 3 columns</p>\n",
       "</div>"
      ],
      "text/plain": [
       "    Sex  Bwt   Hwt\n",
       "1     F  2.0   7.0\n",
       "2     F  2.0   7.4\n",
       "3     F  2.0   9.5\n",
       "4     F  2.1   7.2\n",
       "5     F  2.1   7.3\n",
       "..   ..  ...   ...\n",
       "140   M  3.7  11.0\n",
       "141   M  3.8  14.8\n",
       "142   M  3.8  16.8\n",
       "143   M  3.9  14.4\n",
       "144   M  3.9  20.5\n",
       "\n",
       "[144 rows x 3 columns]"
      ]
     },
     "execution_count": 36,
     "metadata": {},
     "output_type": "execute_result"
    }
   ],
   "source": [
    "df_cats = pd.read_csv('C:/Users/SEC/pythonstudy/cats.csv',\n",
    "                       index_col = 'Unnamed: 0')\n",
    "\n",
    "df_cats"
   ]
  },
  {
   "cell_type": "markdown",
   "id": "b03c1b6e",
   "metadata": {},
   "source": [
    "#### 1.1. 정규성 검정\n",
    "< 가설 설정 - 정규성 검정 >\n",
    "\n",
    "귀무가설(H0) : 데이터가 정규분포를 따른다.  \n",
    "대립가설(H1) : 데이터가 정규분포를 따르지 않는다.  \n",
    "< 유의수준은 0.05 로 설정 >\n",
    "\n",
    "##### 1.1.1. Shapiro-Wilk normality test"
   ]
  },
  {
   "cell_type": "code",
   "execution_count": 43,
   "id": "5a931167",
   "metadata": {},
   "outputs": [
    {
     "name": "stdout",
     "output_type": "stream",
     "text": [
      " Statistics: 0.9519 \n",
      " P-value: 0.0000673024842399172484874725\n",
      " p-value < 0.05 이므로 귀무가설 기각. 데이터가 정규분포를 따르지 않는다.\n",
      "\n"
     ]
    }
   ],
   "source": [
    "# 고양이의 몸무게 데이터에 대한 정규성 검정 수행\n",
    "\n",
    "# scipy.stats.shapiro( x )\n",
    "\n",
    "result = stats.shapiro(df_cats['Bwt'])\n",
    "\n",
    "print( f' Statistics: {result[0]:.4f} \\n P-value: {result[1]:.28f}')\n",
    "\n",
    "if result[1] < 0.05:\n",
    "    print(\" p-value < 0.05 이므로 귀무가설 기각. 데이터가 정규분포를 따르지 않는다.\")\n",
    "if result[1] > 0.05:\n",
    "    print(\" p-value > 0.05 이므로 귀무가설 채택. 데이터가 정규분포를 따른다.\")\n",
    "print()"
   ]
  },
  {
   "cell_type": "markdown",
   "id": "7955ebe8",
   "metadata": {},
   "source": [
    "##### 1.1.2. Kolmogorov-Smirnov normality test"
   ]
  },
  {
   "cell_type": "code",
   "execution_count": 44,
   "id": "2fe4d4ab",
   "metadata": {},
   "outputs": [
    {
     "name": "stdout",
     "output_type": "stream",
     "text": [
      " Statistics: 0.1017 \n",
      " P-value: 0.0022497993974595915239733657\n",
      " p-value < 0.05 이므로 귀무가설 기각. 데이터가 정규분포를 따르지 않는다.\n",
      "\n"
     ]
    }
   ],
   "source": [
    "# statsmodels.stats.diagnostic.kstest_normal( x,\n",
    "#                                     dist = 'norm',    # 가정된 분포\n",
    "#                                     pvalmethod = 'table')  # 검정 통계량의 p-값을 계산하는데 사용되는 방법\n",
    "\n",
    "result = kstest_normal(df_cats['Bwt'])\n",
    "print( f' Statistics: {result[0]:.4f} \\n P-value: {result[1]:.28f}' )\n",
    "\n",
    "if result[1] < 0.05:\n",
    "    print(\" p-value < 0.05 이므로 귀무가설 기각. 데이터가 정규분포를 따르지 않는다.\")\n",
    "if result[1] > 0.05:\n",
    "    print(\" p-value > 0.05 이므로 귀무가설 채택. 데이터가 정규분포를 따른다.\")\n",
    "print()"
   ]
  },
  {
   "cell_type": "markdown",
   "id": "39391ee3",
   "metadata": {},
   "source": [
    "##### 1.1.3. Q-Q plot"
   ]
  },
  {
   "cell_type": "code",
   "execution_count": 45,
   "id": "f655d547",
   "metadata": {},
   "outputs": [],
   "source": [
    "import scipy.stats as stats"
   ]
  },
  {
   "cell_type": "code",
   "execution_count": 46,
   "id": "2bb266a4",
   "metadata": {},
   "outputs": [
    {
     "data": {
      "image/png": "[encoded data removed]",
      "text/plain": [
       "<Figure size 720x360 with 1 Axes>"
      ]
     },
     "metadata": {
      "needs_background": "light"
     },
     "output_type": "display_data"
    }
   ],
   "source": [
    "plt.figure(figsize=(10,5))\n",
    "stats.probplot(df_cats['Bwt'], dist=stats.norm, plot=plt)\n",
    "plt.show()"
   ]
  },
  {
   "cell_type": "markdown",
   "id": "31ef490e",
   "metadata": {},
   "source": [
    "#### 1.2. 단일표본 T-검정\n",
    "< 가설 설정 - T-검정 >\n",
    "\n",
    "귀무가설(H0) : 고양이들의 평균 몸무게는 2.6 (kg)이다.  \n",
    "대립가설(H1) : 고양이들의 평균 몸무게는 2.6 (kg)이 아니다.  \n",
    "< 유의수준은 0.05 로 설정 >\n",
    "\n",
    "- 앞서 진행한 정규성 검정 결과, 정규분포를 따르지 않는다는 결과가 나왔다. 이와 같을때는 모수적 검정이 아닌 비모수적 검정을 진행해야 한다.  \n",
    "- 범주형 변수의 그룹 수가 1개인 경우의 비모수적 검정 중 하나는 '윌콕슨의 부호순위 검정 (Wilcoxon signed rank test)' 이다."
   ]
  },
  {
   "cell_type": "markdown",
   "id": "645e3230",
   "metadata": {},
   "source": [
    "##### 1.2.1. 표본이 정규분포를 따르지 않을 경우: Wilcoxon test"
   ]
  },
  {
   "cell_type": "code",
   "execution_count": 47,
   "id": "cbc83ad8",
   "metadata": {},
   "outputs": [
    {
     "name": "stdout",
     "output_type": "stream",
     "text": [
      " V-value(1-sample Wilcoxon result): 3573.0000 \n",
      " P-value: 0.0252452029481409316591378200\n",
      " p-value < 0.05 이므로 귀무가설 기각. 고양이들의 평균 몸무게는 2.6 (kg)이 아니다.\n",
      "\n"
     ]
    }
   ],
   "source": [
    "# 표본이 정규분포를 따르지 않으므로 1-sample wilcoxon test 수행\n",
    "\n",
    "# scipy.stats.wilcoxon( x,  # 첫 번째 측정 집합. 1차원이어야 한다.\n",
    "#                           # 1-sample wilcoxon test일 경우 'x - 예상치' 입력\n",
    "#                       y = None,  # 두번째 측정값 집합. 1차원이어야 한다. 기본값은 None\n",
    "#                       zero_method = 'wilcox',  # 기본값은 'wilcox'\n",
    "#                                                # \" Wilcox \": 기본값인 모든 0차를 버립니다.\n",
    "#                                                # \"pratt\": 순위 결정 과정에서 0차를 포함하지만 0의 순위를 떨어뜨립니다.\n",
    "#                                                # \"zsplit\": 순위 프로세스에 0차를 포함하고 0 순위를 양수와 음수 사이에 나눕니다.\n",
    "#                       correction = False,  # 기본값은 False.\n",
    "#                                            # True 로 설정하면, 정규 근사가 사용되는 경우 z-통계량을 계산할 때 \n",
    "#                                             평균값을 향해 Wilcoxon 순위 통계량을 0.5 조정하여 연속성 수정을 적용한다.\n",
    "#                       alternative = 'two-sided',  # 양측/단측 검정 설정. 기본값은 ‘two-sided’\n",
    "#                                                   # 양측검정은 ‘two-sided’\n",
    "#                                                   # 단측검정은 ‘less’ 또는 ‘greater’\n",
    "#                       mode = 'auto' )  # p-값을 계산하는 데 사용되는 분포를 정의. 기본값은 'auto'\n",
    "#                                        # 'auto' : 옵션들 중 하나를 선택\n",
    "#                                        # 'exact' : 검정 통계량의 정확한 분포를 사용\n",
    "#                                        # 'approx' : 단측 확률의 두 배인 양측 확률을 근사\n",
    "#                                        # 'asymp': 검정 통계량의 점근 분포를 사용\n",
    "\n",
    "wilcoxon_cats = stats.wilcoxon( df_cats['Bwt'] - 2.6 )\n",
    "\n",
    "print( f' V-value(1-sample Wilcoxon result): {wilcoxon_cats[0]:.4f} \\n P-value: {wilcoxon_cats[1]:.28f}' )\n",
    "\n",
    "if wilcoxon_cats[1] < 0.05:\n",
    "    print(\" p-value < 0.05 이므로 귀무가설 기각. 고양이들의 평균 몸무게는 2.6 (kg)이 아니다.\")\n",
    "if wilcoxon_cats[1] > 0.05:\n",
    "    print(\" p-value > 0.05 이므로 귀무가설 채택. 고양이들의 평균 몸무게는 2.6 (kg)이다.\")\n",
    "print()"
   ]
  },
  {
   "cell_type": "markdown",
   "id": "c3676bfe",
   "metadata": {},
   "source": [
    "##### 1.2.2. 표본이 정규분포를 따를 경우 : T-Test\n",
    "* 정규성을 만족한다고 가정하고 t-test 를 수행한다면?"
   ]
  },
  {
   "cell_type": "code",
   "execution_count": 50,
   "id": "5539f6be",
   "metadata": {},
   "outputs": [
    {
     "name": "stdout",
     "output_type": "stream",
     "text": [
      " Statistic(t_value): 3.0565 \n",
      " P-value: 0.0026730362561723616972308992\n",
      " p-value < 0.05 이므로 귀무가설 기각. 고양이들의 평균 몸무게는 2.6 (kg)이 아니다.\n",
      "\n"
     ]
    }
   ],
   "source": [
    "# 단일 표본 t-test 실시\n",
    "\n",
    "## 독립 관측치 a 표본의 기대값(평균)이 주어진 모집단 평균 popmean 과 같다는 귀무 가설에 대한 검정\n",
    "\n",
    "# scipy.stats.ttest_1samp( a,  # 검정을 수행할 대상 (배열)\n",
    "#                          popmean,  # 귀무가설의 기대값.\n",
    "#                          axis = 0,  # a 배열에서 검정을 수행할 축 지정. 기본값은 0\n",
    "#                                     # axis = None 이면 전체 배열을 계산\n",
    "#                          nan_policy = 'propagate',  # 입력된 데이터에 NaN 값이 포함된 경우의 처리 방법. 기본값은 ‘propagate’\n",
    "#                                                     # ‘propagate’ : NaN 을 반환한다.\n",
    "#                                                     # ‘raise’: 에러를 발생시킨다.\n",
    "#                                                     # ‘omit’: NaN 값을 무시하고 계산 수행\n",
    "#                          Alternative = 'two-sided' )  # 양측/단측 검정 설정. 기본값은 ‘two-sided’\n",
    "#                                                       # 양측검정은 ‘two-sided’\n",
    "#                                                       # 단측검정은 ‘less’ 또는 ‘greater’\n",
    "\n",
    "\n",
    "one_t_cats = stats.ttest_1samp( df_cats['Bwt'], 2.6 )\n",
    "\n",
    "print( f' Statistic(t_value): {one_t_cats[0]:.4f} \\n P-value: {one_t_cats[1]:.28f}' )\n",
    "\n",
    "if one_t_cats[1] < 0.05:\n",
    "    print(\" p-value < 0.05 이므로 귀무가설 기각. 고양이들의 평균 몸무게는 2.6 (kg)이 아니다.\")\n",
    "if one_t_cats[1] > 0.05:\n",
    "    print(\" p-value > 0.05 이므로 귀무가설 채택. 고양이들의 평균 몸무게는 2.6 (kg)이다.\")\n",
    "print()"
   ]
  },
  {
   "cell_type": "code",
   "execution_count": 59,
   "id": "705c3aab",
   "metadata": {},
   "outputs": [
    {
     "data": {
      "image/png": "[encoded data removed]",
      "text/plain": [
       "<Figure size 432x288 with 1 Axes>"
      ]
     },
     "metadata": {
      "needs_background": "light"
     },
     "output_type": "display_data"
    }
   ],
   "source": [
    "# kde(Kerner Density Estimation): 구해진 히스토그램을 정규화한 뒤 확률밀도함수로 사용\n",
    "\n",
    "ax = sb.distplot( df_cats['Bwt'],\n",
    "                  kde = False,    # 가우스 커널 밀도 추정값을 그릴지 여부\n",
    "                  fit = stats.norm,    # 랜덤 변수 객체\n",
    "                  label = \"cats\",\n",
    "                  color = 'black')\n",
    "\n",
    "ax.set(xlabel = \"The weight for cats\")\n",
    "\n",
    "plt.legend()\n",
    "plt.show()"
   ]
  },
  {
   "cell_type": "markdown",
   "id": "88672753",
   "metadata": {},
   "source": [
    "### 2.대응표본 T-검정 (Paired Sample T-Test)\n",
    "단일 모집단에 대해 두번의 처리를 가했을 때, 두 개의 처리에 따른 평균의 차이를 비교하고자 할 때 사용하는 검정방법  \n",
    "하나의 모집단에서 크기가 n개인 하나의 표본을 추출한 후, 표본 내의 개체들에 대해서 두 번의 측정을 실시  \n",
    "관측값들은 서로 독립적이지 않고 쌍으로 이루어져 있다.  \n",
    "\n",
    "[Problem]  \n",
    "10명의 환자를 대상으로 수면영양제를 복용하기 전과 후의 수면시간을 측정하여 영양제의 효과가 있는지를 판단하고자 한다.  \n",
    "영양제 복용 전과 후의 평균 수면시간에 차이가 있는지를 알아보는데, 단측검정을 수행하여 영양제 복용 후에 수면시간이 더 늘어났는지를 검정해보라.  \n",
    "(표본이 정규성을 만족한다는 가정 하에 단측검정 수행, 유의수준 = 0.05)  \n",
    "* 수면 영양제 복용 전 10명 환자들 각각의 수면시간 : 7, 3, 4, 5, 2, 1, 6, 6, 5, 4  \n",
    "* 수면 영양제 복용 후 10명 환자들 각각의 수면시간 : 8, 4, 5, 6, 2, 3, 6, 8, 6, 5"
   ]
  },
  {
   "cell_type": "code",
   "execution_count": 60,
   "id": "e59a833f",
   "metadata": {},
   "outputs": [],
   "source": [
    "# 데이터를 array 로 생성\n",
    "\n",
    "before = np.array( [7, 3, 4, 5, 2, 1, 6, 6, 5, 4] )\n",
    "after = np.array( [8, 4, 5, 6, 2, 3, 6, 8, 6, 5] )"
   ]
  },
  {
   "cell_type": "markdown",
   "id": "50c63d1e",
   "metadata": {},
   "source": [
    "#### 2.1. 정규성 검정  \n",
    "< 가설 설정 - 정규성 검정 >  \n",
    "\n",
    "귀무가설(H0) : 데이터가 정규분포를 따른다.  \n",
    "대립가설(H1) : 데이터가 정규분포를 따르지 않는다.  \n",
    "< 유의수준은 0.05 로 설정 >"
   ]
  },
  {
   "cell_type": "code",
   "execution_count": 62,
   "id": "056efc97",
   "metadata": {},
   "outputs": [
    {
     "name": "stdout",
     "output_type": "stream",
     "text": [
      " <before> W-Value: 0.9645 \n",
      " <before> P-value: 0.8352707624435424804687500000\n",
      " <after> W-Value: 0.9457 \n",
      " <after> P-value: 0.6177994012832641601562500000\n"
     ]
    }
   ],
   "source": [
    "# 복용 전, 복용 후 수면시간 데이터들에 대해 정규성 검정 수행\n",
    "\n",
    "shapiro_before = stats.shapiro( before )\n",
    "shapiro_after = stats.shapiro( after )\n",
    "\n",
    "print( f' <before> W-Value: {shapiro_before[0]:.4f} \\n <before> P-value: {shapiro_before[1]:.28f}' )\n",
    "print( f' <after> W-Value: {shapiro_after[0]:.4f} \\n <after> P-value: {shapiro_after[1]:.28f}' )"
   ]
  },
  {
   "cell_type": "markdown",
   "id": "d5e58dc2",
   "metadata": {},
   "source": [
    "Shapiro-Wilk normality test 결과, 복용 전/후의 데이터 모두 P값이 유의수준 0.05 보다 크므로 귀무가설을 채택한다.  \n",
    "즉, 데이터가 정규분포를 따른다."
   ]
  },
  {
   "cell_type": "code",
   "execution_count": 70,
   "id": "d2a47196",
   "metadata": {},
   "outputs": [
    {
     "name": "stdout",
     "output_type": "stream",
     "text": [
      "ShapiroResult(statistic=0.9644595384597778, pvalue=0.8352707624435425)\n"
     ]
    }
   ],
   "source": [
    "print(shapiro_before)"
   ]
  },
  {
   "cell_type": "markdown",
   "id": "009a5fe1",
   "metadata": {},
   "source": [
    "#### 2.2. 대응표본 T-검정  \n",
    "< 가설 설정 - T-검정 >  \n",
    "\n",
    "귀무가설(H0) : ( 복용 후 평균수면시간 - 복용 전 평균 수면시간 ) = 0  \n",
    "대립가설(H1) : ( 복용 후 평균수면시간 - 복용 전 평균 수면시간 ) > 0 --> 우단측검정에 해당  \n",
    "< 유의수준은 0.05 로 설정 >"
   ]
  },
  {
   "cell_type": "code",
   "execution_count": 71,
   "id": "0e4a5a91",
   "metadata": {},
   "outputs": [
    {
     "name": "stdout",
     "output_type": "stream",
     "text": [
      " Statistic(T-value): 4.743 \n",
      " P-value: 0.0005269356285082765333632748 \n"
     ]
    }
   ],
   "source": [
    "# 대응표본 T-검정 수행\n",
    "\n",
    "# scipy.stats.ttest_rel( a, b,    # a, b 두 배열은 shape 이 같아야 한다.\n",
    "#                        axis = 0,  # a 배열에서 검정을 수행할 축 지정. 기본값은 0\n",
    "#                                   # axis = None 이면 전체 배열을 계산\n",
    "#                        nan_policy = 'propagate',  # 입력된 데이터에 NaN 값이 포함된 경우의 처리 방법. 기본값은 ‘propagate’\n",
    "#                                                   # ‘propagate’ : NaN 을 반환한다.\n",
    "#                                                   # ‘raise’: 에러를 발생시킨다.\n",
    "#                                                   # ‘omit’: NaN 값을 무시하고 계산 수행\n",
    "#                        Alternative = 'two-sided' )  # 양측/단측 검정 설정. 기본값은 ‘two-sided’\n",
    "#                                                     # 양측검정은 ‘two-sided’\n",
    "#                                                     # 단측검정은 ‘less’ 또는 ‘greater’\n",
    "\n",
    "\n",
    "# 단측 검정으로 대응표본 t-test 시행\n",
    "paired_t_test = stats.ttest_rel( after, before,alternative = 'greater')\n",
    "\n",
    "print( f' Statistic(T-value): {paired_t_test[0]:.3f} \\n P-value: {paired_t_test[1]:.28f} ')"
   ]
  },
  {
   "cell_type": "markdown",
   "id": "2956ead1",
   "metadata": {},
   "source": [
    "Paired Sample T-test 결과, P값이 0.000527로 유의수준 0.05 보다 작으므로 귀무가설을 기각한다. - 즉, 수면영양제 복용 전/후의 평균 수면시간의 차이는 통계적으로 유의하며, 복용 후 수면시간이 늘었다고 말할 수 있다."
   ]
  },
  {
   "cell_type": "code",
   "execution_count": 73,
   "id": "95cea631",
   "metadata": {},
   "outputs": [
    {
     "name": "stdout",
     "output_type": "stream",
     "text": [
      "-1.0\n"
     ]
    }
   ],
   "source": [
    "# 평균\n",
    "diff_result = before - after\n",
    "print( diff_result.mean() )"
   ]
  },
  {
   "cell_type": "code",
   "execution_count": 82,
   "id": "ae78891b",
   "metadata": {},
   "outputs": [
    {
     "data": {
      "image/png": "[encoded data removed]",
      "text/plain": [
       "<Figure size 1152x864 with 2 Axes>"
      ]
     },
     "metadata": {
      "needs_background": "light"
     },
     "output_type": "display_data"
    }
   ],
   "source": [
    "plt.figure(figsize=(16,12))\n",
    "\n",
    "ax1 = plt.subplot(221)\n",
    "ax1 = sb.distplot(before, kde=False, fit=stats.gamma, label=\"before\", color = 'blue')\n",
    "ax1.set(xlabel = \"sleep time\", title = \"sleep time, Before\")\n",
    "plt.legend()\n",
    "\n",
    "ax2 = plt.subplot(222)\n",
    "ax2 = sb.distplot(after, kde=False, fit=stats.gamma, label=\"after\", color = 'red')\n",
    "ax2.set(xlabel = \"sleep time\", title = \"sleep time, After\")\n",
    "\n",
    "plt.legend()\n",
    "plt.show()"
   ]
  },
  {
   "cell_type": "code",
   "execution_count": 75,
   "id": "3a09df7c",
   "metadata": {},
   "outputs": [
    {
     "data": {
      "image/png": "[encoded data removed]",
      "text/plain": [
       "<Figure size 432x288 with 1 Axes>"
      ]
     },
     "metadata": {
      "needs_background": "light"
     },
     "output_type": "display_data"
    }
   ],
   "source": [
    "ax3 = plt.subplots()\n",
    "ax3 = sb.distplot(before, kde=False, fit=stats.gamma, label=\"before\",color = 'blue')\n",
    "ax3 = sb.distplot(after, kde=False, fit=stats.gamma, label=\"after\", color = 'red')\n",
    "ax3.set(xlabel = \"sleep time\", title = \"sleep time, Before vs After\")\n",
    "\n",
    "plt.legend()\n",
    "plt.show()"
   ]
  },
  {
   "cell_type": "markdown",
   "id": "e3fe33e3",
   "metadata": {},
   "source": [
    "### 3. 독립표본 T-검정 (Independent Sample T-Test)  \n",
    "두 개의 독립된 모집단의 평균을 비교하고자 할 때 사용하는 검정방법  \n",
    "\n",
    "[Problem]  \n",
    "MASS패키지의 cats 데이터는 고양이들의 성별(Sex 변수), 몸무게(Bwt 변수), 심장의 무게(Hwt 변수)를 담고있다.  \n",
    "고양이들의 성별(Sex)에 따른 몸무게(Bwt)의 평균은 통계적으로 다르다고 할 수 있는지에 대한 검정을 수행하고, 결과를 해석하라."
   ]
  },
  {
   "cell_type": "code",
   "execution_count": 83,
   "id": "f35f08f8",
   "metadata": {},
   "outputs": [
    {
     "name": "stdout",
     "output_type": "stream",
     "text": [
      "< cats_Bwt_M >\n"
     ]
    },
    {
     "data": {
      "text/plain": [
       "48    2.0\n",
       "49    2.0\n",
       "50    2.1\n",
       "51    2.2\n",
       "52    2.2\n",
       "Name: Bwt, dtype: float64"
      ]
     },
     "metadata": {},
     "output_type": "display_data"
    },
    {
     "name": "stdout",
     "output_type": "stream",
     "text": [
      "\n"
     ]
    },
    {
     "data": {
      "text/plain": [
       "count    97.000000\n",
       "mean      2.900000\n",
       "std       0.467484\n",
       "min       2.000000\n",
       "25%       2.500000\n",
       "50%       2.900000\n",
       "75%       3.200000\n",
       "max       3.900000\n",
       "Name: Bwt, dtype: float64"
      ]
     },
     "metadata": {},
     "output_type": "display_data"
    },
    {
     "name": "stdout",
     "output_type": "stream",
     "text": [
      "\n",
      "\n",
      "< cats_Bwt_F >\n"
     ]
    },
    {
     "data": {
      "text/plain": [
       "1    2.0\n",
       "2    2.0\n",
       "3    2.0\n",
       "4    2.1\n",
       "5    2.1\n",
       "Name: Bwt, dtype: float64"
      ]
     },
     "metadata": {},
     "output_type": "display_data"
    },
    {
     "name": "stdout",
     "output_type": "stream",
     "text": [
      "\n"
     ]
    },
    {
     "data": {
      "text/plain": [
       "count    47.000000\n",
       "mean      2.359574\n",
       "std       0.273988\n",
       "min       2.000000\n",
       "25%       2.150000\n",
       "50%       2.300000\n",
       "75%       2.500000\n",
       "max       3.000000\n",
       "Name: Bwt, dtype: float64"
      ]
     },
     "metadata": {},
     "output_type": "display_data"
    }
   ],
   "source": [
    "# 두 개의 독립 표본 생성\n",
    "\n",
    "cats_bwt_m = df_cats[ df_cats['Sex'] == 'M' ]['Bwt']\n",
    "\n",
    "cats_bwt_f = df_cats[ df_cats['Sex'] == 'F' ]['Bwt']\n",
    "\n",
    "print('< cats_Bwt_M >')\n",
    "display( cats_bwt_m.head() )\n",
    "print()\n",
    "display( cats_bwt_m.describe() )\n",
    "print('\\n')\n",
    "print('< cats_Bwt_F >')\n",
    "display( cats_bwt_f.head() )\n",
    "print()\n",
    "display( cats_bwt_f.describe() )"
   ]
  },
  {
   "cell_type": "markdown",
   "id": "f96e46f7",
   "metadata": {},
   "source": [
    "#### 3.1. 정규성 검정  \n",
    "< 가설 설정 - 정규성 검정 >  \n",
    "\n",
    "귀무가설(H0) : 데이터가 정규분포를 따른다.  \n",
    "대립가설(H1) : 데이터가 정규분포를 따르지 않는다.  \n",
    "< 유의수준은 0.05 로 설정 >"
   ]
  },
  {
   "cell_type": "code",
   "execution_count": 84,
   "id": "4058d9c6",
   "metadata": {},
   "outputs": [
    {
     "name": "stdout",
     "output_type": "stream",
     "text": [
      "shapiro_cats_bwt_m\n",
      " W-Value: 0.9788 \n",
      " P-value: 0.1189574524760246276855468750\n",
      " p-value > 0.05 이므로 귀무가설 채택. 데이터가 정규분포를 따른다.\n",
      "\n",
      "shapiro_cats_bwt_f\n",
      " W-Value: 0.8910 \n",
      " P-value: 0.0003754299250431358814239502\n",
      " p-value < 0.05 이므로 귀무가설 기각. 데이터가 정규분포를 따르지 않는다.\n",
      "\n"
     ]
    }
   ],
   "source": [
    "# 고양이의 몸무게 데이터에 대한 정규성 검정 수행\n",
    "\n",
    "shapiro_cats_bwt_m = stats.shapiro( cats_bwt_m )\n",
    "shapiro_cats_bwt_f = stats.shapiro( cats_bwt_f )\n",
    "\n",
    "print('shapiro_cats_bwt_m')\n",
    "print( f' W-Value: {shapiro_cats_bwt_m[0]:.4f} \\n P-value: {shapiro_cats_bwt_m[1]:.28f}' )\n",
    "if shapiro_cats_bwt_m[1] < 0.05:\n",
    "    print(\" p-value < 0.05 이므로 귀무가설 기각. 데이터가 정규분포를 따르지 않는다.\")\n",
    "if shapiro_cats_bwt_m[1] > 0.05:\n",
    "    print(\" p-value > 0.05 이므로 귀무가설 채택. 데이터가 정규분포를 따른다.\")\n",
    "print()\n",
    "\n",
    "print('shapiro_cats_bwt_f')\n",
    "print( f' W-Value: {shapiro_cats_bwt_f[0]:.4f} \\n P-value: {shapiro_cats_bwt_f[1]:.28f}' )\n",
    "if shapiro_cats_bwt_f[1] < 0.05:\n",
    "    print(\" p-value < 0.05 이므로 귀무가설 기각. 데이터가 정규분포를 따르지 않는다.\")\n",
    "if shapiro_cats_bwt_f[1] > 0.05:\n",
    "    print(\" p-value > 0.05 이므로 귀무가설 채택. 데이터가 정규분포를 따른다.\")\n",
    "print()"
   ]
  },
  {
   "cell_type": "markdown",
   "id": "c16b143f",
   "metadata": {},
   "source": [
    "#### 3.2. 등분산 검정  \n",
    "< 가설 설정 - 등분산성 검정 >  \n",
    "\n",
    "귀무가설(H0) : 두 집단의 분산이 동일하다.  \n",
    "대립가설(H1) : 두 집단의 분산이 동일하지 않다.  \n",
    "< 유의수준은 0.05 로 설정 >  \n",
    "\n",
    "* 정규성을 가정할 수 없을 때에는 Levene 검정을 사용하는 것이 좋지만, 정규성이 확실하다면 Bartlett 검정을 사용하는 것이 정확하다.  "
   ]
  },
  {
   "cell_type": "markdown",
   "id": "4f42ec7e",
   "metadata": {},
   "source": [
    "##### 3.2.1. Bartlett's Test"
   ]
  },
  {
   "cell_type": "code",
   "execution_count": 85,
   "id": "279abbdf",
   "metadata": {},
   "outputs": [
    {
     "name": "stdout",
     "output_type": "stream",
     "text": [
      " Statistic(Bartlett's test): 15.075 \n",
      " P-value: 0.000103338941 \n",
      " p-value < 0.05 이므로 귀무가설 기각. 등분산성을 만족하지 않는다.\n",
      "\n"
     ]
    }
   ],
   "source": [
    "# scipy.stats.bartlett( sample1, sample2,… )\n",
    "\n",
    "bartlett_test = stats.bartlett( cats_bwt_m, cats_bwt_f )\n",
    "\n",
    "print( f\" Statistic(Bartlett's test): {bartlett_test[0]:.3f} \\n P-value: {bartlett_test[1]:.12f} \" )\n",
    "\n",
    "if bartlett_test[1] < 0.05:\n",
    "    print(\" p-value < 0.05 이므로 귀무가설 기각. 등분산성을 만족하지 않는다.\")\n",
    "if bartlett_test[1] > 0.05:\n",
    "    print(\" p-value > 0.05 이므로 귀무가설 채택. 등분산성을 만족한다.\")\n",
    "print()"
   ]
  },
  {
   "cell_type": "markdown",
   "id": "ac9813fd",
   "metadata": {},
   "source": [
    "#### 3.2.2. Levene's Test"
   ]
  },
  {
   "cell_type": "code",
   "execution_count": 86,
   "id": "1afdcca3",
   "metadata": {},
   "outputs": [
    {
     "name": "stdout",
     "output_type": "stream",
     "text": [
      " Statistic(Levene's Test): 19.431 \n",
      " P-value: 0.000020435285 \n",
      " p-value < 0.05 이므로 귀무가설 기각. 등분산성을 만족하지 않는다.\n",
      "\n"
     ]
    }
   ],
   "source": [
    "# scipy.stats.levene( sample1, sample2,…,\n",
    "#                     center = 'median',    # 검정에 사용할 통계값의 종류. 'mean’, ‘median’, ‘trimmed’\n",
    "#                                           # 기본값은 ‘median’.\n",
    "#                     proportiontocut = 0.05 )    # center 옵션에 ‘trimmed’ 을 지정할 경우. 데이터의 각 끝으로부터 잘라내는 지점의 비율을 지정.\n",
    "#                                                 # 기본값은 0.05.\n",
    "\n",
    "levene_test = stats.levene( cats_bwt_m, cats_bwt_f )\n",
    "\n",
    "print( f\" Statistic(Levene's Test): {levene_test[0]:.3f} \\n P-value: {levene_test[1]:.12f} \" )\n",
    "\n",
    "if levene_test[1] < 0.05:\n",
    "    print(\" p-value < 0.05 이므로 귀무가설 기각. 등분산성을 만족하지 않는다.\")\n",
    "if levene_test[1] > 0.05:\n",
    "    print(\" p-value > 0.05 이므로 귀무가설 채택. 등분산성을 만족한다.\")\n",
    "print()"
   ]
  },
  {
   "cell_type": "markdown",
   "id": "2b636a32",
   "metadata": {},
   "source": [
    "####  3.2.3. Fligner’s Test"
   ]
  },
  {
   "cell_type": "code",
   "execution_count": 87,
   "id": "f25c4070",
   "metadata": {},
   "outputs": [
    {
     "name": "stdout",
     "output_type": "stream",
     "text": [
      " Statistic(Fligner’s Test): 16.909 \n",
      " P-value: 0.000039210381 \n",
      " p-value < 0.05 이므로 귀무가설 기각. 등분산성을 만족하지 않는다.\n",
      "\n"
     ]
    }
   ],
   "source": [
    "# scipy.stats.fligner( sample1, sample2,…,\n",
    "#                      center = 'median',    # 검정에 사용할 통계값의 종류. 'mean’, ‘median’, ‘trimmed’\n",
    "#                                            # 기본값은 ‘median’.\n",
    "#                      proportiontocut = 0.05 )    # center 옵션에 ‘trimmed’ 을 지정할 경우. 데이터의 각 끝으로부터 잘라내는 지점의 비율을 지정.\n",
    "#                                                  # 기본값은 0.05.\n",
    "\n",
    "fligner_test = stats.fligner( cats_bwt_m, cats_bwt_f )\n",
    "\n",
    "print( f\" Statistic(Fligner’s Test): {fligner_test[0]:.3f} \\n P-value: {fligner_test[1]:.12f} \" )\n",
    "\n",
    "if fligner_test[1] < 0.05:\n",
    "    print(\" p-value < 0.05 이므로 귀무가설 기각. 등분산성을 만족하지 않는다.\")\n",
    "if fligner_test[1] > 0.05:\n",
    "    print(\" p-value > 0.05 이므로 귀무가설 채택. 등분산성을 만족한다.\")\n",
    "print()"
   ]
  },
  {
   "cell_type": "markdown",
   "id": "1e483898",
   "metadata": {},
   "source": [
    "* 세 종류의 등분산 검정 결과 모두 P값이 유의수준 0.05 보다 작다. 귀무가설을 기각한다.  \n",
    "즉, 두 집단의 분산은 동일하지 않으므로 등분산 가정을 만족한다고 할 수 없다."
   ]
  },
  {
   "cell_type": "markdown",
   "id": "89956678",
   "metadata": {},
   "source": [
    "#### 3.3. 독립표본 T-검정  \n",
    "< 가설 설정 - T-검정 >  \n",
    "\n",
    "귀무가설(H0) : 고양이의 성별에 따른 평균 몸무게에는 통계적으로 유의한 차이가 없다.  \n",
    "대립가설(H1) : 고양이의 성별에 따른 평균 몸무게에는 통계적으로 유의한 차이가 있다.  \n",
    "< 유의수준은 0.05 로 설정 >"
   ]
  },
  {
   "cell_type": "code",
   "execution_count": 88,
   "id": "9559d8ca",
   "metadata": {},
   "outputs": [
    {
     "name": "stdout",
     "output_type": "stream",
     "text": [
      " Statistic(t-Value): 8.709 \n",
      " P-value: 0.00000000000000883103\n",
      " p-value < 0.05 이므로 귀무가설 기각. \n",
      " 두 집단 사이에는 통계적으로 유의한 차이가 있다.\n",
      "\n"
     ]
    }
   ],
   "source": [
    "# 독립 표본 t 검정, equal_var = True 분산차이는 없다\n",
    "indepen_t_test = stats.ttest_ind( cats_bwt_m, cats_bwt_f,\n",
    "                                  alternative = 'two-sided',\n",
    "                                  equal_var = False )\n",
    "\n",
    "print( f' Statistic(t-Value): {indepen_t_test[0]:.3f} \\n P-value: {indepen_t_test[1]:.20f}' )\n",
    "\n",
    "if indepen_t_test[1] < 0.05:\n",
    "    print(\" p-value < 0.05 이므로 귀무가설 기각. \\n 두 집단 사이에는 통계적으로 유의한 차이가 있다.\")\n",
    "if indepen_t_test[1] > 0.05:\n",
    "    print(\" p-value > 0.05 이므로 귀무가설 채택. \\n 두 집단 사이에는 통계적으로 유의한 차이가 없다.\")\n",
    "print()"
   ]
  },
  {
   "cell_type": "markdown",
   "id": "f982698e",
   "metadata": {},
   "source": [
    "* Independent Sample T-Test 결과, P값이 유의수준 0.05 보다 작으므로 귀무가설을 기각한다.  \n",
    "즉, 고양이의 성별에 따른 평균 몸무게에는 통계적으로 유의한 차이가 있다고 말할 수 있다."
   ]
  }
 ],
 "metadata": {
  "kernelspec": {
   "display_name": "Python 3 (ipykernel)",
   "language": "python",
   "name": "python3"
  },
  "language_info": {
   "codemirror_mode": {
    "name": "ipython",
    "version": 3
   },
   "file_extension": ".py",
   "mimetype": "text/x-python",
   "name": "python",
   "nbconvert_exporter": "python",
   "pygments_lexer": "ipython3",
   "version": "3.8.10"
  }
 },
 "nbformat": 4,
 "nbformat_minor": 5
}
